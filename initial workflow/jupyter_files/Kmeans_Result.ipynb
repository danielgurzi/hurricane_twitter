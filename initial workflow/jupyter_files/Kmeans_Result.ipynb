{
 "cells": [
  {
   "cell_type": "code",
   "execution_count": 5,
   "metadata": {
    "pycharm": {
     "is_executing": false
    }
   },
   "outputs": [],
   "source": [
    "from sklearn.cluster import KMeans\n",
    "\n",
    "from process_tweets import process_data_by_tweet, custom_words\n",
    "from sklearn.feature_extraction.text import TfidfVectorizer\n",
    "from IPython.display import display\n",
    "import sys\n",
    "import os\n",
    "sys.path.insert(0, os.path.abspath('./code/'))"
   ]
  },
  {
   "cell_type": "code",
   "execution_count": 6,
   "metadata": {
    "collapsed": false,
    "jupyter": {
     "outputs_hidden": false
    },
    "pycharm": {
     "is_executing": false,
     "name": "#%%\n"
    }
   },
   "outputs": [
    {
     "data": {
      "text/html": [
       "<div>\n",
       "<style scoped>\n",
       "    .dataframe tbody tr th:only-of-type {\n",
       "        vertical-align: middle;\n",
       "    }\n",
       "\n",
       "    .dataframe tbody tr th {\n",
       "        vertical-align: top;\n",
       "    }\n",
       "\n",
       "    .dataframe thead th {\n",
       "        text-align: right;\n",
       "    }\n",
       "</style>\n",
       "<table border=\"1\" class=\"dataframe\">\n",
       "  <thead>\n",
       "    <tr style=\"text-align: right;\">\n",
       "      <th></th>\n",
       "      <th>predictions</th>\n",
       "      <th>id</th>\n",
       "      <th>text</th>\n",
       "    </tr>\n",
       "  </thead>\n",
       "  <tbody>\n",
       "    <tr>\n",
       "      <th>0</th>\n",
       "      <td>0</td>\n",
       "      <td>1046105149868036096</td>\n",
       "      <td>come lake survivors need</td>\n",
       "    </tr>\n",
       "    <tr>\n",
       "      <th>1</th>\n",
       "      <td>0</td>\n",
       "      <td>1045798088919592960</td>\n",
       "      <td>ranchfire maybe ugh recent zones staysafe</td>\n",
       "    </tr>\n",
       "    <tr>\n",
       "      <th>2</th>\n",
       "      <td>1</td>\n",
       "      <td>1045771357429137408</td>\n",
       "      <td>going post time involved carrfire fires final ...</td>\n",
       "    </tr>\n",
       "    <tr>\n",
       "      <th>3</th>\n",
       "      <td>0</td>\n",
       "      <td>1045759069170987008</td>\n",
       "      <td>surpassed total acres burned sept current ytd ...</td>\n",
       "    </tr>\n",
       "    <tr>\n",
       "      <th>4</th>\n",
       "      <td>0</td>\n",
       "      <td>1045758507486654465</td>\n",
       "      <td>surpassed total acres burned sept current ytd ...</td>\n",
       "    </tr>\n",
       "    <tr>\n",
       "      <th>5</th>\n",
       "      <td>1</td>\n",
       "      <td>1045547140402024449</td>\n",
       "      <td>psssst involved carrfire fires week iis final ...</td>\n",
       "    </tr>\n",
       "    <tr>\n",
       "      <th>6</th>\n",
       "      <td>0</td>\n",
       "      <td>1045013754721656833</td>\n",
       "      <td>icymi watch video caltranshq showing caltrans ...</td>\n",
       "    </tr>\n",
       "    <tr>\n",
       "      <th>7</th>\n",
       "      <td>0</td>\n",
       "      <td>1044714161018560512</td>\n",
       "      <td>reminder pawneefire survivors deadline submit ...</td>\n",
       "    </tr>\n",
       "    <tr>\n",
       "      <th>8</th>\n",
       "      <td>0</td>\n",
       "      <td>1044650318481375232</td>\n",
       "      <td>time radio interview mind body health kzyx tal...</td>\n",
       "    </tr>\n",
       "    <tr>\n",
       "      <th>9</th>\n",
       "      <td>0</td>\n",
       "      <td>1044396262504591360</td>\n",
       "      <td>hrec looking scar high seed mortality gophers ...</td>\n",
       "    </tr>\n",
       "    <tr>\n",
       "      <th>10</th>\n",
       "      <td>0</td>\n",
       "      <td>1044311041226637312</td>\n",
       "      <td>started july burned acres colusa lake glenn la...</td>\n",
       "    </tr>\n",
       "  </tbody>\n",
       "</table>\n",
       "</div>"
      ],
      "text/plain": [
       "    predictions                   id  \\\n",
       "0             0  1046105149868036096   \n",
       "1             0  1045798088919592960   \n",
       "2             1  1045771357429137408   \n",
       "3             0  1045759069170987008   \n",
       "4             0  1045758507486654465   \n",
       "5             1  1045547140402024449   \n",
       "6             0  1045013754721656833   \n",
       "7             0  1044714161018560512   \n",
       "8             0  1044650318481375232   \n",
       "9             0  1044396262504591360   \n",
       "10            0  1044311041226637312   \n",
       "\n",
       "                                                 text  \n",
       "0                            come lake survivors need  \n",
       "1           ranchfire maybe ugh recent zones staysafe  \n",
       "2   going post time involved carrfire fires final ...  \n",
       "3   surpassed total acres burned sept current ytd ...  \n",
       "4   surpassed total acres burned sept current ytd ...  \n",
       "5   psssst involved carrfire fires week iis final ...  \n",
       "6   icymi watch video caltranshq showing caltrans ...  \n",
       "7   reminder pawneefire survivors deadline submit ...  \n",
       "8   time radio interview mind body health kzyx tal...  \n",
       "9   hrec looking scar high seed mortality gophers ...  \n",
       "10  started july burned acres colusa lake glenn la...  "
      ]
     },
     "metadata": {},
     "output_type": "display_data"
    }
   ],
   "source": [
    "dataframe = process_data_by_tweet('../data/mendocinocomplex_pre.csv')\n",
    "\n",
    "tfidf_vec = TfidfVectorizer(max_features=1000, ngram_range=(1, 2),\n",
    "                        stop_words=custom_words)\n",
    "tfidf = tfidf_vec.fit_transform(dataframe['lemmatized_tweets'])\n",
    "kmeans = KMeans(n_clusters=2).fit(tfidf)\n",
    "# lines_for_predicting = [\"tf and idf is awesome!\", \"some androids is there\"]\n",
    "# preds = kmeans.predict(tfidf_vec.transform(lines_for_predicting))\n",
    "clusters = kmeans.cluster_centers_\n",
    "dataframe['predictions'] = kmeans.predict(tfidf)\n",
    "display(dataframe[['predictions','id','text']])"
   ]
  },
  {
   "cell_type": "code",
   "execution_count": null,
   "metadata": {},
   "outputs": [],
   "source": [
    "dataframe['id']"
   ]
  }
 ],
 "metadata": {
  "kernelspec": {
   "display_name": "Python 3",
   "language": "python",
   "name": "python3"
  },
  "language_info": {
   "codemirror_mode": {
    "name": "ipython",
    "version": 3
   },
   "file_extension": ".py",
   "mimetype": "text/x-python",
   "name": "python",
   "nbconvert_exporter": "python",
   "pygments_lexer": "ipython3",
   "version": "3.7.7"
  },
  "pycharm": {
   "stem_cell": {
    "cell_type": "raw",
    "metadata": {
     "collapsed": false
    },
    "source": []
   }
  }
 },
 "nbformat": 4,
 "nbformat_minor": 4
}
