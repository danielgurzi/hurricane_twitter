{
 "cells": [
  {
   "cell_type": "markdown",
   "metadata": {},
   "source": [
    "# Botometer Processing Notebook\n",
    "\n",
    "We decided to use a Python package called to Botometer to help with our analysis. The Botometer is a tool developed by researchers at the Indiana University Network Science Institute (IUNI) and the Center for Complex Networks and Systems Research (CNetS). Scores are displayed as percentages. These percentages are the probability that a twitter account is human or bot; the closer to 0 a score is the higher the likelihood it is a human and the closer to 1 a score is the higher the likelihood it is a bot. According to the Botometer’s website, the “probability calculation uses Bayes’ theorem to take into account an estimate of the overall prevalence of bots, so as to balance false positives with false negatives”.(https://botometer.iuni.iu.edu/#!/faq#what-is-cap) For more information, See Maninder's blog post about the Botometer here: https://medium.com/@m.virk1/botometer-eac76a270516. "
   ]
  },
  {
   "cell_type": "markdown",
   "metadata": {},
   "source": [
    "### Contents:\n",
    "- [Reading in and Inspecting Data](#Reading-in-and-Inspecting-Data)\n",
    "- [Getting the Botometer Running](#Getting-the-Botometer-Running)\n",
    "- [Making a Usable DataFrame from Botometer Data](#Making-a-Usable-DataFrame-from-Botometer-Data)\n",
    "- [Merging, Inspecting, and Preparing the DataFrame](#Merging,-Inspecting,-and-Preparing-the-DataFrame)\n",
    "- [Prepping Data for NLP Classification Modeling ](#Prepping-Data-for-NLP-Classification-Modeling)"
   ]
  },
  {
   "cell_type": "code",
   "execution_count": 1,
   "metadata": {},
   "outputs": [],
   "source": [
    "# Importing packages needed for Data Cleaning and EDA\n",
    "import pandas as pd \n",
    "import matplotlib.pyplot as plt\n",
    "import botometer"
   ]
  },
  {
   "cell_type": "markdown",
   "metadata": {},
   "source": [
    "### Reading in and Inspecting Data"
   ]
  },
  {
   "cell_type": "code",
   "execution_count": 2,
   "metadata": {},
   "outputs": [],
   "source": [
    "# Reading in my proprocessed csv to pandas\n",
    "twitter = pd.read_csv('./data/data_for_bots.csv')"
   ]
  },
  {
   "cell_type": "code",
   "execution_count": 3,
   "metadata": {},
   "outputs": [
    {
     "data": {
      "text/plain": [
       "(28479, 10)"
      ]
     },
     "execution_count": 3,
     "metadata": {},
     "output_type": "execute_result"
    }
   ],
   "source": [
    "# Checking the shape of my dataframe \n",
    "twitter.shape"
   ]
  },
  {
   "cell_type": "code",
   "execution_count": 4,
   "metadata": {},
   "outputs": [
    {
     "data": {
      "text/html": [
       "<div>\n",
       "<style scoped>\n",
       "    .dataframe tbody tr th:only-of-type {\n",
       "        vertical-align: middle;\n",
       "    }\n",
       "\n",
       "    .dataframe tbody tr th {\n",
       "        vertical-align: top;\n",
       "    }\n",
       "\n",
       "    .dataframe thead th {\n",
       "        text-align: right;\n",
       "    }\n",
       "</style>\n",
       "<table border=\"1\" class=\"dataframe\">\n",
       "  <thead>\n",
       "    <tr style=\"text-align: right;\">\n",
       "      <th></th>\n",
       "      <th>date</th>\n",
       "      <th>text</th>\n",
       "      <th>username</th>\n",
       "      <th>id</th>\n",
       "      <th>link</th>\n",
       "      <th>tweet_to</th>\n",
       "      <th>times_retweeted</th>\n",
       "      <th>times_favorited</th>\n",
       "      <th>mentions</th>\n",
       "      <th>hashtags</th>\n",
       "    </tr>\n",
       "  </thead>\n",
       "  <tbody>\n",
       "    <tr>\n",
       "      <th>0</th>\n",
       "      <td>2019-10-10 23:12:29+00:00</td>\n",
       "      <td>California Wildfires &amp;amp; Power Outage - LIVE...</td>\n",
       "      <td>@mary_tanasy</td>\n",
       "      <td>1182433749511921670</td>\n",
       "      <td>https://twitter.com/mary_tanasy/status/1182433...</td>\n",
       "      <td>_</td>\n",
       "      <td>0</td>\n",
       "      <td>0</td>\n",
       "      <td>@YouTube</td>\n",
       "      <td>_</td>\n",
       "    </tr>\n",
       "    <tr>\n",
       "      <th>1</th>\n",
       "      <td>2019-11-02 21:48:05+00:00</td>\n",
       "      <td>#California #Wildfires Signal the Arrival of a...</td>\n",
       "      <td>@desirablefuture</td>\n",
       "      <td>1190747430104522752</td>\n",
       "      <td>https://twitter.com/desirablefuture/status/119...</td>\n",
       "      <td>_</td>\n",
       "      <td>0</td>\n",
       "      <td>0</td>\n",
       "      <td>_</td>\n",
       "      <td>#California #Wildfires</td>\n",
       "    </tr>\n",
       "    <tr>\n",
       "      <th>2</th>\n",
       "      <td>2019-10-26 22:18:34+00:00</td>\n",
       "      <td>California prepares for biggest blackout yet h...</td>\n",
       "      <td>@oneconcerninc</td>\n",
       "      <td>1188218386666401793</td>\n",
       "      <td>https://twitter.com/oneconcerninc/status/11882...</td>\n",
       "      <td>_</td>\n",
       "      <td>0</td>\n",
       "      <td>1</td>\n",
       "      <td>_</td>\n",
       "      <td>#california #wildfires #calfire</td>\n",
       "    </tr>\n",
       "    <tr>\n",
       "      <th>3</th>\n",
       "      <td>2019-11-02 22:56:01+00:00</td>\n",
       "      <td>THANK YOU FIREFIGHTERS: Dramatic photos illust...</td>\n",
       "      <td>@renewalof48</td>\n",
       "      <td>1190764526494502913</td>\n",
       "      <td>https://twitter.com/renewalof48/status/1190764...</td>\n",
       "      <td>_</td>\n",
       "      <td>0</td>\n",
       "      <td>0</td>\n",
       "      <td>_</td>\n",
       "      <td>_</td>\n",
       "    </tr>\n",
       "    <tr>\n",
       "      <th>4</th>\n",
       "      <td>2019-11-09 15:40:52+00:00</td>\n",
       "      <td>Trump says he has ordered FEMA to cut off fund...</td>\n",
       "      <td>@GabyDore</td>\n",
       "      <td>1193191734701776896</td>\n",
       "      <td>https://twitter.com/GabyDore/status/1193191734...</td>\n",
       "      <td>_</td>\n",
       "      <td>0</td>\n",
       "      <td>0</td>\n",
       "      <td>_</td>\n",
       "      <td>_</td>\n",
       "    </tr>\n",
       "  </tbody>\n",
       "</table>\n",
       "</div>"
      ],
      "text/plain": [
       "                        date  \\\n",
       "0  2019-10-10 23:12:29+00:00   \n",
       "1  2019-11-02 21:48:05+00:00   \n",
       "2  2019-10-26 22:18:34+00:00   \n",
       "3  2019-11-02 22:56:01+00:00   \n",
       "4  2019-11-09 15:40:52+00:00   \n",
       "\n",
       "                                                text          username  \\\n",
       "0  California Wildfires &amp; Power Outage - LIVE...      @mary_tanasy   \n",
       "1  #California #Wildfires Signal the Arrival of a...  @desirablefuture   \n",
       "2  California prepares for biggest blackout yet h...    @oneconcerninc   \n",
       "3  THANK YOU FIREFIGHTERS: Dramatic photos illust...      @renewalof48   \n",
       "4  Trump says he has ordered FEMA to cut off fund...         @GabyDore   \n",
       "\n",
       "                    id                                               link  \\\n",
       "0  1182433749511921670  https://twitter.com/mary_tanasy/status/1182433...   \n",
       "1  1190747430104522752  https://twitter.com/desirablefuture/status/119...   \n",
       "2  1188218386666401793  https://twitter.com/oneconcerninc/status/11882...   \n",
       "3  1190764526494502913  https://twitter.com/renewalof48/status/1190764...   \n",
       "4  1193191734701776896  https://twitter.com/GabyDore/status/1193191734...   \n",
       "\n",
       "  tweet_to  times_retweeted  times_favorited  mentions  \\\n",
       "0        _                0                0  @YouTube   \n",
       "1        _                0                0         _   \n",
       "2        _                0                1         _   \n",
       "3        _                0                0         _   \n",
       "4        _                0                0         _   \n",
       "\n",
       "                          hashtags  \n",
       "0                                _  \n",
       "1           #California #Wildfires  \n",
       "2  #california #wildfires #calfire  \n",
       "3                                _  \n",
       "4                                _  "
      ]
     },
     "execution_count": 4,
     "metadata": {},
     "output_type": "execute_result"
    }
   ],
   "source": [
    "# Seeing what my dataframe looks like \n",
    "twitter.head()"
   ]
  },
  {
   "cell_type": "code",
   "execution_count": 5,
   "metadata": {},
   "outputs": [
    {
     "data": {
      "text/plain": [
       "18765"
      ]
     },
     "execution_count": 5,
     "metadata": {},
     "output_type": "execute_result"
    }
   ],
   "source": [
    "# Seeing how many unique user names there are in my dataframe \n",
    "twitter['username'].nunique()"
   ]
  },
  {
   "cell_type": "markdown",
   "metadata": {},
   "source": [
    "### Getting the Botometer Running "
   ]
  },
  {
   "cell_type": "code",
   "execution_count": 6,
   "metadata": {},
   "outputs": [],
   "source": [
    "# Putting my usernames in a list for processing in the botometer \n",
    "username_list = twitter['username'].tolist()"
   ]
  },
  {
   "cell_type": "code",
   "execution_count": 7,
   "metadata": {},
   "outputs": [],
   "source": [
    "# Where one would put in their Twitter API credentials and rapid api key and then instantiate a botometer \n",
    "rapidapi_key = \"XXXXXXXXXXX\" # now it's called rapidapi key\n",
    "twitter_app_auth = {\n",
    "    'consumer_key': 'XXXXXXXXXX',\n",
    "    'consumer_secret': 'XXXXXXXXXX',\n",
    "    'access_token': 'XXXXXXXXXX',\n",
    "    'access_token_secret': 'XXXXXXXXXX',\n",
    "  }\n",
    "bom = botometer.Botometer(wait_on_ratelimit=True,\n",
    "                          rapidapi_key=rapidapi_key,\n",
    "                          **twitter_app_auth)"
   ]
  },
  {
   "cell_type": "code",
   "execution_count": 59,
   "metadata": {},
   "outputs": [],
   "source": [
    "# Check a sequence of accounts\n",
    "results = []    \n",
    "accounts = username_list\n",
    "for screen_name, result in bom.check_accounts_in(accounts):\n",
    "    results.append(result)"
   ]
  },
  {
   "cell_type": "code",
   "execution_count": 60,
   "metadata": {},
   "outputs": [
    {
     "data": {
      "text/plain": [
       "1000"
      ]
     },
     "execution_count": 60,
     "metadata": {},
     "output_type": "execute_result"
    }
   ],
   "source": [
    "# Checking the length of my results to make sure I got what I was expecting \n",
    "len(results)"
   ]
  },
  {
   "cell_type": "markdown",
   "metadata": {},
   "source": [
    "### Making a Usable DataFrame from Botometer Data"
   ]
  },
  {
   "cell_type": "code",
   "execution_count": 61,
   "metadata": {},
   "outputs": [
    {
     "data": {
      "text/html": [
       "<div>\n",
       "<style scoped>\n",
       "    .dataframe tbody tr th:only-of-type {\n",
       "        vertical-align: middle;\n",
       "    }\n",
       "\n",
       "    .dataframe tbody tr th {\n",
       "        vertical-align: top;\n",
       "    }\n",
       "\n",
       "    .dataframe thead th {\n",
       "        text-align: right;\n",
       "    }\n",
       "</style>\n",
       "<table border=\"1\" class=\"dataframe\">\n",
       "  <thead>\n",
       "    <tr style=\"text-align: right;\">\n",
       "      <th></th>\n",
       "      <th>bot_rating</th>\n",
       "      <th>username</th>\n",
       "    </tr>\n",
       "  </thead>\n",
       "  <tbody>\n",
       "    <tr>\n",
       "      <th>0</th>\n",
       "      <td>0.001419</td>\n",
       "      <td>charlenecolem15</td>\n",
       "    </tr>\n",
       "    <tr>\n",
       "      <th>1</th>\n",
       "      <td>0.001828</td>\n",
       "      <td>AndreaCarlaSM</td>\n",
       "    </tr>\n",
       "    <tr>\n",
       "      <th>2</th>\n",
       "      <td>0.011259</td>\n",
       "      <td>Livingstrong67</td>\n",
       "    </tr>\n",
       "    <tr>\n",
       "      <th>3</th>\n",
       "      <td>0.002080</td>\n",
       "      <td>BoboSalish</td>\n",
       "    </tr>\n",
       "    <tr>\n",
       "      <th>4</th>\n",
       "      <td>0.014544</td>\n",
       "      <td>JstJayne</td>\n",
       "    </tr>\n",
       "  </tbody>\n",
       "</table>\n",
       "</div>"
      ],
      "text/plain": [
       "   bot_rating          username\n",
       "0    0.001419   charlenecolem15\n",
       "1    0.001828     AndreaCarlaSM\n",
       "2    0.011259    Livingstrong67\n",
       "3    0.002080        BoboSalish\n",
       "4    0.014544          JstJayne"
      ]
     },
     "execution_count": 61,
     "metadata": {},
     "output_type": "execute_result"
    }
   ],
   "source": [
    "# Taking my result list and making it into a dataframe called users_and_scores\n",
    "# Going through a series of pandas code to make my dataframe into just the username and botrating \n",
    "users_and_scores = pd.DataFrame(results)\n",
    "users_and_scores['cap'] = users_and_scores['cap'].astype(str)\n",
    "users_and_scores['bot_rating'] = users_and_scores['cap'].str.slice(12,30)\n",
    "users_and_scores['user'] = users_and_scores['user'].astype(str)\n",
    "users_and_scores['user'] = [data.split('screen_name')[-1] for data in users_and_scores['user']]\n",
    "users_and_scores['user'] = users_and_scores['user'].str.replace(\"'\", \"\")\n",
    "users_and_scores['user'] = users_and_scores['user'].replace(\" \", \"\")\n",
    "users_and_scores['user'] = users_and_scores['user'].str.replace(\":\", \"\")\n",
    "users_and_scores['user'] = users_and_scores['user'].str.replace(\"'\", \"\")\n",
    "users_and_scores['username'] = users_and_scores['user'].str.replace(\"}\", \"\")\n",
    "users_and_scores = users_and_scores.drop(columns=['cap', 'categories', 'display_scores', 'scores', 'user', 'error'])\n",
    "users_and_scores['bot_rating'] = pd.to_numeric(users_and_scores['bot_rating'], errors='coerce')\n",
    "users_and_scores.head()"
   ]
  },
  {
   "cell_type": "code",
   "execution_count": 62,
   "metadata": {},
   "outputs": [
    {
     "data": {
      "text/plain": [
       "(1000, 2)"
      ]
     },
     "execution_count": 62,
     "metadata": {},
     "output_type": "execute_result"
    }
   ],
   "source": [
    "# Checking the shape of my dataframe \n",
    "users_and_scores.shape"
   ]
  },
  {
   "cell_type": "code",
   "execution_count": 64,
   "metadata": {},
   "outputs": [
    {
     "data": {
      "text/html": [
       "<div>\n",
       "<style scoped>\n",
       "    .dataframe tbody tr th:only-of-type {\n",
       "        vertical-align: middle;\n",
       "    }\n",
       "\n",
       "    .dataframe tbody tr th {\n",
       "        vertical-align: top;\n",
       "    }\n",
       "\n",
       "    .dataframe thead th {\n",
       "        text-align: right;\n",
       "    }\n",
       "</style>\n",
       "<table border=\"1\" class=\"dataframe\">\n",
       "  <thead>\n",
       "    <tr style=\"text-align: right;\">\n",
       "      <th></th>\n",
       "      <th>index</th>\n",
       "      <th>date</th>\n",
       "      <th>text</th>\n",
       "      <th>username</th>\n",
       "      <th>id</th>\n",
       "      <th>link</th>\n",
       "      <th>tweet_to</th>\n",
       "      <th>times_retweeted</th>\n",
       "      <th>times_favorited</th>\n",
       "      <th>mentions</th>\n",
       "      <th>hashtags</th>\n",
       "    </tr>\n",
       "  </thead>\n",
       "  <tbody>\n",
       "    <tr>\n",
       "      <th>0</th>\n",
       "      <td>4000</td>\n",
       "      <td>2019-10-27 00:04:41+00:00</td>\n",
       "      <td>#californiawildfires</td>\n",
       "      <td>charlenecolem15</td>\n",
       "      <td>1188245093079105536</td>\n",
       "      <td>https://twitter.com/charlenecolem15/status/118...</td>\n",
       "      <td>_</td>\n",
       "      <td>0</td>\n",
       "      <td>1</td>\n",
       "      <td>_</td>\n",
       "      <td>#californiawildfires</td>\n",
       "    </tr>\n",
       "    <tr>\n",
       "      <th>1</th>\n",
       "      <td>4001</td>\n",
       "      <td>2019-11-04 14:44:37+00:00</td>\n",
       "      <td>Exactly. Get your shit together .@realDonaldTr...</td>\n",
       "      <td>AndreaCarlaSM</td>\n",
       "      <td>1191365638628839424</td>\n",
       "      <td>https://twitter.com/AndreaCarlaSM/status/11913...</td>\n",
       "      <td>latimes</td>\n",
       "      <td>0</td>\n",
       "      <td>1</td>\n",
       "      <td>@realDonaldTrump</td>\n",
       "      <td>#MakeAmericaCompetentAgain #MondayMood #Califo...</td>\n",
       "    </tr>\n",
       "    <tr>\n",
       "      <th>2</th>\n",
       "      <td>4002</td>\n",
       "      <td>2019-11-04 01:55:20+00:00</td>\n",
       "      <td>Did I miss Nancy and Kamala's press conference...</td>\n",
       "      <td>Livingstrong67</td>\n",
       "      <td>1191172044441956352</td>\n",
       "      <td>https://twitter.com/Livingstrong67/status/1191...</td>\n",
       "      <td>_</td>\n",
       "      <td>16</td>\n",
       "      <td>28</td>\n",
       "      <td>_</td>\n",
       "      <td>_</td>\n",
       "    </tr>\n",
       "    <tr>\n",
       "      <th>3</th>\n",
       "      <td>4003</td>\n",
       "      <td>2019-10-31 03:02:09+00:00</td>\n",
       "      <td>#californiawildfires</td>\n",
       "      <td>BoboSalish</td>\n",
       "      <td>1189739305515618306</td>\n",
       "      <td>https://twitter.com/BoboSalish/status/11897393...</td>\n",
       "      <td>OC_Scanner</td>\n",
       "      <td>0</td>\n",
       "      <td>0</td>\n",
       "      <td>_</td>\n",
       "      <td>#californiawildfires</td>\n",
       "    </tr>\n",
       "    <tr>\n",
       "      <th>4</th>\n",
       "      <td>4004</td>\n",
       "      <td>2019-11-04 19:32:56+00:00</td>\n",
       "      <td>Trump threatens to pull federal aid for Califo...</td>\n",
       "      <td>JstJayne</td>\n",
       "      <td>1191438196602744834</td>\n",
       "      <td>https://twitter.com/JstJayne/status/1191438196...</td>\n",
       "      <td>_</td>\n",
       "      <td>0</td>\n",
       "      <td>0</td>\n",
       "      <td>@NBCNews</td>\n",
       "      <td>_</td>\n",
       "    </tr>\n",
       "  </tbody>\n",
       "</table>\n",
       "</div>"
      ],
      "text/plain": [
       "   index                       date  \\\n",
       "0   4000  2019-10-27 00:04:41+00:00   \n",
       "1   4001  2019-11-04 14:44:37+00:00   \n",
       "2   4002  2019-11-04 01:55:20+00:00   \n",
       "3   4003  2019-10-31 03:02:09+00:00   \n",
       "4   4004  2019-11-04 19:32:56+00:00   \n",
       "\n",
       "                                                text         username  \\\n",
       "0                              #californiawildfires   charlenecolem15   \n",
       "1  Exactly. Get your shit together .@realDonaldTr...    AndreaCarlaSM   \n",
       "2  Did I miss Nancy and Kamala's press conference...   Livingstrong67   \n",
       "3                              #californiawildfires        BoboSalish   \n",
       "4  Trump threatens to pull federal aid for Califo...         JstJayne   \n",
       "\n",
       "                    id                                               link  \\\n",
       "0  1188245093079105536  https://twitter.com/charlenecolem15/status/118...   \n",
       "1  1191365638628839424  https://twitter.com/AndreaCarlaSM/status/11913...   \n",
       "2  1191172044441956352  https://twitter.com/Livingstrong67/status/1191...   \n",
       "3  1189739305515618306  https://twitter.com/BoboSalish/status/11897393...   \n",
       "4  1191438196602744834  https://twitter.com/JstJayne/status/1191438196...   \n",
       "\n",
       "     tweet_to  times_retweeted  times_favorited          mentions  \\\n",
       "0           _                0                1                 _   \n",
       "1     latimes                0                1  @realDonaldTrump   \n",
       "2           _               16               28                 _   \n",
       "3  OC_Scanner                0                0                 _   \n",
       "4           _                0                0          @NBCNews   \n",
       "\n",
       "                                            hashtags  \n",
       "0                               #californiawildfires  \n",
       "1  #MakeAmericaCompetentAgain #MondayMood #Califo...  \n",
       "2                                                  _  \n",
       "3                               #californiawildfires  \n",
       "4                                                  _  "
      ]
     },
     "execution_count": 64,
     "metadata": {},
     "output_type": "execute_result"
    }
   ],
   "source": [
    "# making a file called twitter 2 with the same indexing as I used on my username list\n",
    "# Reseting the index and eliminating the hashtag in the username\n",
    "# Saving my work to a csv just in case, also moving the number up by one\n",
    "twitter2 = twitter\n",
    "twitter2 = twitter2.reset_index()\n",
    "twitter2['username'] = twitter2['username'].str.replace('@', '')\n",
    "twitter2.head()"
   ]
  },
  {
   "cell_type": "markdown",
   "metadata": {},
   "source": [
    "### Merging, Inspecting, and Preparing the DataFrame"
   ]
  },
  {
   "cell_type": "code",
   "execution_count": 65,
   "metadata": {},
   "outputs": [
    {
     "data": {
      "text/html": [
       "<div>\n",
       "<style scoped>\n",
       "    .dataframe tbody tr th:only-of-type {\n",
       "        vertical-align: middle;\n",
       "    }\n",
       "\n",
       "    .dataframe tbody tr th {\n",
       "        vertical-align: top;\n",
       "    }\n",
       "\n",
       "    .dataframe thead th {\n",
       "        text-align: right;\n",
       "    }\n",
       "</style>\n",
       "<table border=\"1\" class=\"dataframe\">\n",
       "  <thead>\n",
       "    <tr style=\"text-align: right;\">\n",
       "      <th></th>\n",
       "      <th>index</th>\n",
       "      <th>date</th>\n",
       "      <th>text</th>\n",
       "      <th>username_x</th>\n",
       "      <th>id</th>\n",
       "      <th>link</th>\n",
       "      <th>tweet_to</th>\n",
       "      <th>times_retweeted</th>\n",
       "      <th>times_favorited</th>\n",
       "      <th>mentions</th>\n",
       "      <th>hashtags</th>\n",
       "      <th>bot_rating</th>\n",
       "      <th>username_y</th>\n",
       "    </tr>\n",
       "  </thead>\n",
       "  <tbody>\n",
       "    <tr>\n",
       "      <th>0</th>\n",
       "      <td>4000</td>\n",
       "      <td>2019-10-27 00:04:41+00:00</td>\n",
       "      <td>#californiawildfires</td>\n",
       "      <td>charlenecolem15</td>\n",
       "      <td>1188245093079105536</td>\n",
       "      <td>https://twitter.com/charlenecolem15/status/118...</td>\n",
       "      <td>_</td>\n",
       "      <td>0</td>\n",
       "      <td>1</td>\n",
       "      <td>_</td>\n",
       "      <td>#californiawildfires</td>\n",
       "      <td>0.001419</td>\n",
       "      <td>charlenecolem15</td>\n",
       "    </tr>\n",
       "    <tr>\n",
       "      <th>1</th>\n",
       "      <td>4001</td>\n",
       "      <td>2019-11-04 14:44:37+00:00</td>\n",
       "      <td>Exactly. Get your shit together .@realDonaldTr...</td>\n",
       "      <td>AndreaCarlaSM</td>\n",
       "      <td>1191365638628839424</td>\n",
       "      <td>https://twitter.com/AndreaCarlaSM/status/11913...</td>\n",
       "      <td>latimes</td>\n",
       "      <td>0</td>\n",
       "      <td>1</td>\n",
       "      <td>@realDonaldTrump</td>\n",
       "      <td>#MakeAmericaCompetentAgain #MondayMood #Califo...</td>\n",
       "      <td>0.001828</td>\n",
       "      <td>AndreaCarlaSM</td>\n",
       "    </tr>\n",
       "    <tr>\n",
       "      <th>2</th>\n",
       "      <td>4002</td>\n",
       "      <td>2019-11-04 01:55:20+00:00</td>\n",
       "      <td>Did I miss Nancy and Kamala's press conference...</td>\n",
       "      <td>Livingstrong67</td>\n",
       "      <td>1191172044441956352</td>\n",
       "      <td>https://twitter.com/Livingstrong67/status/1191...</td>\n",
       "      <td>_</td>\n",
       "      <td>16</td>\n",
       "      <td>28</td>\n",
       "      <td>_</td>\n",
       "      <td>_</td>\n",
       "      <td>0.011259</td>\n",
       "      <td>Livingstrong67</td>\n",
       "    </tr>\n",
       "    <tr>\n",
       "      <th>3</th>\n",
       "      <td>4003</td>\n",
       "      <td>2019-10-31 03:02:09+00:00</td>\n",
       "      <td>#californiawildfires</td>\n",
       "      <td>BoboSalish</td>\n",
       "      <td>1189739305515618306</td>\n",
       "      <td>https://twitter.com/BoboSalish/status/11897393...</td>\n",
       "      <td>OC_Scanner</td>\n",
       "      <td>0</td>\n",
       "      <td>0</td>\n",
       "      <td>_</td>\n",
       "      <td>#californiawildfires</td>\n",
       "      <td>0.002080</td>\n",
       "      <td>BoboSalish</td>\n",
       "    </tr>\n",
       "    <tr>\n",
       "      <th>4</th>\n",
       "      <td>4004</td>\n",
       "      <td>2019-11-04 19:32:56+00:00</td>\n",
       "      <td>Trump threatens to pull federal aid for Califo...</td>\n",
       "      <td>JstJayne</td>\n",
       "      <td>1191438196602744834</td>\n",
       "      <td>https://twitter.com/JstJayne/status/1191438196...</td>\n",
       "      <td>_</td>\n",
       "      <td>0</td>\n",
       "      <td>0</td>\n",
       "      <td>@NBCNews</td>\n",
       "      <td>_</td>\n",
       "      <td>0.014544</td>\n",
       "      <td>JstJayne</td>\n",
       "    </tr>\n",
       "  </tbody>\n",
       "</table>\n",
       "</div>"
      ],
      "text/plain": [
       "   index                       date  \\\n",
       "0   4000  2019-10-27 00:04:41+00:00   \n",
       "1   4001  2019-11-04 14:44:37+00:00   \n",
       "2   4002  2019-11-04 01:55:20+00:00   \n",
       "3   4003  2019-10-31 03:02:09+00:00   \n",
       "4   4004  2019-11-04 19:32:56+00:00   \n",
       "\n",
       "                                                text       username_x  \\\n",
       "0                              #californiawildfires   charlenecolem15   \n",
       "1  Exactly. Get your shit together .@realDonaldTr...    AndreaCarlaSM   \n",
       "2  Did I miss Nancy and Kamala's press conference...   Livingstrong67   \n",
       "3                              #californiawildfires        BoboSalish   \n",
       "4  Trump threatens to pull federal aid for Califo...         JstJayne   \n",
       "\n",
       "                    id                                               link  \\\n",
       "0  1188245093079105536  https://twitter.com/charlenecolem15/status/118...   \n",
       "1  1191365638628839424  https://twitter.com/AndreaCarlaSM/status/11913...   \n",
       "2  1191172044441956352  https://twitter.com/Livingstrong67/status/1191...   \n",
       "3  1189739305515618306  https://twitter.com/BoboSalish/status/11897393...   \n",
       "4  1191438196602744834  https://twitter.com/JstJayne/status/1191438196...   \n",
       "\n",
       "     tweet_to  times_retweeted  times_favorited          mentions  \\\n",
       "0           _                0                1                 _   \n",
       "1     latimes                0                1  @realDonaldTrump   \n",
       "2           _               16               28                 _   \n",
       "3  OC_Scanner                0                0                 _   \n",
       "4           _                0                0          @NBCNews   \n",
       "\n",
       "                                            hashtags  bot_rating  \\\n",
       "0                               #californiawildfires    0.001419   \n",
       "1  #MakeAmericaCompetentAgain #MondayMood #Califo...    0.001828   \n",
       "2                                                  _    0.011259   \n",
       "3                               #californiawildfires    0.002080   \n",
       "4                                                  _    0.014544   \n",
       "\n",
       "         username_y  \n",
       "0   charlenecolem15  \n",
       "1     AndreaCarlaSM  \n",
       "2    Livingstrong67  \n",
       "3        BoboSalish  \n",
       "4          JstJayne  "
      ]
     },
     "execution_count": 65,
     "metadata": {},
     "output_type": "execute_result"
    }
   ],
   "source": [
    "# Merging my dataframe on the index, also doing .head to make sure the usernames match on both sides \n",
    "twitter_bots = twitter2.merge(users_and_scores, left_index=True, right_index=True)\n",
    "twitter_bots.head()"
   ]
  },
  {
   "cell_type": "code",
   "execution_count": 66,
   "metadata": {},
   "outputs": [
    {
     "data": {
      "text/html": [
       "<div>\n",
       "<style scoped>\n",
       "    .dataframe tbody tr th:only-of-type {\n",
       "        vertical-align: middle;\n",
       "    }\n",
       "\n",
       "    .dataframe tbody tr th {\n",
       "        vertical-align: top;\n",
       "    }\n",
       "\n",
       "    .dataframe thead th {\n",
       "        text-align: right;\n",
       "    }\n",
       "</style>\n",
       "<table border=\"1\" class=\"dataframe\">\n",
       "  <thead>\n",
       "    <tr style=\"text-align: right;\">\n",
       "      <th></th>\n",
       "      <th>index</th>\n",
       "      <th>date</th>\n",
       "      <th>text</th>\n",
       "      <th>username_x</th>\n",
       "      <th>id</th>\n",
       "      <th>link</th>\n",
       "      <th>tweet_to</th>\n",
       "      <th>times_retweeted</th>\n",
       "      <th>times_favorited</th>\n",
       "      <th>mentions</th>\n",
       "      <th>hashtags</th>\n",
       "      <th>bot_rating</th>\n",
       "      <th>username_y</th>\n",
       "    </tr>\n",
       "  </thead>\n",
       "  <tbody>\n",
       "    <tr>\n",
       "      <th>995</th>\n",
       "      <td>4995</td>\n",
       "      <td>2019-10-30 14:48:47+00:00</td>\n",
       "      <td>My appearance on Fox &amp; Friends this morning: D...</td>\n",
       "      <td>ChuckDeVore</td>\n",
       "      <td>1189554748074135554</td>\n",
       "      <td>https://twitter.com/ChuckDeVore/status/1189554...</td>\n",
       "      <td>garysteveneaton</td>\n",
       "      <td>3</td>\n",
       "      <td>3</td>\n",
       "      <td>_</td>\n",
       "      <td>_</td>\n",
       "      <td>0.001725</td>\n",
       "      <td>ChuckDeVore</td>\n",
       "    </tr>\n",
       "    <tr>\n",
       "      <th>996</th>\n",
       "      <td>4996</td>\n",
       "      <td>2019-10-30 09:53:25+00:00</td>\n",
       "      <td>California wildfires: What you need to know - ...</td>\n",
       "      <td>KoltovskoyYakov</td>\n",
       "      <td>1189480414802522114</td>\n",
       "      <td>https://twitter.com/KoltovskoyYakov/status/118...</td>\n",
       "      <td>_</td>\n",
       "      <td>0</td>\n",
       "      <td>0</td>\n",
       "      <td>_</td>\n",
       "      <td>_</td>\n",
       "      <td>0.286869</td>\n",
       "      <td>KoltovskoyYakov</td>\n",
       "    </tr>\n",
       "    <tr>\n",
       "      <th>997</th>\n",
       "      <td>4997</td>\n",
       "      <td>2019-11-04 13:30:13+00:00</td>\n",
       "      <td>'No more': Trump says he'll cut off federal fu...</td>\n",
       "      <td>puffandwhit</td>\n",
       "      <td>1191346916321300482</td>\n",
       "      <td>https://twitter.com/puffandwhit/status/1191346...</td>\n",
       "      <td>_</td>\n",
       "      <td>0</td>\n",
       "      <td>0</td>\n",
       "      <td>_</td>\n",
       "      <td>_</td>\n",
       "      <td>0.085904</td>\n",
       "      <td>puffandwhit</td>\n",
       "    </tr>\n",
       "    <tr>\n",
       "      <th>998</th>\n",
       "      <td>4998</td>\n",
       "      <td>2019-10-29 20:34:47+00:00</td>\n",
       "      <td>\"Oh Maria, you've been missing from Twitter fo...</td>\n",
       "      <td>mariakzurek</td>\n",
       "      <td>1189279434148384770</td>\n",
       "      <td>https://twitter.com/mariakzurek/status/1189279...</td>\n",
       "      <td>_</td>\n",
       "      <td>1</td>\n",
       "      <td>50</td>\n",
       "      <td>@BerkeleyLab</td>\n",
       "      <td>#PSPS</td>\n",
       "      <td>0.024702</td>\n",
       "      <td>mariakzurek</td>\n",
       "    </tr>\n",
       "    <tr>\n",
       "      <th>999</th>\n",
       "      <td>4999</td>\n",
       "      <td>2019-11-06 14:31:13+00:00</td>\n",
       "      <td>And you can be sure that the people who make t...</td>\n",
       "      <td>IMMAlab</td>\n",
       "      <td>1192087042185928704</td>\n",
       "      <td>https://twitter.com/IMMAlab/status/11920870421...</td>\n",
       "      <td>JMPyper</td>\n",
       "      <td>0</td>\n",
       "      <td>0</td>\n",
       "      <td>_</td>\n",
       "      <td>#ClimateChange #CaliforniaWildfires</td>\n",
       "      <td>0.002080</td>\n",
       "      <td>IMMAlab</td>\n",
       "    </tr>\n",
       "  </tbody>\n",
       "</table>\n",
       "</div>"
      ],
      "text/plain": [
       "     index                       date  \\\n",
       "995   4995  2019-10-30 14:48:47+00:00   \n",
       "996   4996  2019-10-30 09:53:25+00:00   \n",
       "997   4997  2019-11-04 13:30:13+00:00   \n",
       "998   4998  2019-10-29 20:34:47+00:00   \n",
       "999   4999  2019-11-06 14:31:13+00:00   \n",
       "\n",
       "                                                  text       username_x  \\\n",
       "995  My appearance on Fox & Friends this morning: D...      ChuckDeVore   \n",
       "996  California wildfires: What you need to know - ...  KoltovskoyYakov   \n",
       "997  'No more': Trump says he'll cut off federal fu...      puffandwhit   \n",
       "998  \"Oh Maria, you've been missing from Twitter fo...      mariakzurek   \n",
       "999  And you can be sure that the people who make t...          IMMAlab   \n",
       "\n",
       "                      id                                               link  \\\n",
       "995  1189554748074135554  https://twitter.com/ChuckDeVore/status/1189554...   \n",
       "996  1189480414802522114  https://twitter.com/KoltovskoyYakov/status/118...   \n",
       "997  1191346916321300482  https://twitter.com/puffandwhit/status/1191346...   \n",
       "998  1189279434148384770  https://twitter.com/mariakzurek/status/1189279...   \n",
       "999  1192087042185928704  https://twitter.com/IMMAlab/status/11920870421...   \n",
       "\n",
       "            tweet_to  times_retweeted  times_favorited      mentions  \\\n",
       "995  garysteveneaton                3                3             _   \n",
       "996                _                0                0             _   \n",
       "997                _                0                0             _   \n",
       "998                _                1               50  @BerkeleyLab   \n",
       "999          JMPyper                0                0             _   \n",
       "\n",
       "                                hashtags  bot_rating        username_y  \n",
       "995                                    _    0.001725       ChuckDeVore  \n",
       "996                                    _    0.286869   KoltovskoyYakov  \n",
       "997                                    _    0.085904       puffandwhit  \n",
       "998                                #PSPS    0.024702       mariakzurek  \n",
       "999  #ClimateChange #CaliforniaWildfires    0.002080           IMMAlab  "
      ]
     },
     "execution_count": 66,
     "metadata": {},
     "output_type": "execute_result"
    }
   ],
   "source": [
    "# Doing tail to make sure the usernames match on both sides\n",
    "twitter_bots.tail()"
   ]
  },
  {
   "cell_type": "code",
   "execution_count": 67,
   "metadata": {},
   "outputs": [
    {
     "data": {
      "text/plain": [
       "(1000, 13)"
      ]
     },
     "execution_count": 67,
     "metadata": {},
     "output_type": "execute_result"
    }
   ],
   "source": [
    "# Checking the shape \n",
    "twitter_bots.shape"
   ]
  },
  {
   "cell_type": "code",
   "execution_count": 68,
   "metadata": {},
   "outputs": [
    {
     "data": {
      "text/html": [
       "<div>\n",
       "<style scoped>\n",
       "    .dataframe tbody tr th:only-of-type {\n",
       "        vertical-align: middle;\n",
       "    }\n",
       "\n",
       "    .dataframe tbody tr th {\n",
       "        vertical-align: top;\n",
       "    }\n",
       "\n",
       "    .dataframe thead th {\n",
       "        text-align: right;\n",
       "    }\n",
       "</style>\n",
       "<table border=\"1\" class=\"dataframe\">\n",
       "  <thead>\n",
       "    <tr style=\"text-align: right;\">\n",
       "      <th></th>\n",
       "      <th>date</th>\n",
       "      <th>text</th>\n",
       "      <th>username</th>\n",
       "      <th>tweet_to</th>\n",
       "      <th>times_retweeted</th>\n",
       "      <th>times_favorited</th>\n",
       "      <th>mentions</th>\n",
       "      <th>hashtags</th>\n",
       "      <th>bot_rating</th>\n",
       "    </tr>\n",
       "  </thead>\n",
       "  <tbody>\n",
       "    <tr>\n",
       "      <th>0</th>\n",
       "      <td>2019-10-27 00:04:41+00:00</td>\n",
       "      <td>#californiawildfires</td>\n",
       "      <td>charlenecolem15</td>\n",
       "      <td>_</td>\n",
       "      <td>0</td>\n",
       "      <td>1</td>\n",
       "      <td>_</td>\n",
       "      <td>#californiawildfires</td>\n",
       "      <td>0.001419</td>\n",
       "    </tr>\n",
       "    <tr>\n",
       "      <th>1</th>\n",
       "      <td>2019-11-04 14:44:37+00:00</td>\n",
       "      <td>Exactly. Get your shit together .@realDonaldTr...</td>\n",
       "      <td>AndreaCarlaSM</td>\n",
       "      <td>latimes</td>\n",
       "      <td>0</td>\n",
       "      <td>1</td>\n",
       "      <td>@realDonaldTrump</td>\n",
       "      <td>#MakeAmericaCompetentAgain #MondayMood #Califo...</td>\n",
       "      <td>0.001828</td>\n",
       "    </tr>\n",
       "    <tr>\n",
       "      <th>2</th>\n",
       "      <td>2019-11-04 01:55:20+00:00</td>\n",
       "      <td>Did I miss Nancy and Kamala's press conference...</td>\n",
       "      <td>Livingstrong67</td>\n",
       "      <td>_</td>\n",
       "      <td>16</td>\n",
       "      <td>28</td>\n",
       "      <td>_</td>\n",
       "      <td>_</td>\n",
       "      <td>0.011259</td>\n",
       "    </tr>\n",
       "    <tr>\n",
       "      <th>3</th>\n",
       "      <td>2019-10-31 03:02:09+00:00</td>\n",
       "      <td>#californiawildfires</td>\n",
       "      <td>BoboSalish</td>\n",
       "      <td>OC_Scanner</td>\n",
       "      <td>0</td>\n",
       "      <td>0</td>\n",
       "      <td>_</td>\n",
       "      <td>#californiawildfires</td>\n",
       "      <td>0.002080</td>\n",
       "    </tr>\n",
       "    <tr>\n",
       "      <th>4</th>\n",
       "      <td>2019-11-04 19:32:56+00:00</td>\n",
       "      <td>Trump threatens to pull federal aid for Califo...</td>\n",
       "      <td>JstJayne</td>\n",
       "      <td>_</td>\n",
       "      <td>0</td>\n",
       "      <td>0</td>\n",
       "      <td>@NBCNews</td>\n",
       "      <td>_</td>\n",
       "      <td>0.014544</td>\n",
       "    </tr>\n",
       "  </tbody>\n",
       "</table>\n",
       "</div>"
      ],
      "text/plain": [
       "                        date  \\\n",
       "0  2019-10-27 00:04:41+00:00   \n",
       "1  2019-11-04 14:44:37+00:00   \n",
       "2  2019-11-04 01:55:20+00:00   \n",
       "3  2019-10-31 03:02:09+00:00   \n",
       "4  2019-11-04 19:32:56+00:00   \n",
       "\n",
       "                                                text         username  \\\n",
       "0                              #californiawildfires   charlenecolem15   \n",
       "1  Exactly. Get your shit together .@realDonaldTr...    AndreaCarlaSM   \n",
       "2  Did I miss Nancy and Kamala's press conference...   Livingstrong67   \n",
       "3                              #californiawildfires        BoboSalish   \n",
       "4  Trump threatens to pull federal aid for Califo...         JstJayne   \n",
       "\n",
       "     tweet_to  times_retweeted  times_favorited          mentions  \\\n",
       "0           _                0                1                 _   \n",
       "1     latimes                0                1  @realDonaldTrump   \n",
       "2           _               16               28                 _   \n",
       "3  OC_Scanner                0                0                 _   \n",
       "4           _                0                0          @NBCNews   \n",
       "\n",
       "                                            hashtags  bot_rating  \n",
       "0                               #californiawildfires    0.001419  \n",
       "1  #MakeAmericaCompetentAgain #MondayMood #Califo...    0.001828  \n",
       "2                                                  _    0.011259  \n",
       "3                               #californiawildfires    0.002080  \n",
       "4                                                  _    0.014544  "
      ]
     },
     "execution_count": 68,
     "metadata": {},
     "output_type": "execute_result"
    }
   ],
   "source": [
    "# Dropping unnecessary columns and renaming others, dropping null values, and saving my work to a csv\n",
    "twitter_bots= twitter_bots.drop(columns=['username_y', 'id', 'link', 'index'])\n",
    "twitter_bots = twitter_bots.rename(columns={\"username_x\": \"username\"})\n",
    "twitter_bots.dropna(inplace=True)\n",
    "twitter_bots.head()"
   ]
  },
  {
   "cell_type": "code",
   "execution_count": 69,
   "metadata": {},
   "outputs": [
    {
     "data": {
      "text/plain": [
       "(996, 9)"
      ]
     },
     "execution_count": 69,
     "metadata": {},
     "output_type": "execute_result"
    }
   ],
   "source": [
    "# Checking the shape after nulls dropped\n",
    "twitter_bots.shape"
   ]
  },
  {
   "cell_type": "code",
   "execution_count": 70,
   "metadata": {},
   "outputs": [
    {
     "name": "stdout",
     "output_type": "stream",
     "text": [
      "<class 'pandas.core.frame.DataFrame'>\n",
      "Int64Index: 996 entries, 0 to 999\n",
      "Data columns (total 9 columns):\n",
      "date               996 non-null object\n",
      "text               996 non-null object\n",
      "username           996 non-null object\n",
      "tweet_to           996 non-null object\n",
      "times_retweeted    996 non-null int64\n",
      "times_favorited    996 non-null int64\n",
      "mentions           996 non-null object\n",
      "hashtags           996 non-null object\n",
      "bot_rating         996 non-null float64\n",
      "dtypes: float64(1), int64(2), object(6)\n",
      "memory usage: 77.8+ KB\n"
     ]
    }
   ],
   "source": [
    "# Looking at the info \n",
    "twitter_bots.info()"
   ]
  },
  {
   "cell_type": "markdown",
   "metadata": {},
   "source": [
    "### Prepping Data for NLP Classification Modeling "
   ]
  },
  {
   "cell_type": "code",
   "execution_count": 71,
   "metadata": {},
   "outputs": [
    {
     "data": {
      "text/html": [
       "<div>\n",
       "<style scoped>\n",
       "    .dataframe tbody tr th:only-of-type {\n",
       "        vertical-align: middle;\n",
       "    }\n",
       "\n",
       "    .dataframe tbody tr th {\n",
       "        vertical-align: top;\n",
       "    }\n",
       "\n",
       "    .dataframe thead th {\n",
       "        text-align: right;\n",
       "    }\n",
       "</style>\n",
       "<table border=\"1\" class=\"dataframe\">\n",
       "  <thead>\n",
       "    <tr style=\"text-align: right;\">\n",
       "      <th></th>\n",
       "      <th>date</th>\n",
       "      <th>times_retweeted</th>\n",
       "      <th>times_favorited</th>\n",
       "      <th>bot_rating</th>\n",
       "      <th>words</th>\n",
       "    </tr>\n",
       "  </thead>\n",
       "  <tbody>\n",
       "    <tr>\n",
       "      <th>0</th>\n",
       "      <td>2019-10-27 00:04:41+00:00</td>\n",
       "      <td>0</td>\n",
       "      <td>1</td>\n",
       "      <td>0.001419</td>\n",
       "      <td>charlenecolem15 #californiawildfires #californ...</td>\n",
       "    </tr>\n",
       "    <tr>\n",
       "      <th>1</th>\n",
       "      <td>2019-11-04 14:44:37+00:00</td>\n",
       "      <td>0</td>\n",
       "      <td>1</td>\n",
       "      <td>0.001828</td>\n",
       "      <td>AndreaCarlaSM #MakeAmericaCompetentAgain #Mond...</td>\n",
       "    </tr>\n",
       "    <tr>\n",
       "      <th>2</th>\n",
       "      <td>2019-11-04 01:55:20+00:00</td>\n",
       "      <td>16</td>\n",
       "      <td>28</td>\n",
       "      <td>0.011259</td>\n",
       "      <td>Livingstrong67   Did I miss Nancy and Kamala's...</td>\n",
       "    </tr>\n",
       "    <tr>\n",
       "      <th>3</th>\n",
       "      <td>2019-10-31 03:02:09+00:00</td>\n",
       "      <td>0</td>\n",
       "      <td>0</td>\n",
       "      <td>0.002080</td>\n",
       "      <td>BoboSalish #californiawildfires #californiawil...</td>\n",
       "    </tr>\n",
       "    <tr>\n",
       "      <th>4</th>\n",
       "      <td>2019-11-04 19:32:56+00:00</td>\n",
       "      <td>0</td>\n",
       "      <td>0</td>\n",
       "      <td>0.014544</td>\n",
       "      <td>JstJayne   Trump threatens to pull federal aid...</td>\n",
       "    </tr>\n",
       "  </tbody>\n",
       "</table>\n",
       "</div>"
      ],
      "text/plain": [
       "                        date  times_retweeted  times_favorited  bot_rating  \\\n",
       "0  2019-10-27 00:04:41+00:00                0                1    0.001419   \n",
       "1  2019-11-04 14:44:37+00:00                0                1    0.001828   \n",
       "2  2019-11-04 01:55:20+00:00               16               28    0.011259   \n",
       "3  2019-10-31 03:02:09+00:00                0                0    0.002080   \n",
       "4  2019-11-04 19:32:56+00:00                0                0    0.014544   \n",
       "\n",
       "                                               words  \n",
       "0  charlenecolem15 #californiawildfires #californ...  \n",
       "1  AndreaCarlaSM #MakeAmericaCompetentAgain #Mond...  \n",
       "2  Livingstrong67   Did I miss Nancy and Kamala's...  \n",
       "3  BoboSalish #californiawildfires #californiawil...  \n",
       "4  JstJayne   Trump threatens to pull federal aid...  "
      ]
     },
     "execution_count": 71,
     "metadata": {},
     "output_type": "execute_result"
    }
   ],
   "source": [
    "# Making one column for text variables, dropping columns, and replacing underscore with a space \n",
    "# Saving my work\n",
    "twitter_bots['words'] = twitter_bots['username'] + ' ' + twitter_bots['hashtags'] + ' ' + twitter_bots['text'] + ' ' + twitter_bots['mentions'] + ' ' + twitter_bots['tweet_to']\n",
    "twitter_bots.drop(columns=['username', 'text', 'hashtags', 'mentions', 'tweet_to'], inplace=True)\n",
    "twitter_bots['words'] = twitter_bots['words'].str.replace('_', ' ')\n",
    "twitter_bots.head()"
   ]
  },
  {
   "cell_type": "code",
   "execution_count": 74,
   "metadata": {},
   "outputs": [],
   "source": [
    "# Dropping duplicates \n",
    "twitter_bots = twitter_bots.drop_duplicates()"
   ]
  },
  {
   "cell_type": "code",
   "execution_count": 75,
   "metadata": {},
   "outputs": [
    {
     "name": "stdout",
     "output_type": "stream",
     "text": [
      "<class 'pandas.core.frame.DataFrame'>\n",
      "Int64Index: 28108 entries, 0 to 30290\n",
      "Data columns (total 5 columns):\n",
      "date               28108 non-null object\n",
      "times_retweeted    28108 non-null int64\n",
      "times_favorited    28108 non-null int64\n",
      "bot_rating         28106 non-null object\n",
      "words              28108 non-null object\n",
      "dtypes: int64(2), object(3)\n",
      "memory usage: 1.3+ MB\n"
     ]
    }
   ],
   "source": [
    "# Checking out the nulls and object types \n",
    "twitter_bots.info()"
   ]
  },
  {
   "cell_type": "code",
   "execution_count": 76,
   "metadata": {},
   "outputs": [
    {
     "data": {
      "text/plain": [
       "(28108, 5)"
      ]
     },
     "execution_count": 76,
     "metadata": {},
     "output_type": "execute_result"
    }
   ],
   "source": [
    "# Checking the shape of my dataframe \n",
    "twitter_bots.shape"
   ]
  },
  {
   "cell_type": "code",
   "execution_count": 77,
   "metadata": {},
   "outputs": [],
   "source": [
    "# Dropping null values\n",
    "twitter_bots.dropna(inplace=True)"
   ]
  },
  {
   "cell_type": "code",
   "execution_count": 78,
   "metadata": {},
   "outputs": [],
   "source": [
    "# Making sure all the bot_ratings are numeric, since I made them strings to manipulate the dataframe \n",
    "twitter_bots['bot_rating'] = pd.to_numeric(twitter_bots['bot_rating'], errors='coerce')"
   ]
  },
  {
   "cell_type": "code",
   "execution_count": 79,
   "metadata": {},
   "outputs": [
    {
     "name": "stdout",
     "output_type": "stream",
     "text": [
      "<class 'pandas.core.frame.DataFrame'>\n",
      "Int64Index: 28106 entries, 0 to 30290\n",
      "Data columns (total 5 columns):\n",
      "date               28106 non-null object\n",
      "times_retweeted    28106 non-null int64\n",
      "times_favorited    28106 non-null int64\n",
      "bot_rating         28105 non-null float64\n",
      "words              28106 non-null object\n",
      "dtypes: float64(1), int64(2), object(2)\n",
      "memory usage: 1.3+ MB\n"
     ]
    }
   ],
   "source": [
    "twitter_bots.info()"
   ]
  },
  {
   "cell_type": "code",
   "execution_count": 80,
   "metadata": {},
   "outputs": [
    {
     "data": {
      "text/html": [
       "<div>\n",
       "<style scoped>\n",
       "    .dataframe tbody tr th:only-of-type {\n",
       "        vertical-align: middle;\n",
       "    }\n",
       "\n",
       "    .dataframe tbody tr th {\n",
       "        vertical-align: top;\n",
       "    }\n",
       "\n",
       "    .dataframe thead th {\n",
       "        text-align: right;\n",
       "    }\n",
       "</style>\n",
       "<table border=\"1\" class=\"dataframe\">\n",
       "  <thead>\n",
       "    <tr style=\"text-align: right;\">\n",
       "      <th></th>\n",
       "      <th>date</th>\n",
       "      <th>times_retweeted</th>\n",
       "      <th>times_favorited</th>\n",
       "      <th>bot_rating</th>\n",
       "      <th>words</th>\n",
       "    </tr>\n",
       "  </thead>\n",
       "  <tbody>\n",
       "    <tr>\n",
       "      <th>0</th>\n",
       "      <td>2019-10-28 16:04:00+00:00</td>\n",
       "      <td>0</td>\n",
       "      <td>1</td>\n",
       "      <td>0.005364</td>\n",
       "      <td>AMPMUZIC #CaliforniaFires #californiawildfires...</td>\n",
       "    </tr>\n",
       "    <tr>\n",
       "      <th>1</th>\n",
       "      <td>2019-11-12 03:06:00+00:00</td>\n",
       "      <td>2</td>\n",
       "      <td>1</td>\n",
       "      <td>0.014544</td>\n",
       "      <td>dwatchnews nam   Rebirth, angst and the 'new n...</td>\n",
       "    </tr>\n",
       "    <tr>\n",
       "      <th>2</th>\n",
       "      <td>2019-11-03 20:10:28+00:00</td>\n",
       "      <td>0</td>\n",
       "      <td>0</td>\n",
       "      <td>0.036578</td>\n",
       "      <td>WaterSolarWind   Trump melts down on Pelosi du...</td>\n",
       "    </tr>\n",
       "    <tr>\n",
       "      <th>3</th>\n",
       "      <td>2019-10-26 08:48:42+00:00</td>\n",
       "      <td>2</td>\n",
       "      <td>2</td>\n",
       "      <td>0.097414</td>\n",
       "      <td>BombayHeadlines #CaliforniaWildfire #californi...</td>\n",
       "    </tr>\n",
       "    <tr>\n",
       "      <th>4</th>\n",
       "      <td>2019-11-02 21:57:37+00:00</td>\n",
       "      <td>1</td>\n",
       "      <td>1</td>\n",
       "      <td>0.008751</td>\n",
       "      <td>studentveronica   California Wildfires Signal ...</td>\n",
       "    </tr>\n",
       "  </tbody>\n",
       "</table>\n",
       "</div>"
      ],
      "text/plain": [
       "                        date  times_retweeted  times_favorited  bot_rating  \\\n",
       "0  2019-10-28 16:04:00+00:00                0                1    0.005364   \n",
       "1  2019-11-12 03:06:00+00:00                2                1    0.014544   \n",
       "2  2019-11-03 20:10:28+00:00                0                0    0.036578   \n",
       "3  2019-10-26 08:48:42+00:00                2                2    0.097414   \n",
       "4  2019-11-02 21:57:37+00:00                1                1    0.008751   \n",
       "\n",
       "                                               words  \n",
       "0  AMPMUZIC #CaliforniaFires #californiawildfires...  \n",
       "1  dwatchnews nam   Rebirth, angst and the 'new n...  \n",
       "2  WaterSolarWind   Trump melts down on Pelosi du...  \n",
       "3  BombayHeadlines #CaliforniaWildfire #californi...  \n",
       "4  studentveronica   California Wildfires Signal ...  "
      ]
     },
     "execution_count": 80,
     "metadata": {},
     "output_type": "execute_result"
    }
   ],
   "source": [
    "# Seeing how my data looks one last time before saving it to a csv\n",
    "twitter_bots.head()"
   ]
  },
  {
   "cell_type": "code",
   "execution_count": 81,
   "metadata": {},
   "outputs": [
    {
     "data": {
      "text/plain": [
       "(28106, 5)"
      ]
     },
     "execution_count": 81,
     "metadata": {},
     "output_type": "execute_result"
    }
   ],
   "source": [
    "# Checking the shape one last time \n",
    "twitter_bots.shape"
   ]
  },
  {
   "cell_type": "code",
   "execution_count": 83,
   "metadata": {},
   "outputs": [],
   "source": [
    "# Saving my mega dataframe to a csv\n",
    "twitter_bots.to_csv('./data/twitter_preprocessed_all.csv', index=False)"
   ]
  }
 ],
 "metadata": {
  "kernelspec": {
   "display_name": "Python 3",
   "language": "python",
   "name": "python3"
  },
  "language_info": {
   "codemirror_mode": {
    "name": "ipython",
    "version": 3
   },
   "file_extension": ".py",
   "mimetype": "text/x-python",
   "name": "python",
   "nbconvert_exporter": "python",
   "pygments_lexer": "ipython3",
   "version": "3.7.7"
  }
 },
 "nbformat": 4,
 "nbformat_minor": 4
}
