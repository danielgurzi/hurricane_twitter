{
 "cells": [
  {
   "cell_type": "markdown",
   "metadata": {},
   "source": [
    "# Classifying Misinformation: Mendocino Complex Fire\n"
   ]
  },
  {
   "cell_type": "markdown",
   "metadata": {},
   "source": [
    "# Data"
   ]
  },
  {
   "cell_type": "code",
   "execution_count": 7,
   "metadata": {
    "pycharm": {
     "is_executing": false
    }
   },
   "outputs": [],
   "source": [
    "import pandas as pd\n",
    "import numpy as np\n",
    "import seaborn as sns\n",
    "import matplotlib.pyplot as plt\n",
    "import pickle\n",
    "from sklearn.metrics import silhouette_score, silhouette_samples\n",
    "from sklearn.feature_extraction.text import CountVectorizer\n",
    "# import wandb\n",
    "\n",
    "from nltk.corpus import stopwords\n",
    "from sklearn.feature_extraction.text import ENGLISH_STOP_WORDS\n",
    "from sklearn.feature_extraction.text import TfidfVectorizer\n",
    "\n",
    "custom_words = list(set(\n",
    "    list(ENGLISH_STOP_WORDS) + list(stopwords.words('english')) +\n",
    "    ['california', 'en', 'amp', 'instagram', 'thomas', 'com', 'county', 'org',\n",
    "    'www', 'https', 'http', 'rt', \"mendocinocomplex\", \"ca\", \"wildfire\", \"mendocinocomplex\",\n",
    "    \"wildfires\", \"ventura\", \"montecito\", \"cal\", \"cal_fire\"]))\n",
    "\n",
    "# data = pd.read_csv(\"./data/mendocinocomplex/kmeans/mendocinocomplex_nclusters_20_2020_06_12_15_39_43.csv\")"
   ]
  },
  {
   "cell_type": "markdown",
   "metadata": {},
   "source": [
    "## Text Tokenizing"
   ]
  },
  {
   "cell_type": "code",
   "execution_count": 8,
   "metadata": {
    "pycharm": {
     "is_executing": false
    }
   },
   "outputs": [],
   "source": [
    "# df = data[['lemmatized_tweets', 'cluster']]\n",
    "# df.dropna(subset = ['lemmatized_tweets'], axis = 0, inplace = True)\n",
    "# pkl_filename = f'./data/mendocinocomplex/kmeans/kmeans_20_2020_06_12_15_39_43.pkl'\n",
    "# with open(pkl_filename, 'rb') as file:\n",
    "#     kmeans = pickle.load(file)\n",
    "\n",
    "# def count_highest_frequency_words(class_vals):\n",
    "#     cv = CountVectorizer()\n",
    "#     sparse_matrix = cv.fit_transform(class_vals)\n",
    "#     words_features = pd.DataFrame(sparse_matrix.todense(), \n",
    "#                                   columns=cv.get_feature_names())\n",
    "#     word_frequency = words_features.sum()\n",
    "#     word_totals = words_features.sum().sum()\n",
    "# #     print(word_totals)\n",
    "#     values = word_frequency.sort_values(ascending=False)\n",
    "# #     print(values/word_totals*100)\n",
    "#     return values"
   ]
  },
  {
   "cell_type": "code",
   "execution_count": 3,
   "metadata": {
    "pycharm": {
     "is_executing": true
    }
   },
   "outputs": [],
   "source": [
    "import matplotlib.cm as cm\n",
    "\n",
    "class DataExplorer:\n",
    "\n",
    "    def __init__(self):\n",
    "        self.df = pd.read_csv(\"./data/mendocinocomplex/kmeans/mendocinocomplex_nclusters_20_2020_06_12_15_39_43.csv\")\n",
    "        self.clusters = (self.df['cluster'].max() + 1)\n",
    "        self.cluster_dict = {}\n",
    "        for i in range(1, self.clusters + 1):\n",
    "            key = \"cluster_\" + str(i)\n",
    "            value = self.df[self.df['cluster'] == i]\n",
    "            self.cluster_dict.update({key : value})\n",
    "        self.df.dropna(axis=0, subset=['lemmatized_tweets'], inplace=True)\n",
    "        \n",
    "    def load_pickle(self):    \n",
    "        pkl_filename = f'./data/mendocinocomplex/kmeans/kmeans_20_2020_06_12_15_39_43.pkl'\n",
    "        with open(pkl_filename, 'rb') as file:\n",
    "            kmeans = pickle.load(file)\n",
    "        return kmeans\n",
    "    \n",
    "    def count_highest_frequency_words(self, class_vals):\n",
    "        cv = CountVectorizer()\n",
    "        sparse_matrix = cv.fit_transform(self.df[class_vals])\n",
    "        words_features = pd.DataFrame(sparse_matrix.todense(), \n",
    "                                      columns=cv.get_feature_names())\n",
    "        word_frequency = words_features.sum()\n",
    "        word_totals = words_features.sum().sum()\n",
    "    #     print(word_totals)\n",
    "        values = word_frequency.sort_values(ascending=False)\n",
    "    #     print(values/word_totals*100)\n",
    "        return values\n",
    "    \n",
    "    def silhouette(self):\n",
    "        self.km = data_ex.load_pickle()\n",
    "        clusterer = self.km\n",
    "        params = self.km.get_params()\n",
    "        n_clusters = params['n_clusters']\n",
    "        X = self.df.lemmatized_tweets\n",
    "        tfidf_vec = TfidfVectorizer(max_features=1000, ngram_range=(1, 2),\n",
    "                                    stop_words=custom_words)\n",
    "        tfidf = tfidf_vec.fit_transform(X)\n",
    "        fig, ax = plt.subplots(1,1)\n",
    "        fig.set_size_inches(18, 7)\n",
    "        ax.set_xlim([-0.1, 1])    \n",
    "        ax.set_ylim([0, len(X) + (n_clusters + 1) * 10])\n",
    "        cluster_labels = clusterer.fit_predict(tfidf)\n",
    "\n",
    "    # The silhouette_score gives the average value for all the samples.\n",
    "    # This gives a perspective into the density and separation of the formed\n",
    "    # clusters\n",
    "        silhouette_avg = silhouette_score(tfidf, cluster_labels)\n",
    "        print(\"For n_clusters =\", n_clusters,\n",
    "              \"The average silhouette_score is :\", silhouette_avg)\n",
    "    \n",
    "        # Compute the silhouette scores for each sample\n",
    "        sample_silhouette_values = silhouette_samples(tfidf, cluster_labels)\n",
    "    \n",
    "        y_lower = 10\n",
    "        for i in range(n_clusters):\n",
    "            # Aggregate the silhouette scores for samples belonging to\n",
    "            # cluster i, and sort them\n",
    "            ith_cluster_silhouette_values = \\\n",
    "                sample_silhouette_values[cluster_labels == i]\n",
    "    \n",
    "            ith_cluster_silhouette_values.sort()\n",
    "    \n",
    "            size_cluster_i = ith_cluster_silhouette_values.shape[0]\n",
    "            y_upper = y_lower + size_cluster_i\n",
    "    \n",
    "            color = cm.nipy_spectral(float(i) / n_clusters)\n",
    "            ax.fill_betweenx(np.arange(y_lower, y_upper),\n",
    "                              0, ith_cluster_silhouette_values,\n",
    "                              facecolor=color, edgecolor=color, alpha=0.7)\n",
    "    \n",
    "            # Label the silhouette plots with their cluster numbers at the middle\n",
    "            ax.text(-0.05, y_lower + 0.5 * size_cluster_i, str(i))\n",
    "    \n",
    "            # Compute the new y_lower for next plot\n",
    "            y_lower = y_upper + 10  # 10 for the 0 samples"
   ]
  },
  {
   "cell_type": "code",
   "execution_count": 4,
   "metadata": {
    "pycharm": {
     "is_executing": true
    }
   },
   "outputs": [],
   "source": [
    "data_ex = DataExplorer()"
   ]
  },
  {
   "cell_type": "code",
   "execution_count": 5,
   "metadata": {
    "pycharm": {
     "is_executing": true
    }
   },
   "outputs": [
    {
     "name": "stdout",
     "output_type": "stream",
     "text": [
      "For n_clusters = 20 The average silhouette_score is : 0.18049468606430807\n"
     ]
    },
    {
     "data": {
      "image/png": "[encoded data removed]",
      "text/plain": [
       "<Figure size 1296x504 with 1 Axes>"
      ]
     },
     "metadata": {
      "needs_background": "light"
     },
     "output_type": "display_data"
    }
   ],
   "source": [
    "data_ex.silhouette()"
   ]
  },
  {
   "cell_type": "code",
   "execution_count": null,
   "metadata": {
    "pycharm": {
     "is_executing": true
    }
   },
   "outputs": [],
   "source": [
    "data_ex.df.head(1)"
   ]
  },
  {
   "cell_type": "code",
   "execution_count": null,
   "metadata": {
    "pycharm": {
     "is_executing": true
    }
   },
   "outputs": [],
   "source": [
    "X = data_ex.df.lemmatized_tweets"
   ]
  },
  {
   "cell_type": "code",
   "execution_count": null,
   "metadata": {
    "pycharm": {
     "is_executing": true
    }
   },
   "outputs": [],
   "source": [
    "X.shape"
   ]
  },
  {
   "cell_type": "code",
   "execution_count": 6,
   "metadata": {
    "pycharm": {
     "is_executing": false
    }
   },
   "outputs": [
    {
     "ename": "NameError",
     "evalue": "name 'df2' is not defined",
     "output_type": "error",
     "traceback": [
      "\u001b[0;31m---------------------------------------------------------------------------\u001b[0m",
      "\u001b[0;31mNameError\u001b[0m                                 Traceback (most recent call last)",
      "\u001b[0;32m<ipython-input-6-15fbe9378c0e>\u001b[0m in \u001b[0;36m<module>\u001b[0;34m\u001b[0m\n\u001b[1;32m      3\u001b[0m \u001b[0;34m\u001b[0m\u001b[0m\n\u001b[1;32m      4\u001b[0m \u001b[0;31m# df = sns.load_dataset(\"iris\")\u001b[0m\u001b[0;34m\u001b[0m\u001b[0;34m\u001b[0m\u001b[0;34m\u001b[0m\u001b[0m\n\u001b[0;32m----> 5\u001b[0;31m \u001b[0msns\u001b[0m\u001b[0;34m.\u001b[0m\u001b[0mscatterplot\u001b[0m\u001b[0;34m(\u001b[0m\u001b[0mx\u001b[0m \u001b[0;34m=\u001b[0m \u001b[0mdf2\u001b[0m\u001b[0;34m[\u001b[0m\u001b[0;34m'word'\u001b[0m\u001b[0;34m]\u001b[0m\u001b[0;34m,\u001b[0m \u001b[0my\u001b[0m \u001b[0;34m=\u001b[0m \u001b[0mdf2\u001b[0m\u001b[0;34m[\u001b[0m\u001b[0;34m'word_count'\u001b[0m\u001b[0;34m]\u001b[0m\u001b[0;34m,\u001b[0m \u001b[0mhue\u001b[0m\u001b[0;34m=\u001b[0m\u001b[0mdf2\u001b[0m\u001b[0;34m[\u001b[0m\u001b[0;34m'cluster'\u001b[0m\u001b[0;34m]\u001b[0m\u001b[0;34m,\u001b[0m \u001b[0mlegend\u001b[0m \u001b[0;34m=\u001b[0m \u001b[0;34m'full'\u001b[0m\u001b[0;34m,\u001b[0m \u001b[0mpalette\u001b[0m \u001b[0;34m=\u001b[0m \u001b[0;34m'inferno'\u001b[0m\u001b[0;34m)\u001b[0m\u001b[0;34m;\u001b[0m\u001b[0;34m\u001b[0m\u001b[0;34m\u001b[0m\u001b[0m\n\u001b[0m",
      "\u001b[0;31mNameError\u001b[0m: name 'df2' is not defined"
     ]
    },
    {
     "data": {
      "text/plain": [
       "<Figure size 1080x360 with 0 Axes>"
      ]
     },
     "metadata": {},
     "output_type": "display_data"
    }
   ],
   "source": [
    "plt.figure(figsize = (15, 5))\n",
    "sns.set(style=\"ticks\")\n",
    "\n",
    "# df = sns.load_dataset(\"iris\")\n",
    "sns.scatterplot(x = df2['word'], y = df2['word_count'], hue=df2['cluster'], legend = 'full', palette = 'inferno');"
   ]
  },
  {
   "cell_type": "code",
   "execution_count": 165,
   "metadata": {},
   "outputs": [
    {
     "data": {
      "image/png": "[encoded data removed]",
      "text/plain": [
       "<Figure size 432x288 with 1 Axes>"
      ]
     },
     "metadata": {
      "needs_background": "light"
     },
     "output_type": "display_data"
    }
   ],
   "source": [
    "sns.barplot(x = 'word_count', y = 'word', data = df_02, orient = \"h\");"
   ]
  },
  {
   "cell_type": "code",
   "execution_count": 166,
   "metadata": {},
   "outputs": [
    {
     "data": {
      "image/png": "[encoded data removed]",
      "text/plain": [
       "<Figure size 432x288 with 1 Axes>"
      ]
     },
     "metadata": {
      "needs_background": "light"
     },
     "output_type": "display_data"
    }
   ],
   "source": [
    "sns.barplot(x = 'word_count', y = 'word', data = df_03, orient = \"h\");"
   ]
  },
  {
   "cell_type": "code",
   "execution_count": 167,
   "metadata": {},
   "outputs": [
    {
     "data": {
      "image/png": "[encoded data removed]",
      "text/plain": [
       "<Figure size 432x288 with 1 Axes>"
      ]
     },
     "metadata": {
      "needs_background": "light"
     },
     "output_type": "display_data"
    }
   ],
   "source": [
    "sns.barplot(x = 'word_count', y = 'word', data = df_04, orient = \"h\");"
   ]
  },
  {
   "cell_type": "code",
   "execution_count": 168,
   "metadata": {},
   "outputs": [
    {
     "data": {
      "image/png": "[encoded data removed]",
      "text/plain": [
       "<Figure size 432x288 with 1 Axes>"
      ]
     },
     "metadata": {
      "needs_background": "light"
     },
     "output_type": "display_data"
    }
   ],
   "source": [
    "sns.barplot(x = 'word_count', y = 'word', data = df_05, orient = \"h\");"
   ]
  },
  {
   "cell_type": "code",
   "execution_count": null,
   "metadata": {},
   "outputs": [],
   "source": []
  }
 ],
 "metadata": {
  "kernelspec": {
   "display_name": "Python 3",
   "language": "python",
   "name": "python3"
  },
  "language_info": {
   "codemirror_mode": {
    "name": "ipython",
    "version": 3
   },
   "file_extension": ".py",
   "mimetype": "text/x-python",
   "name": "python",
   "nbconvert_exporter": "python",
   "pygments_lexer": "ipython3",
   "version": "3.8.3"
  },
  "pycharm": {
   "stem_cell": {
    "cell_type": "raw",
    "source": [],
    "metadata": {
     "collapsed": false
    }
   }
  }
 },
 "nbformat": 4,
 "nbformat_minor": 4
}