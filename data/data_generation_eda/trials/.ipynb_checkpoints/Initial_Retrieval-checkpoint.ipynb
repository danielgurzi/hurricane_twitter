{
 "cells": [
  {
   "cell_type": "code",
   "execution_count": null,
   "metadata": {},
   "outputs": [],
   "source": [
    "!pip install python-twitter\n",
    "!pip install GetOldTweets3"
   ]
  },
  {
   "cell_type": "code",
   "execution_count": 1,
   "metadata": {},
   "outputs": [],
   "source": [
    "import pandas as pd\n",
    "import numpy as np\n",
    "from IPython.display import display, Markdown, Latex\n",
    "import GetOldTweets3 as got"
   ]
  },
  {
   "cell_type": "markdown",
   "metadata": {},
   "source": [
    "## List of Major Fires with Acerage"
   ]
  },
  {
   "cell_type": "code",
   "execution_count": 72,
   "metadata": {},
   "outputs": [],
   "source": [
    "df = pd.read_csv('fires_nifc.tsv',delimiter='\\t')"
   ]
  },
  {
   "cell_type": "code",
   "execution_count": 93,
   "metadata": {},
   "outputs": [],
   "source": [
    "df['Total Acres']=df['Total Acres'].str.replace(',','')"
   ]
  },
  {
   "cell_type": "code",
   "execution_count": 96,
   "metadata": {},
   "outputs": [],
   "source": [
    "df['Total Acres']=df['Total Acres'].astype(float)"
   ]
  },
  {
   "cell_type": "code",
   "execution_count": 109,
   "metadata": {},
   "outputs": [
    {
     "data": {
      "text/html": [
       "<div>\n",
       "<style scoped>\n",
       "    .dataframe tbody tr th:only-of-type {\n",
       "        vertical-align: middle;\n",
       "    }\n",
       "\n",
       "    .dataframe tbody tr th {\n",
       "        vertical-align: top;\n",
       "    }\n",
       "\n",
       "    .dataframe thead th {\n",
       "        text-align: right;\n",
       "    }\n",
       "</style>\n",
       "<table border=\"1\" class=\"dataframe\">\n",
       "  <thead>\n",
       "    <tr style=\"text-align: right;\">\n",
       "      <th></th>\n",
       "      <th>Year</th>\n",
       "      <th>Fire Name</th>\n",
       "      <th>State</th>\n",
       "      <th>Total Acres</th>\n",
       "    </tr>\n",
       "  </thead>\n",
       "  <tbody>\n",
       "    <tr>\n",
       "      <th>20</th>\n",
       "      <td>2018</td>\n",
       "      <td>Mendocino Complex (2 fires)</td>\n",
       "      <td>CA</td>\n",
       "      <td>459123.0</td>\n",
       "    </tr>\n",
       "    <tr>\n",
       "      <th>24</th>\n",
       "      <td>2018</td>\n",
       "      <td>Ranch (part of Mendocino Complex)</td>\n",
       "      <td>CA</td>\n",
       "      <td>410203.0</td>\n",
       "    </tr>\n",
       "    <tr>\n",
       "      <th>56</th>\n",
       "      <td>2017</td>\n",
       "      <td>Thomas</td>\n",
       "      <td>CA</td>\n",
       "      <td>270000.0</td>\n",
       "    </tr>\n",
       "    <tr>\n",
       "      <th>69</th>\n",
       "      <td>2018</td>\n",
       "      <td>Carr</td>\n",
       "      <td>CA</td>\n",
       "      <td>229651.0</td>\n",
       "    </tr>\n",
       "    <tr>\n",
       "      <th>133</th>\n",
       "      <td>2018</td>\n",
       "      <td>Camp</td>\n",
       "      <td>CA</td>\n",
       "      <td>153336.0</td>\n",
       "    </tr>\n",
       "    <tr>\n",
       "      <th>154</th>\n",
       "      <td>2016</td>\n",
       "      <td>Soberanes</td>\n",
       "      <td>CA</td>\n",
       "      <td>132127.0</td>\n",
       "    </tr>\n",
       "    <tr>\n",
       "      <th>187</th>\n",
       "      <td>2017</td>\n",
       "      <td>Central LNU Complex (multiple fires)</td>\n",
       "      <td>CA</td>\n",
       "      <td>110720.0</td>\n",
       "    </tr>\n",
       "  </tbody>\n",
       "</table>\n",
       "</div>"
      ],
      "text/plain": [
       "     Year                             Fire Name State  Total Acres\n",
       "20   2018           Mendocino Complex (2 fires)    CA     459123.0\n",
       "24   2018     Ranch (part of Mendocino Complex)    CA     410203.0\n",
       "56   2017                                Thomas    CA     270000.0\n",
       "69   2018                                  Carr    CA     229651.0\n",
       "133  2018                                  Camp    CA     153336.0\n",
       "154  2016                             Soberanes    CA     132127.0\n",
       "187  2017  Central LNU Complex (multiple fires)    CA     110720.0"
      ]
     },
     "execution_count": 109,
     "metadata": {},
     "output_type": "execute_result"
    }
   ],
   "source": [
    "df[(df['State']=='CA') & (df['Total Acres']>5000) & (df['Year']>2015)].sort_values(by='Total Acres',ascending=False)"
   ]
  },
  {
   "cell_type": "markdown",
   "metadata": {},
   "source": [
    "- Thomas - Dec 2017 - Jan 2018\n",
    "- Mendocino - July 27, 2018 - Sep 18, 2018\n",
    "- Carr - Not interesting\n",
    "- Camp - Not interesting\n",
    "- Soberanes - \n",
    "- Lilac - 4K acres.\n",
    "- https://www.fire.ca.gov/media/10059/2017_redbook_final.pdf\n",
    "- https://www.fire.ca.gov/media/10060/2016_redbook_final.pdf\n",
    "- https://www.fire.ca.gov/media/10061/2015_redbook_final.pdf\n",
    "- https://www.fire.ca.gov/stats-events/"
   ]
  },
  {
   "cell_type": "markdown",
   "metadata": {},
   "source": [
    "### Trusted Handles"
   ]
  },
  {
   "cell_type": "code",
   "execution_count": 65,
   "metadata": {},
   "outputs": [
    {
     "name": "stdout",
     "output_type": "stream",
     "text": [
      "Found 8 usernames in orgs.txt\n",
      "Downloading tweets...\n",
      "Saved 30\n",
      "Done. Output file generated \"output_got.csv\".\n"
     ]
    }
   ],
   "source": [
    "!GetOldTweets3 --usernames-from-file orgs.txt --querysearch \"#MendocinoComplex\" --maxtweets 10000"
   ]
  },
  {
   "cell_type": "code",
   "execution_count": 67,
   "metadata": {},
   "outputs": [],
   "source": [
    "df_good = pd.read_csv('output_got.csv')"
   ]
  },
  {
   "cell_type": "code",
   "execution_count": 68,
   "metadata": {},
   "outputs": [],
   "source": [
    "df_good.to_csv('orgs_thomasfire.csv')\n",
    "#df_good = pd.read_csv('orgs_mendocinocomplex.csv')"
   ]
  },
  {
   "cell_type": "code",
   "execution_count": 54,
   "metadata": {},
   "outputs": [
    {
     "name": "stdout",
     "output_type": "stream",
     "text": [
      "Found 8 usernames in orgs.txt\n",
      "Downloading tweets...\n",
      "Saved 13600^C\n",
      "\n",
      "Interrupted.\n",
      "\n",
      "\n",
      "Done. Output file generated \"output_got.csv\".\n"
     ]
    }
   ],
   "source": [
    "!GetOldTweets3 --usernames-from-file orgs.txt !GetOldTweets3  --since 2017-11-15 --until 2018-02-10 --maxtweets 10000"
   ]
  },
  {
   "cell_type": "markdown",
   "metadata": {},
   "source": [
    "### Thomas Wildfire Retrieval"
   ]
  },
  {
   "cell_type": "code",
   "execution_count": 9,
   "metadata": {},
   "outputs": [
    {
     "name": "stdout",
     "output_type": "stream",
     "text": [
      "Downloading tweets...\n",
      "Saved 1109\n",
      "Done. Output file generated \"output_got.csv\".\n"
     ]
    }
   ],
   "source": [
    "!GetOldTweets3 --querysearch \"#ThomasFire\" --maxtweets 10000"
   ]
  },
  {
   "cell_type": "code",
   "execution_count": 134,
   "metadata": {},
   "outputs": [],
   "source": [
    "from sklearn.feature_extraction.text import ENGLISH_STOP_WORDS\n",
    "from nltk.corpus import stopwords\n",
    "custom_words = list(set(\n",
    "    list(ENGLISH_STOP_WORDS) + list(stopwords.words('english')) + \n",
    "    ['california','en','amp','instagram','thomas','com','county','org','000','95','cal','cal_fire',\n",
    "     'www','wildfires','https','http','thomasfire','ventura','montecito','woolseyfire',\n",
    "     'whittierfire','wildfire','mendocinocomplex','ranchfire','riverfire',\n",
    "     '18','rt','carrfire','mendocino','ca']))"
   ]
  },
  {
   "cell_type": "code",
   "execution_count": 135,
   "metadata": {},
   "outputs": [],
   "source": [
    "from sklearn.feature_extraction.text import CountVectorizer\n",
    "def count_highest_frequency_words(class_vals):\n",
    "    cv = CountVectorizer(stop_words = custom_words)\n",
    "    sparse_matrix = cv.fit_transform(class_vals)\n",
    "    words_features = pd.DataFrame(sparse_matrix.todense(), \n",
    "                                  columns=cv.get_feature_names())\n",
    "    word_frequency = words_features.sum()\n",
    "    word_totals = words_features.sum().sum()\n",
    "#     print(word_totals)\n",
    "    values =word_frequency.sort_values(ascending=False).head(20)\n",
    "#     print(values/word_totals*100)\n",
    "    return values\n",
    "\n",
    "def count_lowest_frequency_words(class_vals):\n",
    "    cv = CountVectorizer(stop_words = custom_words)\n",
    "    sparse_matrix = cv.fit_transform(class_vals)\n",
    "    words_features = pd.DataFrame(sparse_matrix.todense(), \n",
    "                                  columns=cv.get_feature_names())\n",
    "    word_frequency = words_features.sum()\n",
    "    word_totals = words_features.sum().sum()\n",
    "    values =word_frequency.sort_values(ascending=False).tail(20)\n",
    "    return values"
   ]
  },
  {
   "cell_type": "code",
   "execution_count": 136,
   "metadata": {},
   "outputs": [],
   "source": [
    "df_1 = pd.read_csv('./Mendocino/#MendocinoComplex2018-07-262018-10-1.csv').drop(columns=['Unnamed: 0'],axis=1)\n",
    "#df_2 = pd.read_csv('Thomasfire_June_6_2020.csv')"
   ]
  },
  {
   "cell_type": "code",
   "execution_count": 137,
   "metadata": {},
   "outputs": [
    {
     "data": {
      "text/plain": [
       "acres           1744\n",
       "update          1441\n",
       "complex         1275\n",
       "lake            1221\n",
       "contained       1171\n",
       "fires           1001\n",
       "gov              782\n",
       "lakecounty       770\n",
       "road             728\n",
       "ly               686\n",
       "evacuation       682\n",
       "bit              596\n",
       "evacuations      580\n",
       "ukiah            579\n",
       "firefighters     574\n",
       "calfire_meu      546\n",
       "valley           542\n",
       "colusa           537\n",
       "mendocinonf      530\n",
       "counties         526\n",
       "dtype: int64"
      ]
     },
     "execution_count": 137,
     "metadata": {},
     "output_type": "execute_result"
    }
   ],
   "source": [
    "count_highest_frequency_words(df_1['text'])"
   ]
  },
  {
   "cell_type": "code",
   "execution_count": 63,
   "metadata": {},
   "outputs": [
    {
     "data": {
      "text/plain": [
       "rain            166\n",
       "burn            164\n",
       "exceeds         157\n",
       "debris          150\n",
       "area            145\n",
       "santabarbara    139\n",
       "flow            115\n",
       "possible        111\n",
       "areas           105\n",
       "ly               91\n",
       "hillfire         89\n",
       "carpinteria      89\n",
       "2017             88\n",
       "santa            79\n",
       "threshold        78\n",
       "precip           73\n",
       "flood            73\n",
       "barbara          71\n",
       "sherpafire       70\n",
       "power            69\n",
       "dtype: int64"
      ]
     },
     "execution_count": 63,
     "metadata": {},
     "output_type": "execute_result"
    }
   ],
   "source": [
    "count_highest_frequency_words(df_2['text'])"
   ]
  },
  {
   "cell_type": "code",
   "execution_count": 64,
   "metadata": {},
   "outputs": [
    {
     "data": {
      "text/plain": [
       "santa                  18\n",
       "wildfires              16\n",
       "masks                  15\n",
       "barbara                14\n",
       "socalfires             14\n",
       "incident               10\n",
       "today                  10\n",
       "update                 10\n",
       "air                     9\n",
       "ojai                    9\n",
       "san                     9\n",
       "socal                   8\n",
       "status                  8\n",
       "acres                   8\n",
       "report                  8\n",
       "californiawildfires     8\n",
       "help                    8\n",
       "santabarbaracounty      8\n",
       "firefighters            8\n",
       "diego                   7\n",
       "dtype: int64"
      ]
     },
     "execution_count": 64,
     "metadata": {},
     "output_type": "execute_result"
    }
   ],
   "source": [
    "count_highest_frequency_words(df_good['text'])"
   ]
  },
  {
   "cell_type": "code",
   "execution_count": 5,
   "metadata": {},
   "outputs": [],
   "source": [
    "#df = pd.read_csv('output_got.csv')"
   ]
  },
  {
   "cell_type": "code",
   "execution_count": 19,
   "metadata": {},
   "outputs": [],
   "source": [
    "df = pd.read_csv('ThomasFire_June_6_2020.csv')"
   ]
  },
  {
   "cell_type": "code",
   "execution_count": 22,
   "metadata": {},
   "outputs": [],
   "source": [
    "df_distinct = df.drop_duplicates(subset=['text']).drop(columns=['Unnamed: 0'],axis=1)"
   ]
  },
  {
   "cell_type": "code",
   "execution_count": 23,
   "metadata": {},
   "outputs": [
    {
     "data": {
      "text/plain": [
       "Index(['date', 'username', 'to', 'replies', 'retweets', 'favorites', 'text',\n",
       "       'geo', 'mentions', 'hashtags', 'id', 'permalink'],\n",
       "      dtype='object')"
      ]
     },
     "execution_count": 23,
     "metadata": {},
     "output_type": "execute_result"
    }
   ],
   "source": [
    "df_distinct.columns"
   ]
  },
  {
   "cell_type": "code",
   "execution_count": 24,
   "metadata": {},
   "outputs": [
    {
     "data": {
      "text/plain": [
       "vcwatershed         True\n",
       "KCLUNEWS            True\n",
       "ai6yrham            True\n",
       "JasonStiff          True\n",
       "Jasamsdestiny       True\n",
       "                   ...  \n",
       "ure_too_close      False\n",
       "DebSlobe           False\n",
       "antiochsb          False\n",
       "santabarbarians    False\n",
       "MerakiBella        False\n",
       "Name: username, Length: 426, dtype: bool"
      ]
     },
     "execution_count": 24,
     "metadata": {},
     "output_type": "execute_result"
    }
   ],
   "source": [
    "#Trying to see if we can look for users that are posting more frequently\n",
    "df_distinct['username'].value_counts() > 5"
   ]
  },
  {
   "cell_type": "code",
   "execution_count": 27,
   "metadata": {},
   "outputs": [
    {
     "data": {
      "text/html": [
       "<div>\n",
       "<style scoped>\n",
       "    .dataframe tbody tr th:only-of-type {\n",
       "        vertical-align: middle;\n",
       "    }\n",
       "\n",
       "    .dataframe tbody tr th {\n",
       "        vertical-align: top;\n",
       "    }\n",
       "\n",
       "    .dataframe thead th {\n",
       "        text-align: right;\n",
       "    }\n",
       "</style>\n",
       "<table border=\"1\" class=\"dataframe\">\n",
       "  <thead>\n",
       "    <tr style=\"text-align: right;\">\n",
       "      <th></th>\n",
       "      <th>date</th>\n",
       "      <th>username</th>\n",
       "      <th>to</th>\n",
       "      <th>replies</th>\n",
       "      <th>retweets</th>\n",
       "      <th>favorites</th>\n",
       "      <th>text</th>\n",
       "      <th>geo</th>\n",
       "      <th>mentions</th>\n",
       "      <th>hashtags</th>\n",
       "      <th>id</th>\n",
       "      <th>permalink</th>\n",
       "    </tr>\n",
       "  </thead>\n",
       "  <tbody>\n",
       "    <tr>\n",
       "      <th>23</th>\n",
       "      <td>2020-04-03 18:13:15</td>\n",
       "      <td>HomeCrush</td>\n",
       "      <td>ai6yrham</td>\n",
       "      <td>0</td>\n",
       "      <td>0</td>\n",
       "      <td>2</td>\n",
       "      <td>My of us have N95 from #THOMASFIRE. I'll take ...</td>\n",
       "      <td>NaN</td>\n",
       "      <td>NaN</td>\n",
       "      <td>#THOMASFIRE #COVID19 #FlattenTheCurve</td>\n",
       "      <td>1246138712016076800</td>\n",
       "      <td>https://twitter.com/HomeCrush/status/124613871...</td>\n",
       "    </tr>\n",
       "    <tr>\n",
       "      <th>197</th>\n",
       "      <td>2019-11-14 11:27:29</td>\n",
       "      <td>XraynaQueen</td>\n",
       "      <td>McKeeKizkee</td>\n",
       "      <td>0</td>\n",
       "      <td>0</td>\n",
       "      <td>0</td>\n",
       "      <td>wildfires spread like a sonofabitch. the winds...</td>\n",
       "      <td>NaN</td>\n",
       "      <td>NaN</td>\n",
       "      <td>#ThomasFire #CampFire</td>\n",
       "      <td>1194939908495835136</td>\n",
       "      <td>https://twitter.com/XraynaQueen/status/1194939...</td>\n",
       "    </tr>\n",
       "    <tr>\n",
       "      <th>289</th>\n",
       "      <td>2019-10-11 09:28:14</td>\n",
       "      <td>nutz_doh</td>\n",
       "      <td>NaN</td>\n",
       "      <td>0</td>\n",
       "      <td>0</td>\n",
       "      <td>0</td>\n",
       "      <td>...Our fire in Sylmar has spread all the way t...</td>\n",
       "      <td>NaN</td>\n",
       "      <td>NaN</td>\n",
       "      <td>#PorterRanch #ThomasFire</td>\n",
       "      <td>1182588709599768578</td>\n",
       "      <td>https://twitter.com/nutz_doh/status/1182588709...</td>\n",
       "    </tr>\n",
       "    <tr>\n",
       "      <th>320</th>\n",
       "      <td>2019-09-11 17:13:16</td>\n",
       "      <td>ictgorg</td>\n",
       "      <td>rcc_ictg</td>\n",
       "      <td>0</td>\n",
       "      <td>1</td>\n",
       "      <td>3</td>\n",
       "      <td>It can be confusing and challenging to navigat...</td>\n",
       "      <td>NaN</td>\n",
       "      <td>NaN</td>\n",
       "      <td>#SantaBarbaraCounty #VenturaCounty #ThomasFire...</td>\n",
       "      <td>1171834102162415616</td>\n",
       "      <td>https://twitter.com/ictgorg/status/11718341021...</td>\n",
       "    </tr>\n",
       "    <tr>\n",
       "      <th>359</th>\n",
       "      <td>2019-08-08 22:54:02</td>\n",
       "      <td>TopClassActions</td>\n",
       "      <td>NaN</td>\n",
       "      <td>0</td>\n",
       "      <td>1</td>\n",
       "      <td>1</td>\n",
       "      <td>Seasonal firefighters who help battle Californ...</td>\n",
       "      <td>NaN</td>\n",
       "      <td>NaN</td>\n",
       "      <td>#californiawildfire #Thomasfire #Woolseyfire #...</td>\n",
       "      <td>1159598670783950848</td>\n",
       "      <td>https://twitter.com/TopClassActions/status/115...</td>\n",
       "    </tr>\n",
       "    <tr>\n",
       "      <th>453</th>\n",
       "      <td>2019-05-10 23:12:28</td>\n",
       "      <td>firedefensesvc</td>\n",
       "      <td>NaN</td>\n",
       "      <td>0</td>\n",
       "      <td>1</td>\n",
       "      <td>1</td>\n",
       "      <td>#firesciencefriday • What made the #thomasfire...</td>\n",
       "      <td>NaN</td>\n",
       "      <td>NaN</td>\n",
       "      <td>#firesciencefriday #thomasfire #woolseyfire #c...</td>\n",
       "      <td>1126988405202673664</td>\n",
       "      <td>https://twitter.com/firedefensesvc/status/1126...</td>\n",
       "    </tr>\n",
       "    <tr>\n",
       "      <th>1061</th>\n",
       "      <td>2019-01-12 06:13:02</td>\n",
       "      <td>JasonStiff</td>\n",
       "      <td>NaN</td>\n",
       "      <td>0</td>\n",
       "      <td>4</td>\n",
       "      <td>4</td>\n",
       "      <td>The #rain is getting heavier and becoming more...</td>\n",
       "      <td>NaN</td>\n",
       "      <td>NaN</td>\n",
       "      <td>#rain #SantaBarbara #SanLuisObispo #FloodAdvis...</td>\n",
       "      <td>1083970086245986305</td>\n",
       "      <td>https://twitter.com/JasonStiff/status/10839700...</td>\n",
       "    </tr>\n",
       "  </tbody>\n",
       "</table>\n",
       "</div>"
      ],
      "text/plain": [
       "                     date         username           to  replies  retweets  \\\n",
       "23    2020-04-03 18:13:15        HomeCrush     ai6yrham        0         0   \n",
       "197   2019-11-14 11:27:29      XraynaQueen  McKeeKizkee        0         0   \n",
       "289   2019-10-11 09:28:14         nutz_doh          NaN        0         0   \n",
       "320   2019-09-11 17:13:16          ictgorg     rcc_ictg        0         1   \n",
       "359   2019-08-08 22:54:02  TopClassActions          NaN        0         1   \n",
       "453   2019-05-10 23:12:28   firedefensesvc          NaN        0         1   \n",
       "1061  2019-01-12 06:13:02       JasonStiff          NaN        0         4   \n",
       "\n",
       "      favorites                                               text  geo  \\\n",
       "23            2  My of us have N95 from #THOMASFIRE. I'll take ...  NaN   \n",
       "197           0  wildfires spread like a sonofabitch. the winds...  NaN   \n",
       "289           0  ...Our fire in Sylmar has spread all the way t...  NaN   \n",
       "320           3  It can be confusing and challenging to navigat...  NaN   \n",
       "359           1  Seasonal firefighters who help battle Californ...  NaN   \n",
       "453           1  #firesciencefriday • What made the #thomasfire...  NaN   \n",
       "1061          4  The #rain is getting heavier and becoming more...  NaN   \n",
       "\n",
       "     mentions                                           hashtags  \\\n",
       "23        NaN              #THOMASFIRE #COVID19 #FlattenTheCurve   \n",
       "197       NaN                              #ThomasFire #CampFire   \n",
       "289       NaN                           #PorterRanch #ThomasFire   \n",
       "320       NaN  #SantaBarbaraCounty #VenturaCounty #ThomasFire...   \n",
       "359       NaN  #californiawildfire #Thomasfire #Woolseyfire #...   \n",
       "453       NaN  #firesciencefriday #thomasfire #woolseyfire #c...   \n",
       "1061      NaN  #rain #SantaBarbara #SanLuisObispo #FloodAdvis...   \n",
       "\n",
       "                       id                                          permalink  \n",
       "23    1246138712016076800  https://twitter.com/HomeCrush/status/124613871...  \n",
       "197   1194939908495835136  https://twitter.com/XraynaQueen/status/1194939...  \n",
       "289   1182588709599768578  https://twitter.com/nutz_doh/status/1182588709...  \n",
       "320   1171834102162415616  https://twitter.com/ictgorg/status/11718341021...  \n",
       "359   1159598670783950848  https://twitter.com/TopClassActions/status/115...  \n",
       "453   1126988405202673664  https://twitter.com/firedefensesvc/status/1126...  \n",
       "1061  1083970086245986305  https://twitter.com/JasonStiff/status/10839700...  "
      ]
     },
     "execution_count": 27,
     "metadata": {},
     "output_type": "execute_result"
    }
   ],
   "source": [
    "#Trying to see if we can pull texts with the word 'body' in them.\n",
    "df_distinct[df_distinct['text'].str.contains('spread')]"
   ]
  },
  {
   "cell_type": "code",
   "execution_count": 10,
   "metadata": {},
   "outputs": [],
   "source": [
    "#Looking only for tweets with the hashtag #Thomas\n",
    "df_hashtag_thomas = df_distinct.loc[df_distinct['hashtags'].str.contains('#Thomas') | False,['date','text']]"
   ]
  },
  {
   "cell_type": "code",
   "execution_count": 22,
   "metadata": {},
   "outputs": [],
   "source": [
    "df_hashtag_thomas.to_csv('Thomas_Hashtag.csv')"
   ]
  },
  {
   "cell_type": "code",
   "execution_count": 12,
   "metadata": {},
   "outputs": [
    {
     "data": {
      "text/markdown": [
       ">Thomas fire becomes largest wildfire on record in California http://www.latimes.com/local/lanow/la-me-thomas-fire-size-20171222-20171222-htmlstory.html #ThomasFire #california #wildfires #latimes @latimes"
      ],
      "text/plain": [
       "<IPython.core.display.Markdown object>"
      ]
     },
     "metadata": {},
     "output_type": "display_data"
    },
    {
     "data": {
      "text/markdown": [
       ">Please follow the Twitter page of this documentary I am helping with about the recent Thomas Fire in the Ojai Valley. #ThomasFire #wildfire #ojai #ojaivalley @OVN #venturacounty #climatechange #weneedrain #California #wildfire2017 #documentary"
      ],
      "text/plain": [
       "<IPython.core.display.Markdown object>"
      ]
     },
     "metadata": {},
     "output_type": "display_data"
    },
    {
     "data": {
      "text/markdown": [
       ">California #Thomas #wildfire to cost re/insurers up to $2.5bn: RMS http://www.artemis.bm/blog/2018/01/22/california-thomas-wildfire-to-cost-reinsurers-up-to-2-5bn-rms/"
      ],
      "text/plain": [
       "<IPython.core.display.Markdown object>"
      ]
     },
     "metadata": {},
     "output_type": "display_data"
    },
    {
     "data": {
      "text/markdown": [
       ">The Thomas Fire, now largest in the state’s recorded history, was announced as completely contained as of last week. #Wildfire #California #ThomasFire"
      ],
      "text/plain": [
       "<IPython.core.display.Markdown object>"
      ]
     },
     "metadata": {},
     "output_type": "display_data"
    },
    {
     "data": {
      "text/markdown": [
       ">Thomas Fire, California's Largest On Record, Is Now 100 Percent Contained https://buff.ly/2D1YUMk #California #WildFire #Weather #HealthAndSafety #ThomasFire"
      ],
      "text/plain": [
       "<IPython.core.display.Markdown object>"
      ]
     },
     "metadata": {},
     "output_type": "display_data"
    },
    {
     "data": {
      "text/markdown": [
       ">Thomas fire, California's largest on record, finally 100% contained. #ThomasFire #LAFires #Wildfires http://www.latimes.com/local/lanow/la-me-thomas-fire-contained-20180112-story.html"
      ],
      "text/plain": [
       "<IPython.core.display.Markdown object>"
      ]
     },
     "metadata": {},
     "output_type": "display_data"
    },
    {
     "data": {
      "text/markdown": [
       ">Thomas fire was the worst wildfire in California's history. Hopefully, the mudslides in the burned areas won't be the worst mudslides in history. . #ThomasFire #mudslides #Ventura #Ojai #Montecito #SantaPaula"
      ],
      "text/plain": [
       "<IPython.core.display.Markdown object>"
      ]
     },
     "metadata": {},
     "output_type": "display_data"
    },
    {
     "data": {
      "text/markdown": [
       ">The #Thomas Fire of 2017 is the largest known wildfire in California’s modern history. It burned more than 281,000 acres and is just one of the fires that has made this the costliest year for wildfires in U.S. history. Find out more here: http://bit.ly/PKEarthSpaceScience"
      ],
      "text/plain": [
       "<IPython.core.display.Markdown object>"
      ]
     },
     "metadata": {},
     "output_type": "display_data"
    },
    {
     "data": {
      "text/markdown": [
       ">Some fires still visible in the northern part of the Thomas Fire #California #USA 28 Dec 2017 #Copernicus #Sentinel-2B Full-size: https://flic.kr/p/22YVuHD More: https://flic.kr/s/aHskymzjE6 #ThomasFire #CaliforniaWildfires #Wildfire "
      ],
      "text/plain": [
       "<IPython.core.display.Markdown object>"
      ]
     },
     "metadata": {},
     "output_type": "display_data"
    },
    {
     "data": {
      "text/markdown": [
       ">Natural color version: New images of the now 91% contained Thomas Fire #California #USA 28 Dec 2017 #Copernicus #Sentinel-2B Full-size: https://flic.kr/p/22YVwFM More: https://flic.kr/s/aHskymzjE6 #ThomasFire #CaliforniaWildfires #Wildfire "
      ],
      "text/plain": [
       "<IPython.core.display.Markdown object>"
      ]
     },
     "metadata": {},
     "output_type": "display_data"
    }
   ],
   "source": [
    "#Decided to print those tweets just for a sanity check. They are mostly useless in my opinion.\n",
    "for t in df_hashtag_thomas['text'][:10]:\n",
    "    display(Markdown(f\">{t}\"))"
   ]
  },
  {
   "cell_type": "markdown",
   "metadata": {},
   "source": [
    "### Trial/Error - Attempting Retrieval with GetOldTweets3"
   ]
  },
  {
   "cell_type": "code",
   "execution_count": 27,
   "metadata": {},
   "outputs": [
    {
     "name": "stdout",
     "output_type": "stream",
     "text": [
      "Downloading tweets...\n",
      "Saved 5000\n",
      "Done. Output file generated \"output_got.csv\".\n"
     ]
    }
   ],
   "source": [
    "!GetOldTweets3  --since 2017-11-15 --until 2018-02-10 --querysearch \"california fire\" --maxtweets 5000"
   ]
  },
  {
   "cell_type": "code",
   "execution_count": 71,
   "metadata": {},
   "outputs": [],
   "source": [
    "tweetCriteria = got.manager.TweetCriteria().setQuerySearch('#MendocinoComplex')\\\n",
    "                                           .setSince(\"2018-07-26\")\\\n",
    "                                           .setUntil(\"2018-10-1\").setMaxTweets(10000)"
   ]
  },
  {
   "cell_type": "code",
   "execution_count": 72,
   "metadata": {},
   "outputs": [],
   "source": [
    "disaster_tweet = got.manager.TweetManager.getTweets(tweetCriteria)"
   ]
  },
  {
   "cell_type": "code",
   "execution_count": 86,
   "metadata": {},
   "outputs": [],
   "source": [
    "tweetCriteriaDict = tweetCriteria.__dict__\n",
    "file_name = (tweetCriteriaDict['querySearch']+\\\n",
    "             tweetCriteriaDict['since']+\\\n",
    "             tweetCriteriaDict['until']).replace(\" \",\"_\")                "
   ]
  },
  {
   "cell_type": "code",
   "execution_count": 87,
   "metadata": {},
   "outputs": [],
   "source": [
    "tweets = []\n",
    "for t in disaster_tweet:\n",
    "    tweets.append(t.__dict__)\n",
    "mendocino_tweets = pd.DataFrame(tweets)"
   ]
  },
  {
   "cell_type": "code",
   "execution_count": 88,
   "metadata": {},
   "outputs": [],
   "source": [
    "mendocino_tweets.to_csv(f'./Mendocino/{file_name}.csv')"
   ]
  },
  {
   "cell_type": "code",
   "execution_count": 115,
   "metadata": {},
   "outputs": [],
   "source": [
    "#Need to loop over every user - function crashes when you give it over 1\n",
    "list_orgs = [\"CAL-FIRE\",\"CDFANews\",\"CAGoverner\",\"directrelief\",\"calfund\",\"redcross\",\"fema\",\"USAID\"]\n",
    "for lo in list_orgs:\n",
    "    safeTweetCriteria = got.manager.TweetCriteria()\\\n",
    "    .setUsername(lo)\\\n",
    "    .setSince(\"2018-07-26\")\\\n",
    "    .setUntil(\"2018-10-1\").setMaxTweets(10000)\n",
    "    safe_tweet = got.manager.TweetManager\\\n",
    "    .getTweets(safeTweetCriteria)"
   ]
  },
  {
   "cell_type": "code",
   "execution_count": 116,
   "metadata": {},
   "outputs": [],
   "source": []
  },
  {
   "cell_type": "code",
   "execution_count": 106,
   "metadata": {},
   "outputs": [
    {
     "data": {
      "text/plain": [
       "[]"
      ]
     },
     "execution_count": 106,
     "metadata": {},
     "output_type": "execute_result"
    }
   ],
   "source": [
    "safe_tweet"
   ]
  },
  {
   "cell_type": "code",
   "execution_count": null,
   "metadata": {},
   "outputs": [],
   "source": [
    ".setQuerySearch('Mendocino')"
   ]
  },
  {
   "cell_type": "code",
   "execution_count": 66,
   "metadata": {},
   "outputs": [],
   "source": [
    "list_of_text = df_distinct.loc[df_distinct['text'].str.contains('list')]\n",
    "list_of_text = list_of_text[list_of_text['text'].str.contains('2018')]"
   ]
  },
  {
   "cell_type": "code",
   "execution_count": 70,
   "metadata": {},
   "outputs": [
    {
     "data": {
      "text/plain": [
       "'https://twitter.com/Oasis_HUB/status/1268837474551373828'"
      ]
     },
     "execution_count": 70,
     "metadata": {},
     "output_type": "execute_result"
    }
   ],
   "source": [
    "list_of_text.loc[114,'permalink']"
   ]
  },
  {
   "cell_type": "code",
   "execution_count": null,
   "metadata": {},
   "outputs": [],
   "source": [
    "# for t in list_of_text:\n",
    "#     display(Markdown(f\">{t}\"))"
   ]
  },
  {
   "cell_type": "code",
   "execution_count": null,
   "metadata": {},
   "outputs": [],
   "source": [
    "GetOldTweets3 --username \"barackobama\" --since 2015-09-10 --until 2015-09-12 --maxtweets 10"
   ]
  },
  {
   "cell_type": "code",
   "execution_count": 36,
   "metadata": {},
   "outputs": [
    {
     "data": {
      "text/markdown": [
       ">Being born on this planet has always been about spiritual battles. I don't know how that bolt of light has anything to do with any of it though. Technology the rest of us are not privileged to know, asking what it is. Like beams start California fires."
      ],
      "text/plain": [
       "<IPython.core.display.Markdown object>"
      ]
     },
     "metadata": {},
     "output_type": "display_data"
    },
    {
     "data": {
      "text/markdown": [
       ">Hollister Police Department: FIRE OFFICER MIGUEL MASSO (HOLLISTER PD, CALIFORNIA) - Sign the Petition! http://chng.it/mCWYQ8PW via @Change"
      ],
      "text/plain": [
       "<IPython.core.display.Markdown object>"
      ]
     },
     "metadata": {},
     "output_type": "display_data"
    },
    {
     "data": {
      "text/markdown": [
       ">So...the Fire nation attacked, and the Fire nation is California, meaning any conflict against them is justified as defence? Certainly rings true, especially what the DPRC is doing. From an FB page called 'Lefapp Entertainment' "
      ],
      "text/plain": [
       "<IPython.core.display.Markdown object>"
      ]
     },
     "metadata": {},
     "output_type": "display_data"
    },
    {
     "data": {
      "text/markdown": [
       ">Hollister Police Department: FIRE OFFICER MIGUEL MASSO (HOLLISTER PD, CALIFORNIA) - Sign the Petition! http://chng.it/BtDc7kvy via @UKChange"
      ],
      "text/plain": [
       "<IPython.core.display.Markdown object>"
      ]
     },
     "metadata": {},
     "output_type": "display_data"
    },
    {
     "data": {
      "text/markdown": [
       ">Hollister Police Department: FIRE OFFICER MIGUEL MASSO (HOLLISTER PD, CALIFORNIA) - Sign the Petition! http://chng.it/p4H6Y7wT via @Change #BLUEFALL"
      ],
      "text/plain": [
       "<IPython.core.display.Markdown object>"
      ]
     },
     "metadata": {},
     "output_type": "display_data"
    },
    {
     "data": {
      "text/markdown": [
       ">Really...and your husband was the first one out utilizing his 2and amendment rights to protect your home when California was on fire...or did you forget that?"
      ],
      "text/plain": [
       "<IPython.core.display.Markdown object>"
      ]
     },
     "metadata": {},
     "output_type": "display_data"
    },
    {
     "data": {
      "text/markdown": [
       ">Governor @GavinNewsom this can NOT be tolerated. Fire and prosecute this officer and get your house in order. This is happening in other California cities and it time it stopped. Now. "
      ],
      "text/plain": [
       "<IPython.core.display.Markdown object>"
      ]
     },
     "metadata": {},
     "output_type": "display_data"
    },
    {
     "data": {
      "text/markdown": [
       ">I just want to share a Revelation our Lord Jesus appears in the City of Escondido California during the Southern California Paradise Fire October 26 2003."
      ],
      "text/plain": [
       "<IPython.core.display.Markdown object>"
      ]
     },
     "metadata": {},
     "output_type": "display_data"
    },
    {
     "data": {
      "text/markdown": [
       ">Hollister Police Department: FIRE OFFICER MIGUEL MASSO (HOLLISTER PD, CALIFORNIA) - Sign the Petition! http://chng.it/RLY5rhvM via @UKChange"
      ],
      "text/plain": [
       "<IPython.core.display.Markdown object>"
      ]
     },
     "metadata": {},
     "output_type": "display_data"
    },
    {
     "data": {
      "text/markdown": [
       ">We need moral leadership.Our GOD JESUS APPEARS to me the doubter in 2003. In the Paradise Fire .Southern California Firestorm 2003 At A SUNDAY me eyes see him and many more persons. It was October 26 2003 ."
      ],
      "text/plain": [
       "<IPython.core.display.Markdown object>"
      ]
     },
     "metadata": {},
     "output_type": "display_data"
    },
    {
     "data": {
      "text/markdown": [
       ">MAY 29, 2020 Location: Oakland, California, United States Group: New Black Panther Party Fatalities: 1 An unidentified gunman opened fire on two Federal Protective Service officers near a protest in Oakland, before fleeing the scene in a van driven by an accomplice. *Updated"
      ],
      "text/plain": [
       "<IPython.core.display.Markdown object>"
      ]
     },
     "metadata": {},
     "output_type": "display_data"
    },
    {
     "data": {
      "text/markdown": [
       ">DON'T BE SAD OUR LORD JESUS APEARED TO MANY OF US IN 2003 IN THE. SOUTHERN CALIFORNIA PARADISE FIRE."
      ],
      "text/plain": [
       "<IPython.core.display.Markdown object>"
      ]
     },
     "metadata": {},
     "output_type": "display_data"
    },
    {
     "data": {
      "text/markdown": [
       ">Hollister Police Department: FIRE OFFICER MIGUEL MASSO (HOLLISTER PD, CALIFORNIA) - Sign the Petition! http://chng.it/CMWDXtvT via @Change"
      ],
      "text/plain": [
       "<IPython.core.display.Markdown object>"
      ]
     },
     "metadata": {},
     "output_type": "display_data"
    },
    {
     "data": {
      "text/markdown": [
       ">Hollister Police Department: FIRE OFFICER MIGUEL MASSO (HOLLISTER PD, CALIFORNIA) - Sign the Petition! http://chng.it/qZn8sVkt via @ChangeGER"
      ],
      "text/plain": [
       "<IPython.core.display.Markdown object>"
      ]
     },
     "metadata": {},
     "output_type": "display_data"
    },
    {
     "data": {
      "text/markdown": [
       ">Check out the complete list of 2018 major incidents that have been posted by CAL Fire. The list includes information of each #wildfire in #California includes : / County / Location / Number of Structures Affected / Acres Burned / Evacuation Info "
      ],
      "text/plain": [
       "<IPython.core.display.Markdown object>"
      ]
     },
     "metadata": {},
     "output_type": "display_data"
    },
    {
     "data": {
      "text/markdown": [
       ">Our Lord is allways with us until the end of times. He appeared to many of us in 2003 in The Southern California PARADISE FIRE NEAR THE CITY OF ESCONDIDO CALIFORNIA."
      ],
      "text/plain": [
       "<IPython.core.display.Markdown object>"
      ]
     },
     "metadata": {},
     "output_type": "display_data"
    },
    {
     "data": {
      "text/markdown": [
       ">Hollister Police Department: FIRE OFFICER MIGUEL MASSO (HOLLISTER PD, CALIFORNIA) - Sign the Petition! http://chng.it/fnvGKtCr via @Change"
      ],
      "text/plain": [
       "<IPython.core.display.Markdown object>"
      ]
     },
     "metadata": {},
     "output_type": "display_data"
    },
    {
     "data": {
      "text/markdown": [
       ">They passed something called the Mulford Act, which banned the open carrying of loaded firearms in public. Then, California decided to keep up with the restrictive firearm laws, and continuously made them more and more strict, until they ended up T with their dumpster fire laws"
      ],
      "text/plain": [
       "<IPython.core.display.Markdown object>"
      ]
     },
     "metadata": {},
     "output_type": "display_data"
    },
    {
     "data": {
      "text/markdown": [
       ">Imagine when these fires start coming to California again? This year really shaking things up"
      ],
      "text/plain": [
       "<IPython.core.display.Markdown object>"
      ]
     },
     "metadata": {},
     "output_type": "display_data"
    },
    {
     "data": {
      "text/markdown": [
       ">Hollister Police Department: FIRE OFFICER MIGUEL MASSO (HOLLISTER PD, CALIFORNIA) - Sign the Petition! http://chng.it/PSJhrFLH via @Change"
      ],
      "text/plain": [
       "<IPython.core.display.Markdown object>"
      ]
     },
     "metadata": {},
     "output_type": "display_data"
    },
    {
     "data": {
      "text/markdown": [
       ">Nope! Antifa is in California setting fires https://twitter.com/DustinABC7/status/1268767485311848448?s=19 listen to the cops!!"
      ],
      "text/plain": [
       "<IPython.core.display.Markdown object>"
      ]
     },
     "metadata": {},
     "output_type": "display_data"
    },
    {
     "data": {
      "text/markdown": [
       ">Hollister Police Department: FIRE OFFICER MIGUEL MASSO (HOLLISTER PD, CALIFORNIA) - Sign the Petition! http://chng.it/FfXp7jtp via @Change"
      ],
      "text/plain": [
       "<IPython.core.display.Markdown object>"
      ]
     },
     "metadata": {},
     "output_type": "display_data"
    },
    {
     "data": {
      "text/markdown": [
       ">They’ll fire him after he runs #California into the ground Sorry for my friends there I wish them luck "
      ],
      "text/plain": [
       "<IPython.core.display.Markdown object>"
      ]
     },
     "metadata": {},
     "output_type": "display_data"
    },
    {
     "data": {
      "text/markdown": [
       ">Environmental terrorism has been a tool of California radicals for decades. I hadn't heard about the fires. Thanks for the reply. I'm surprised that the shooter is a she. I shouldn't be, but I am."
      ],
      "text/plain": [
       "<IPython.core.display.Markdown object>"
      ]
     },
     "metadata": {},
     "output_type": "display_data"
    },
    {
     "data": {
      "text/markdown": [
       ">Hollister Police Department: FIRE OFFICER MIGUEL MASSO (HOLLISTER PD, CALIFORNIA) - Sign the Petition! http://chng.it/gRFX9dDn via @UKChange"
      ],
      "text/plain": [
       "<IPython.core.display.Markdown object>"
      ]
     },
     "metadata": {},
     "output_type": "display_data"
    },
    {
     "data": {
      "text/markdown": [
       ">We were discussing a \"June California Terrible Things\" Bingo. Some are obvious: Earthquake. Fire. Double Fire... Triple Fire? But this one... Me: \"Tick that makes you allergic to avocados\". Kate: \"Nooooooo, why?\" That's some Lex Luthor shit right there."
      ],
      "text/plain": [
       "<IPython.core.display.Markdown object>"
      ]
     },
     "metadata": {},
     "output_type": "display_data"
    },
    {
     "data": {
      "text/markdown": [
       ">Hollister Police Department: FIRE OFFICER MIGUEL MASSO (HOLLISTER PD, CALIFORNIA) - Sign the Petition! http://chng.it/8HDZ9MTc via @Change"
      ],
      "text/plain": [
       "<IPython.core.display.Markdown object>"
      ]
     },
     "metadata": {},
     "output_type": "display_data"
    },
    {
     "data": {
      "text/markdown": [
       ">Did you know which types of insurance are mandatory in California? Choose the correct answer: Property damage liability coverage: Minimum $5,000 Auto Insurance Fire caused by an Earthquake All of the above #californiainsurance #insurancepoll #earthquakeinsurance #didyouknow"
      ],
      "text/plain": [
       "<IPython.core.display.Markdown object>"
      ]
     },
     "metadata": {},
     "output_type": "display_data"
    },
    {
     "data": {
      "text/markdown": [
       ">Kitty Hawk ends 'flying car' project, fires dozens of workers http://newskidda.com/world/kitty-hawk-ends-flying-car-project-fires-dozens-of-workers/ #kittyhawk #kittyhawknc #usa #flyingcar #flyingcars #flyingcarstown #california #californialove #technokidda #newskidda #arshtechnologies"
      ],
      "text/plain": [
       "<IPython.core.display.Markdown object>"
      ]
     },
     "metadata": {},
     "output_type": "display_data"
    },
    {
     "data": {
      "text/markdown": [
       ">Kitty Hawk ends 'flying car' project, fires dozens of workers http://newskidda.com/world/kitty-hawk-ends-flying-car-project-fires-dozens-of-workers/ #kittyhawk #kittyhawknc #usa #flyingcar #flyingcars #flyingcarstown #california #californialove #technokidda #newskidda #arshtechnologies"
      ],
      "text/plain": [
       "<IPython.core.display.Markdown object>"
      ]
     },
     "metadata": {},
     "output_type": "display_data"
    },
    {
     "data": {
      "text/markdown": [
       ">Controlled burns are super important. In California eco activists actually prevent a lot of measures that will stop wildfires. They don't realize how necessary small fires are to prevent massive ones."
      ],
      "text/plain": [
       "<IPython.core.display.Markdown object>"
      ]
     },
     "metadata": {},
     "output_type": "display_data"
    },
    {
     "data": {
      "text/markdown": [
       ">I live in California. We're in the same shit. Everything's constantly on fire and it's always scorching. Pls help, I'm fucking frying."
      ],
      "text/plain": [
       "<IPython.core.display.Markdown object>"
      ]
     },
     "metadata": {},
     "output_type": "display_data"
    },
    {
     "data": {
      "text/markdown": [
       ">Hollister Police Department: FIRE OFFICER MIGUEL MASSO (HOLLISTER PD, CALIFORNIA) - Sign the Petition! http://chng.it/tqXn8TwF via @Change"
      ],
      "text/plain": [
       "<IPython.core.display.Markdown object>"
      ]
     },
     "metadata": {},
     "output_type": "display_data"
    },
    {
     "data": {
      "text/markdown": [
       "> California has had enough fires!!! Horrific! https://twitter.com/goodblackdude/status/1268805251001286656"
      ],
      "text/plain": [
       "<IPython.core.display.Markdown object>"
      ]
     },
     "metadata": {},
     "output_type": "display_data"
    },
    {
     "data": {
      "text/markdown": [
       ">Hollister Police Department: FIRE OFFICER MIGUEL MASSO (HOLLISTER PD, CALIFORNIA) - Sign the Petition! http://chng.it/LTprrwpH via @Change"
      ],
      "text/plain": [
       "<IPython.core.display.Markdown object>"
      ]
     },
     "metadata": {},
     "output_type": "display_data"
    },
    {
     "data": {
      "text/markdown": [
       ">Hollister Police Department: FIRE OFFICER MIGUEL MASSO (HOLLISTER PD, CALIFORNIA) - Sign the Petition! http://chng.it/DsBSNQLK via @Change"
      ],
      "text/plain": [
       "<IPython.core.display.Markdown object>"
      ]
     },
     "metadata": {},
     "output_type": "display_data"
    },
    {
     "data": {
      "text/markdown": [
       ">Hollister Police Department: FIRE OFFICER MIGUEL MASSO (HOLLISTER PD, CALIFORNIA) - Sign the Petition! http://chng.it/rg6Qrvpn via @Change"
      ],
      "text/plain": [
       "<IPython.core.display.Markdown object>"
      ]
     },
     "metadata": {},
     "output_type": "display_data"
    },
    {
     "data": {
      "text/markdown": [
       ">Hollister Police Department: FIRE OFFICER MIGUEL MASSO (HOLLISTER PD, CALIFORNIA) - Sign the Petition! http://chng.it/Xtx44mZP via @Change"
      ],
      "text/plain": [
       "<IPython.core.display.Markdown object>"
      ]
     },
     "metadata": {},
     "output_type": "display_data"
    },
    {
     "data": {
      "text/markdown": [
       ">“Hollister Police Department: FIRE OFFICER MIGUEL MASSO (HOLLISTER PD, CALIFORNIA) ” http://chng.it/SpSgbqcz via @ChangeOrg_India"
      ],
      "text/plain": [
       "<IPython.core.display.Markdown object>"
      ]
     },
     "metadata": {},
     "output_type": "display_data"
    },
    {
     "data": {
      "text/markdown": [
       ">RT CALFIREBDU \"CAL FIRE BDU is suspending open burning June 8th. Please read the attached proclamation. @San Bernardino, California https://www.instagram.com/p/CBCMQIfhXwp/?igshid=f6zq31kd7ql4\""
      ],
      "text/plain": [
       "<IPython.core.display.Markdown object>"
      ]
     },
     "metadata": {},
     "output_type": "display_data"
    },
    {
     "data": {
      "text/markdown": [
       ">Hollister Police Department: FIRE OFFICER MIGUEL MASSO (HOLLISTER PD, CALIFORNIA) - Sign the Petition! http://chng.it/pD8T6g4n via @Change"
      ],
      "text/plain": [
       "<IPython.core.display.Markdown object>"
      ]
     },
     "metadata": {},
     "output_type": "display_data"
    },
    {
     "data": {
      "text/markdown": [
       ">Phoenix, Fire Bird, Hinotori, Kokoro bird. #hatsuki #kokoro #fight #phoenix #fire #hinotori @Quartz Hill, California https://www.instagram.com/p/CBC3bgrhgYR/?igshid=v2hk9mau23lf"
      ],
      "text/plain": [
       "<IPython.core.display.Markdown object>"
      ]
     },
     "metadata": {},
     "output_type": "display_data"
    },
    {
     "data": {
      "text/markdown": [
       ">In case you don’t believe in newspapers here is the actual text of the California law that allows anyone with a felony conviction to be blocked from becoming an EMT and therefore becoming a fire fighter http://leginfo.legislature.ca.gov/faces/codes_displaySection.xhtml?lawCode=HSC&amp;sectionNum=1798.200"
      ],
      "text/plain": [
       "<IPython.core.display.Markdown object>"
      ]
     },
     "metadata": {},
     "output_type": "display_data"
    },
    {
     "data": {
      "text/markdown": [
       ">I get extremely bad anxiety with fires in California, this is the last shit we need right now"
      ],
      "text/plain": [
       "<IPython.core.display.Markdown object>"
      ]
     },
     "metadata": {},
     "output_type": "display_data"
    },
    {
     "data": {
      "text/markdown": [
       ">Hollister Police Department: FIRE OFFICER MIGUEL MASSO (HOLLISTER PD, CALIFORNIA) http://chng.it/rBdgdRLV via @Change"
      ],
      "text/plain": [
       "<IPython.core.display.Markdown object>"
      ]
     },
     "metadata": {},
     "output_type": "display_data"
    },
    {
     "data": {
      "text/markdown": [
       ">Dan Buxton's business, a Play It Again Sports in La Mesa California, was looted and set on fire Saturday night during riots.​ "
      ],
      "text/plain": [
       "<IPython.core.display.Markdown object>"
      ]
     },
     "metadata": {},
     "output_type": "display_data"
    },
    {
     "data": {
      "text/markdown": [
       ">Dan Buxton's business, a Play It Again Sports in La Mesa California, was looted and set on fire Saturday night during riots.​ https://fox8.com/news/looter-returns-stolen-items-to-california-business-owner/?taid=5ed9ee76960f5f00015ca9c6&amp;utm_campaign=trueAnthem%3A+Trending+Content&amp;utm_medium=trueAnthem&amp;utm_source=twitter"
      ],
      "text/plain": [
       "<IPython.core.display.Markdown object>"
      ]
     },
     "metadata": {},
     "output_type": "display_data"
    },
    {
     "data": {
      "text/markdown": [
       ">Hollister Police Department: FIRE OFFICER MIGUEL MASSO (HOLLISTER PD, CALIFORNIA) - Sign the Petition! http://chng.it/TcTYWgBh via @Change"
      ],
      "text/plain": [
       "<IPython.core.display.Markdown object>"
      ]
     },
     "metadata": {},
     "output_type": "display_data"
    },
    {
     "data": {
      "text/markdown": [
       ">Hollister Police Department: FIRE OFFICER MIGUEL MASSO (HOLLISTER PD, CALIFORNIA) - Sign the Petition! http://chng.it/B46RJHtn via @Change"
      ],
      "text/plain": [
       "<IPython.core.display.Markdown object>"
      ]
     },
     "metadata": {},
     "output_type": "display_data"
    },
    {
     "data": {
      "text/markdown": [
       ">Hollister Police Department: FIRE OFFICER MIGUEL MASSO (HOLLISTER PD, CALIFORNIA) - Sign the Petition! http://chng.it/GcrDjrDX via @Change"
      ],
      "text/plain": [
       "<IPython.core.display.Markdown object>"
      ]
     },
     "metadata": {},
     "output_type": "display_data"
    },
    {
     "data": {
      "text/markdown": [
       ">But it was the city budget that had 10 million for policing and half that for all other emergency services (including fire) in central California with heavy winds and dry grasslands..."
      ],
      "text/plain": [
       "<IPython.core.display.Markdown object>"
      ]
     },
     "metadata": {},
     "output_type": "display_data"
    }
   ],
   "source": [
    "for t in df.loc[100:150,'text']:\n",
    "    display(Markdown(f\">{t}\"))"
   ]
  },
  {
   "cell_type": "code",
   "execution_count": null,
   "metadata": {},
   "outputs": [],
   "source": []
  }
 ],
 "metadata": {
  "kernelspec": {
   "display_name": "Python 3",
   "language": "python",
   "name": "python3"
  },
  "language_info": {
   "codemirror_mode": {
    "name": "ipython",
    "version": 3
   },
   "file_extension": ".py",
   "mimetype": "text/x-python",
   "name": "python",
   "nbconvert_exporter": "python",
   "pygments_lexer": "ipython3",
   "version": "3.8.3"
  }
 },
 "nbformat": 4,
 "nbformat_minor": 4
}
