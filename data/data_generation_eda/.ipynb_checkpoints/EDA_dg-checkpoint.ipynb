{
 "cells": [
  {
   "cell_type": "code",
   "execution_count": 2,
   "metadata": {},
   "outputs": [],
   "source": [
    "import pandas as pd\n",
    "import numpy as np\n",
    "import matplotlib.pyplot as plt\n",
    "from sklearn.model_selection import train_test_split, GridSearchCV\n",
    "from sklearn.pipeline import Pipeline\n",
    "from sklearn.linear_model import LogisticRegression\n",
    "from sklearn.feature_extraction.text import CountVectorizer, TfidfVectorizer, ENGLISH_STOP_WORDS\n",
    "from nltk.corpus import stopwords\n",
    "import datetime\n",
    "from sklearn.feature_extraction.text import CountVectorizer, TfidfVectorizer, ENGLISH_STOP_WORDS\n",
    "\n",
    "\n",
    "pd.set_option(\"max_rows\", 75)\n"
   ]
  },
  {
   "cell_type": "code",
   "execution_count": 3,
   "metadata": {},
   "outputs": [],
   "source": [
    "# this is the stop words list for the countvectorizer\n",
    "custom_words = list(set(\n",
    "    list(ENGLISH_STOP_WORDS) + list(stopwords.words('english')) + \n",
    "    ['and','of','for','the','com','amp','https','http']))\n",
    "\n",
    "# This function outputs a dataframe with text used by good handles and top text that isn't used by good handles\n",
    "def frequency_words(df, handles):\n",
    "    # dataframe of tweets from friendly handles given approved by client\n",
    "    info = tweets[tweets['username'].str.lower().isin([x.lower() for x in handles])]\n",
    "    #instantiate countvect for good info and transform tweets from safe_handles to dataframe\n",
    "    info_cvec = CountVectorizer(stop_words = custom_words)\n",
    "    info_cv = info_cvec.fit_transform(info.text)\n",
    "    info_words = pd.DataFrame(info_cv.toarray(), columns = info_cvec.get_feature_names())\n",
    "    info_count = info_words.sum().sort_values(ascending=False)\n",
    "    \n",
    "    #create new word list with words used by verified accounts\n",
    "    new_stops = custom_words + info_cvec.get_feature_names()\n",
    "    misinfo = tweets[~tweets['username'].str.lower().isin([x.lower() for x in handles])]\n",
    "\n",
    "    misinfo_cvec = CountVectorizer(stop_words = new_stops)\n",
    "    misinfo_cv = misinfo_cvec.fit_transform(misinfo.text)\n",
    "    misinfo_words = pd.DataFrame(misinfo_cv.toarray(), columns = misinfo_cvec.get_feature_names())\n",
    "    \n",
    "    misinfo_count = misinfo_words.sum().sort_values(ascending=False)\n",
    "    return info_count, misinfo_count\n"
   ]
  },
  {
   "cell_type": "code",
   "execution_count": null,
   "metadata": {},
   "outputs": [],
   "source": [
    "harvey_handles = ['fema','usaid']\n",
    "mendocino_handles = ['fema','usaid','calfire','MendoSheriff','calfire_meu', 'cagovernor','FEMARegion9','r5_fire_news', 'MendocinoNF']\n",
    "aussie_handles = ['afacnews','act_esa','abcemergency','frnsw','qldfes','cfsalerts']\n",
    "\n",
    "good_handles = aussie_handles\n",
    "\n",
    "\n",
    "good_info, bad_info = frequency_words(tweets, good_handles)\n",
    "word_count = pd.DataFrame(bad_info, columns = ['count'])\n",
    "\n",
    "# word_count.loc['arson']\n",
    "\n",
    "\n",
    "word_count"
   ]
  },
  {
   "cell_type": "code",
   "execution_count": 224,
   "metadata": {},
   "outputs": [],
   "source": [
    "df = pd.read_csv('~/DSI/submissions/projects/Project_5/trials/data/hurricanharvey_10000.csv')\n",
    "df.drop(['geo'],axis=1, inplace=True)\n"
   ]
  },
  {
   "cell_type": "code",
   "execution_count": 225,
   "metadata": {},
   "outputs": [
    {
     "name": "stdout",
     "output_type": "stream",
     "text": [
      "<class 'pandas.core.frame.DataFrame'>\n",
      "Int64Index: 10000 entries, 0 to 9999\n",
      "Data columns (total 14 columns):\n",
      " #   Column          Non-Null Count  Dtype \n",
      "---  ------          --------------  ----- \n",
      " 0   username        10000 non-null  object\n",
      " 1   to              10000 non-null  object\n",
      " 2   text            10000 non-null  object\n",
      " 3   retweets        10000 non-null  int64 \n",
      " 4   favorites       10000 non-null  int64 \n",
      " 5   replies         10000 non-null  int64 \n",
      " 6   id              10000 non-null  int64 \n",
      " 7   permalink       10000 non-null  object\n",
      " 8   author_id       10000 non-null  int64 \n",
      " 9   date            10000 non-null  object\n",
      " 10  formatted_date  10000 non-null  object\n",
      " 11  hashtags        10000 non-null  object\n",
      " 12  mentions        2098 non-null   object\n",
      " 13  urls            10000 non-null  object\n",
      "dtypes: int64(5), object(9)\n",
      "memory usage: 1.1+ MB\n"
     ]
    }
   ],
   "source": [
    "df.dropna(subset=['text'],inplace=True)\n",
    "df['hashtags'].fillna('mendocinocomplex',inplace=True)\n",
    "df['to'].fillna('self',inplace=True)\n",
    "df['urls'].fillna('None',inplace=True)\n",
    "df.info()"
   ]
  },
  {
   "cell_type": "code",
   "execution_count": 149,
   "metadata": {},
   "outputs": [],
   "source": [
    "# X= df.drop(['predictions','urls','geo','to'],axis=1)\n",
    "features = ['username', 'text', 'retweets', 'favorites',\n",
    "       'replies', 'id', 'permalink', 'author_id', 'date', 'formatted_date',\n",
    "       'hashtags', 'mentions', 'cleaned_tweets',\n",
    "       'lemmatized_tweets']\n",
    "X = df['text']\n",
    "y= df['predictions']"
   ]
  },
  {
   "cell_type": "code",
   "execution_count": 150,
   "metadata": {},
   "outputs": [
    {
     "data": {
      "text/plain": [
       "(59396,)"
      ]
     },
     "execution_count": 150,
     "metadata": {},
     "output_type": "execute_result"
    }
   ],
   "source": [
    "X.shape"
   ]
  },
  {
   "cell_type": "code",
   "execution_count": 151,
   "metadata": {},
   "outputs": [
    {
     "data": {
      "text/plain": [
       "(59396,)"
      ]
     },
     "execution_count": 151,
     "metadata": {},
     "output_type": "execute_result"
    }
   ],
   "source": [
    "y.shape"
   ]
  },
  {
   "cell_type": "code",
   "execution_count": 152,
   "metadata": {},
   "outputs": [
    {
     "data": {
      "text/plain": [
       "(59396, 7035)"
      ]
     },
     "execution_count": 152,
     "metadata": {},
     "output_type": "execute_result"
    }
   ],
   "source": [
    "df2 = pd.concat([df,pd.get_dummies(df['text'])],axis=1)\n",
    "df2.shape"
   ]
  },
  {
   "cell_type": "code",
   "execution_count": 153,
   "metadata": {},
   "outputs": [
    {
     "data": {
      "text/html": [
       "<div>\n",
       "<style scoped>\n",
       "    .dataframe tbody tr th:only-of-type {\n",
       "        vertical-align: middle;\n",
       "    }\n",
       "\n",
       "    .dataframe tbody tr th {\n",
       "        vertical-align: top;\n",
       "    }\n",
       "\n",
       "    .dataframe thead th {\n",
       "        text-align: right;\n",
       "    }\n",
       "</style>\n",
       "<table border=\"1\" class=\"dataframe\">\n",
       "  <thead>\n",
       "    <tr style=\"text-align: right;\">\n",
       "      <th></th>\n",
       "      <th>retweets</th>\n",
       "      <th>favorites</th>\n",
       "      <th>replies</th>\n",
       "      <th>id</th>\n",
       "      <th>author_id</th>\n",
       "    </tr>\n",
       "    <tr>\n",
       "      <th>predictions</th>\n",
       "      <th></th>\n",
       "      <th></th>\n",
       "      <th></th>\n",
       "      <th></th>\n",
       "      <th></th>\n",
       "    </tr>\n",
       "  </thead>\n",
       "  <tbody>\n",
       "    <tr>\n",
       "      <th>0</th>\n",
       "      <td>34.003125</td>\n",
       "      <td>30.121875</td>\n",
       "      <td>1.955938</td>\n",
       "      <td>1.027174e+18</td>\n",
       "      <td>1.237819e+16</td>\n",
       "    </tr>\n",
       "    <tr>\n",
       "      <th>1</th>\n",
       "      <td>46.204182</td>\n",
       "      <td>60.106806</td>\n",
       "      <td>2.042025</td>\n",
       "      <td>1.027207e+18</td>\n",
       "      <td>3.138219e+16</td>\n",
       "    </tr>\n",
       "    <tr>\n",
       "      <th>2</th>\n",
       "      <td>60.984135</td>\n",
       "      <td>82.978414</td>\n",
       "      <td>1.999480</td>\n",
       "      <td>1.045759e+18</td>\n",
       "      <td>2.225978e+14</td>\n",
       "    </tr>\n",
       "    <tr>\n",
       "      <th>3</th>\n",
       "      <td>1078.059752</td>\n",
       "      <td>2654.937430</td>\n",
       "      <td>101.377114</td>\n",
       "      <td>1.024436e+18</td>\n",
       "      <td>1.539253e+16</td>\n",
       "    </tr>\n",
       "    <tr>\n",
       "      <th>4</th>\n",
       "      <td>1095.121864</td>\n",
       "      <td>3148.570789</td>\n",
       "      <td>1883.969534</td>\n",
       "      <td>1.024469e+18</td>\n",
       "      <td>3.325388e+07</td>\n",
       "    </tr>\n",
       "  </tbody>\n",
       "</table>\n",
       "</div>"
      ],
      "text/plain": [
       "                retweets    favorites      replies            id     author_id\n",
       "predictions                                                                   \n",
       "0              34.003125    30.121875     1.955938  1.027174e+18  1.237819e+16\n",
       "1              46.204182    60.106806     2.042025  1.027207e+18  3.138219e+16\n",
       "2              60.984135    82.978414     1.999480  1.045759e+18  2.225978e+14\n",
       "3            1078.059752  2654.937430   101.377114  1.024436e+18  1.539253e+16\n",
       "4            1095.121864  3148.570789  1883.969534  1.024469e+18  3.325388e+07"
      ]
     },
     "execution_count": 153,
     "metadata": {},
     "output_type": "execute_result"
    }
   ],
   "source": [
    "centroids = df2.groupby(by='predictions')[features].mean()\n",
    "centroids.head()"
   ]
  },
  {
   "cell_type": "code",
   "execution_count": 158,
   "metadata": {},
   "outputs": [],
   "source": [
    "features2 = df2.columns.drop(['geo','urls','to','Unnamed: 0','predictions'])\n",
    "X2= features2\n",
    "y2= df2['predictions']"
   ]
  },
  {
   "cell_type": "code",
   "execution_count": 160,
   "metadata": {
    "collapsed": true,
    "jupyter": {
     "outputs_hidden": true,
     "source_hidden": true
    }
   },
   "outputs": [
    {
     "ename": "KeyError",
     "evalue": "\"None of [Int64Index([6, 5, 6, 2, 2, 6, 6, 6, 6, 6,\\n            ...\\n            2, 2, 2, 2, 2, 2, 2, 2, 2, 2],\\n           dtype='int64', length=59396)] are in the [columns]\"",
     "output_type": "error",
     "traceback": [
      "\u001b[0;31m---------------------------------------------------------------------------\u001b[0m",
      "\u001b[0;31mKeyError\u001b[0m                                  Traceback (most recent call last)",
      "\u001b[0;32m<ipython-input-160-d61c620629ea>\u001b[0m in \u001b[0;36m<module>\u001b[0;34m\u001b[0m\n\u001b[1;32m      9\u001b[0m     \u001b[0mx\u001b[0m\u001b[0;34m=\u001b[0m\u001b[0mX2\u001b[0m\u001b[0;34m,\u001b[0m \u001b[0my\u001b[0m\u001b[0;34m=\u001b[0m\u001b[0my2\u001b[0m\u001b[0;34m,\u001b[0m\u001b[0;34m\u001b[0m\u001b[0;34m\u001b[0m\u001b[0m\n\u001b[1;32m     10\u001b[0m     \u001b[0mfigsize\u001b[0m\u001b[0;34m=\u001b[0m\u001b[0;34m(\u001b[0m\u001b[0;36m10\u001b[0m\u001b[0;34m,\u001b[0m\u001b[0;36m8\u001b[0m\u001b[0;34m)\u001b[0m\u001b[0;34m,\u001b[0m\u001b[0;34m\u001b[0m\u001b[0;34m\u001b[0m\u001b[0m\n\u001b[0;32m---> 11\u001b[0;31m     \u001b[0mc\u001b[0m \u001b[0;34m=\u001b[0m \u001b[0mdf2\u001b[0m\u001b[0;34m[\u001b[0m\u001b[0;34m'color'\u001b[0m\u001b[0;34m]\u001b[0m\u001b[0;34m\u001b[0m\u001b[0;34m\u001b[0m\u001b[0m\n\u001b[0m\u001b[1;32m     12\u001b[0m \u001b[0;31m# )\u001b[0m\u001b[0;34m\u001b[0m\u001b[0;34m\u001b[0m\u001b[0;34m\u001b[0m\u001b[0m\n\u001b[1;32m     13\u001b[0m \u001b[0;34m\u001b[0m\u001b[0m\n",
      "\u001b[0;32m~/opt/anaconda3/envs/dsi/lib/python3.7/site-packages/pandas/plotting/_core.py\u001b[0m in \u001b[0;36m__call__\u001b[0;34m(self, *args, **kwargs)\u001b[0m\n\u001b[1;32m    790\u001b[0m         \u001b[0;32mif\u001b[0m \u001b[0mkind\u001b[0m \u001b[0;32min\u001b[0m \u001b[0mself\u001b[0m\u001b[0;34m.\u001b[0m\u001b[0m_dataframe_kinds\u001b[0m\u001b[0;34m:\u001b[0m\u001b[0;34m\u001b[0m\u001b[0;34m\u001b[0m\u001b[0m\n\u001b[1;32m    791\u001b[0m             \u001b[0;32mif\u001b[0m \u001b[0misinstance\u001b[0m\u001b[0;34m(\u001b[0m\u001b[0mdata\u001b[0m\u001b[0;34m,\u001b[0m \u001b[0mABCDataFrame\u001b[0m\u001b[0;34m)\u001b[0m\u001b[0;34m:\u001b[0m\u001b[0;34m\u001b[0m\u001b[0;34m\u001b[0m\u001b[0m\n\u001b[0;32m--> 792\u001b[0;31m                 \u001b[0;32mreturn\u001b[0m \u001b[0mplot_backend\u001b[0m\u001b[0;34m.\u001b[0m\u001b[0mplot\u001b[0m\u001b[0;34m(\u001b[0m\u001b[0mdata\u001b[0m\u001b[0;34m,\u001b[0m \u001b[0mx\u001b[0m\u001b[0;34m=\u001b[0m\u001b[0mx\u001b[0m\u001b[0;34m,\u001b[0m \u001b[0my\u001b[0m\u001b[0;34m=\u001b[0m\u001b[0my\u001b[0m\u001b[0;34m,\u001b[0m \u001b[0mkind\u001b[0m\u001b[0;34m=\u001b[0m\u001b[0mkind\u001b[0m\u001b[0;34m,\u001b[0m \u001b[0;34m**\u001b[0m\u001b[0mkwargs\u001b[0m\u001b[0;34m)\u001b[0m\u001b[0;34m\u001b[0m\u001b[0;34m\u001b[0m\u001b[0m\n\u001b[0m\u001b[1;32m    793\u001b[0m             \u001b[0;32melse\u001b[0m\u001b[0;34m:\u001b[0m\u001b[0;34m\u001b[0m\u001b[0;34m\u001b[0m\u001b[0m\n\u001b[1;32m    794\u001b[0m                 \u001b[0;32mraise\u001b[0m \u001b[0mValueError\u001b[0m\u001b[0;34m(\u001b[0m\u001b[0;34mf\"plot kind {kind} can only be used for data frames\"\u001b[0m\u001b[0;34m)\u001b[0m\u001b[0;34m\u001b[0m\u001b[0;34m\u001b[0m\u001b[0m\n",
      "\u001b[0;32m~/opt/anaconda3/envs/dsi/lib/python3.7/site-packages/pandas/plotting/_matplotlib/__init__.py\u001b[0m in \u001b[0;36mplot\u001b[0;34m(data, kind, **kwargs)\u001b[0m\n\u001b[1;32m     59\u001b[0m             \u001b[0mkwargs\u001b[0m\u001b[0;34m[\u001b[0m\u001b[0;34m\"ax\"\u001b[0m\u001b[0;34m]\u001b[0m \u001b[0;34m=\u001b[0m \u001b[0mgetattr\u001b[0m\u001b[0;34m(\u001b[0m\u001b[0max\u001b[0m\u001b[0;34m,\u001b[0m \u001b[0;34m\"left_ax\"\u001b[0m\u001b[0;34m,\u001b[0m \u001b[0max\u001b[0m\u001b[0;34m)\u001b[0m\u001b[0;34m\u001b[0m\u001b[0;34m\u001b[0m\u001b[0m\n\u001b[1;32m     60\u001b[0m     \u001b[0mplot_obj\u001b[0m \u001b[0;34m=\u001b[0m \u001b[0mPLOT_CLASSES\u001b[0m\u001b[0;34m[\u001b[0m\u001b[0mkind\u001b[0m\u001b[0;34m]\u001b[0m\u001b[0;34m(\u001b[0m\u001b[0mdata\u001b[0m\u001b[0;34m,\u001b[0m \u001b[0;34m**\u001b[0m\u001b[0mkwargs\u001b[0m\u001b[0;34m)\u001b[0m\u001b[0;34m\u001b[0m\u001b[0;34m\u001b[0m\u001b[0m\n\u001b[0;32m---> 61\u001b[0;31m     \u001b[0mplot_obj\u001b[0m\u001b[0;34m.\u001b[0m\u001b[0mgenerate\u001b[0m\u001b[0;34m(\u001b[0m\u001b[0;34m)\u001b[0m\u001b[0;34m\u001b[0m\u001b[0;34m\u001b[0m\u001b[0m\n\u001b[0m\u001b[1;32m     62\u001b[0m     \u001b[0mplot_obj\u001b[0m\u001b[0;34m.\u001b[0m\u001b[0mdraw\u001b[0m\u001b[0;34m(\u001b[0m\u001b[0;34m)\u001b[0m\u001b[0;34m\u001b[0m\u001b[0;34m\u001b[0m\u001b[0m\n\u001b[1;32m     63\u001b[0m     \u001b[0;32mreturn\u001b[0m \u001b[0mplot_obj\u001b[0m\u001b[0;34m.\u001b[0m\u001b[0mresult\u001b[0m\u001b[0;34m\u001b[0m\u001b[0;34m\u001b[0m\u001b[0m\n",
      "\u001b[0;32m~/opt/anaconda3/envs/dsi/lib/python3.7/site-packages/pandas/plotting/_matplotlib/core.py\u001b[0m in \u001b[0;36mgenerate\u001b[0;34m(self)\u001b[0m\n\u001b[1;32m    261\u001b[0m         \u001b[0mself\u001b[0m\u001b[0;34m.\u001b[0m\u001b[0m_compute_plot_data\u001b[0m\u001b[0;34m(\u001b[0m\u001b[0;34m)\u001b[0m\u001b[0;34m\u001b[0m\u001b[0;34m\u001b[0m\u001b[0m\n\u001b[1;32m    262\u001b[0m         \u001b[0mself\u001b[0m\u001b[0;34m.\u001b[0m\u001b[0m_setup_subplots\u001b[0m\u001b[0;34m(\u001b[0m\u001b[0;34m)\u001b[0m\u001b[0;34m\u001b[0m\u001b[0;34m\u001b[0m\u001b[0m\n\u001b[0;32m--> 263\u001b[0;31m         \u001b[0mself\u001b[0m\u001b[0;34m.\u001b[0m\u001b[0m_make_plot\u001b[0m\u001b[0;34m(\u001b[0m\u001b[0;34m)\u001b[0m\u001b[0;34m\u001b[0m\u001b[0;34m\u001b[0m\u001b[0m\n\u001b[0m\u001b[1;32m    264\u001b[0m         \u001b[0mself\u001b[0m\u001b[0;34m.\u001b[0m\u001b[0m_add_table\u001b[0m\u001b[0;34m(\u001b[0m\u001b[0;34m)\u001b[0m\u001b[0;34m\u001b[0m\u001b[0;34m\u001b[0m\u001b[0m\n\u001b[1;32m    265\u001b[0m         \u001b[0mself\u001b[0m\u001b[0;34m.\u001b[0m\u001b[0m_make_legend\u001b[0m\u001b[0;34m(\u001b[0m\u001b[0;34m)\u001b[0m\u001b[0;34m\u001b[0m\u001b[0;34m\u001b[0m\u001b[0m\n",
      "\u001b[0;32m~/opt/anaconda3/envs/dsi/lib/python3.7/site-packages/pandas/plotting/_matplotlib/core.py\u001b[0m in \u001b[0;36m_make_plot\u001b[0;34m(self)\u001b[0m\n\u001b[1;32m    969\u001b[0m         scatter = ax.scatter(\n\u001b[1;32m    970\u001b[0m             \u001b[0mdata\u001b[0m\u001b[0;34m[\u001b[0m\u001b[0mx\u001b[0m\u001b[0;34m]\u001b[0m\u001b[0;34m.\u001b[0m\u001b[0mvalues\u001b[0m\u001b[0;34m,\u001b[0m\u001b[0;34m\u001b[0m\u001b[0;34m\u001b[0m\u001b[0m\n\u001b[0;32m--> 971\u001b[0;31m             \u001b[0mdata\u001b[0m\u001b[0;34m[\u001b[0m\u001b[0my\u001b[0m\u001b[0;34m]\u001b[0m\u001b[0;34m.\u001b[0m\u001b[0mvalues\u001b[0m\u001b[0;34m,\u001b[0m\u001b[0;34m\u001b[0m\u001b[0;34m\u001b[0m\u001b[0m\n\u001b[0m\u001b[1;32m    972\u001b[0m             \u001b[0mc\u001b[0m\u001b[0;34m=\u001b[0m\u001b[0mc_values\u001b[0m\u001b[0;34m,\u001b[0m\u001b[0;34m\u001b[0m\u001b[0;34m\u001b[0m\u001b[0m\n\u001b[1;32m    973\u001b[0m             \u001b[0mlabel\u001b[0m\u001b[0;34m=\u001b[0m\u001b[0mlabel\u001b[0m\u001b[0;34m,\u001b[0m\u001b[0;34m\u001b[0m\u001b[0;34m\u001b[0m\u001b[0m\n",
      "\u001b[0;32m~/opt/anaconda3/envs/dsi/lib/python3.7/site-packages/pandas/core/frame.py\u001b[0m in \u001b[0;36m__getitem__\u001b[0;34m(self, key)\u001b[0m\n\u001b[1;32m   2804\u001b[0m             \u001b[0;32mif\u001b[0m \u001b[0mis_iterator\u001b[0m\u001b[0;34m(\u001b[0m\u001b[0mkey\u001b[0m\u001b[0;34m)\u001b[0m\u001b[0;34m:\u001b[0m\u001b[0;34m\u001b[0m\u001b[0;34m\u001b[0m\u001b[0m\n\u001b[1;32m   2805\u001b[0m                 \u001b[0mkey\u001b[0m \u001b[0;34m=\u001b[0m \u001b[0mlist\u001b[0m\u001b[0;34m(\u001b[0m\u001b[0mkey\u001b[0m\u001b[0;34m)\u001b[0m\u001b[0;34m\u001b[0m\u001b[0;34m\u001b[0m\u001b[0m\n\u001b[0;32m-> 2806\u001b[0;31m             \u001b[0mindexer\u001b[0m \u001b[0;34m=\u001b[0m \u001b[0mself\u001b[0m\u001b[0;34m.\u001b[0m\u001b[0mloc\u001b[0m\u001b[0;34m.\u001b[0m\u001b[0m_get_listlike_indexer\u001b[0m\u001b[0;34m(\u001b[0m\u001b[0mkey\u001b[0m\u001b[0;34m,\u001b[0m \u001b[0maxis\u001b[0m\u001b[0;34m=\u001b[0m\u001b[0;36m1\u001b[0m\u001b[0;34m,\u001b[0m \u001b[0mraise_missing\u001b[0m\u001b[0;34m=\u001b[0m\u001b[0;32mTrue\u001b[0m\u001b[0;34m)\u001b[0m\u001b[0;34m[\u001b[0m\u001b[0;36m1\u001b[0m\u001b[0;34m]\u001b[0m\u001b[0;34m\u001b[0m\u001b[0;34m\u001b[0m\u001b[0m\n\u001b[0m\u001b[1;32m   2807\u001b[0m \u001b[0;34m\u001b[0m\u001b[0m\n\u001b[1;32m   2808\u001b[0m         \u001b[0;31m# take() does not accept boolean indexers\u001b[0m\u001b[0;34m\u001b[0m\u001b[0;34m\u001b[0m\u001b[0;34m\u001b[0m\u001b[0m\n",
      "\u001b[0;32m~/opt/anaconda3/envs/dsi/lib/python3.7/site-packages/pandas/core/indexing.py\u001b[0m in \u001b[0;36m_get_listlike_indexer\u001b[0;34m(self, key, axis, raise_missing)\u001b[0m\n\u001b[1;32m   1551\u001b[0m \u001b[0;34m\u001b[0m\u001b[0m\n\u001b[1;32m   1552\u001b[0m         self._validate_read_indexer(\n\u001b[0;32m-> 1553\u001b[0;31m             \u001b[0mkeyarr\u001b[0m\u001b[0;34m,\u001b[0m \u001b[0mindexer\u001b[0m\u001b[0;34m,\u001b[0m \u001b[0mo\u001b[0m\u001b[0;34m.\u001b[0m\u001b[0m_get_axis_number\u001b[0m\u001b[0;34m(\u001b[0m\u001b[0maxis\u001b[0m\u001b[0;34m)\u001b[0m\u001b[0;34m,\u001b[0m \u001b[0mraise_missing\u001b[0m\u001b[0;34m=\u001b[0m\u001b[0mraise_missing\u001b[0m\u001b[0;34m\u001b[0m\u001b[0;34m\u001b[0m\u001b[0m\n\u001b[0m\u001b[1;32m   1554\u001b[0m         )\n\u001b[1;32m   1555\u001b[0m         \u001b[0;32mreturn\u001b[0m \u001b[0mkeyarr\u001b[0m\u001b[0;34m,\u001b[0m \u001b[0mindexer\u001b[0m\u001b[0;34m\u001b[0m\u001b[0;34m\u001b[0m\u001b[0m\n",
      "\u001b[0;32m~/opt/anaconda3/envs/dsi/lib/python3.7/site-packages/pandas/core/indexing.py\u001b[0m in \u001b[0;36m_validate_read_indexer\u001b[0;34m(self, key, indexer, axis, raise_missing)\u001b[0m\n\u001b[1;32m   1638\u001b[0m             \u001b[0;32mif\u001b[0m \u001b[0mmissing\u001b[0m \u001b[0;34m==\u001b[0m \u001b[0mlen\u001b[0m\u001b[0;34m(\u001b[0m\u001b[0mindexer\u001b[0m\u001b[0;34m)\u001b[0m\u001b[0;34m:\u001b[0m\u001b[0;34m\u001b[0m\u001b[0;34m\u001b[0m\u001b[0m\n\u001b[1;32m   1639\u001b[0m                 \u001b[0maxis_name\u001b[0m \u001b[0;34m=\u001b[0m \u001b[0mself\u001b[0m\u001b[0;34m.\u001b[0m\u001b[0mobj\u001b[0m\u001b[0;34m.\u001b[0m\u001b[0m_get_axis_name\u001b[0m\u001b[0;34m(\u001b[0m\u001b[0maxis\u001b[0m\u001b[0;34m)\u001b[0m\u001b[0;34m\u001b[0m\u001b[0;34m\u001b[0m\u001b[0m\n\u001b[0;32m-> 1640\u001b[0;31m                 \u001b[0;32mraise\u001b[0m \u001b[0mKeyError\u001b[0m\u001b[0;34m(\u001b[0m\u001b[0;34mf\"None of [{key}] are in the [{axis_name}]\"\u001b[0m\u001b[0;34m)\u001b[0m\u001b[0;34m\u001b[0m\u001b[0;34m\u001b[0m\u001b[0m\n\u001b[0m\u001b[1;32m   1641\u001b[0m \u001b[0;34m\u001b[0m\u001b[0m\n\u001b[1;32m   1642\u001b[0m             \u001b[0;31m# We (temporarily) allow for some missing keys with .loc, except in\u001b[0m\u001b[0;34m\u001b[0m\u001b[0;34m\u001b[0m\u001b[0;34m\u001b[0m\u001b[0m\n",
      "\u001b[0;31mKeyError\u001b[0m: \"None of [Int64Index([6, 5, 6, 2, 2, 6, 6, 6, 6, 6,\\n            ...\\n            2, 2, 2, 2, 2, 2, 2, 2, 2, 2],\\n           dtype='int64', length=59396)] are in the [columns]\""
     ]
    },
    {
     "data": {
      "text/plain": [
       "<Figure size 504x504 with 0 Axes>"
      ]
     },
     "metadata": {},
     "output_type": "display_data"
    },
    {
     "data": {
      "image/png": "[encoded data removed]",
      "text/plain": [
       "<Figure size 720x576 with 1 Axes>"
      ]
     },
     "metadata": {
      "needs_background": "light"
     },
     "output_type": "display_data"
    }
   ],
   "source": [
    "# plt.figure(figsize=(7,7));\n",
    "\n",
    "# ## Plot scatter by cluster / color, and centroids\n",
    "# colors = [\"red\", \"green\", \"blue\",'yellow','orange','black','purple']\n",
    "# df2['color'] = df2['predictions'].map(lambda p: colors[p])\n",
    "\n",
    "# ax = df2.plot(    \n",
    "#     kind=\"scatter\", \n",
    "#     x=X2, y=y2,\n",
    "#     figsize=(10,8),\n",
    "#     c = df2['color']\n",
    "# # )\n",
    "\n",
    "# # centroids.plot(\n",
    "# #     kind=\"scatter\", \n",
    "# #     x=X2, y=y2, \n",
    "# #     marker=\"*\", c=[\"r\", \"g\", \"b\",'y','o','b','p'], s=550,\n",
    "# #     ax=ax\n",
    "# );"
   ]
  },
  {
   "cell_type": "markdown",
   "metadata": {},
   "source": [
    "## let's try something different"
   ]
  },
  {
   "cell_type": "code",
   "execution_count": 226,
   "metadata": {},
   "outputs": [
    {
     "data": {
      "text/plain": [
       "Index(['username', 'to', 'text', 'retweets', 'favorites', 'replies', 'id',\n",
       "       'permalink', 'author_id', 'date', 'formatted_date', 'hashtags',\n",
       "       'mentions', 'urls'],\n",
       "      dtype='object')"
      ]
     },
     "execution_count": 226,
     "metadata": {},
     "output_type": "execute_result"
    }
   ],
   "source": [
    "df.columns"
   ]
  },
  {
   "cell_type": "code",
   "execution_count": 227,
   "metadata": {},
   "outputs": [
    {
     "data": {
      "text/plain": [
       "username\n",
       "MileyCyrus         1292.0\n",
       "EvanMcMullin       1274.0\n",
       "DiamondandSilk     1237.0\n",
       "MaksCzuperski      1164.0\n",
       "mitchellvii        1055.0\n",
       "                    ...  \n",
       "bonga_online          0.0\n",
       "bongo_tongo           0.0\n",
       "bonitapajarita        0.0\n",
       "bonniecsweeney        0.0\n",
       "TaylorSolomon24       0.0\n",
       "Name: retweets, Length: 8574, dtype: float64"
      ]
     },
     "execution_count": 227,
     "metadata": {},
     "output_type": "execute_result"
    }
   ],
   "source": [
    "df.groupby('username')['retweets'].mean().sort_values(ascending=False)"
   ]
  },
  {
   "cell_type": "code",
   "execution_count": 213,
   "metadata": {},
   "outputs": [
    {
     "data": {
      "text/html": [
       "<div>\n",
       "<style scoped>\n",
       "    .dataframe tbody tr th:only-of-type {\n",
       "        vertical-align: middle;\n",
       "    }\n",
       "\n",
       "    .dataframe tbody tr th {\n",
       "        vertical-align: top;\n",
       "    }\n",
       "\n",
       "    .dataframe thead th {\n",
       "        text-align: right;\n",
       "    }\n",
       "</style>\n",
       "<table border=\"1\" class=\"dataframe\">\n",
       "  <thead>\n",
       "    <tr style=\"text-align: right;\">\n",
       "      <th></th>\n",
       "      <th>username</th>\n",
       "      <th>to</th>\n",
       "      <th>text</th>\n",
       "      <th>retweets</th>\n",
       "      <th>favorites</th>\n",
       "      <th>replies</th>\n",
       "      <th>id</th>\n",
       "      <th>permalink</th>\n",
       "      <th>author_id</th>\n",
       "      <th>date</th>\n",
       "      <th>formatted_date</th>\n",
       "      <th>hashtags</th>\n",
       "      <th>mentions</th>\n",
       "      <th>urls</th>\n",
       "    </tr>\n",
       "  </thead>\n",
       "  <tbody>\n",
       "    <tr>\n",
       "      <th>119</th>\n",
       "      <td>CharismaMolotov</td>\n",
       "      <td>self</td>\n",
       "      <td>I evacuated in the face of the #MendocinoComplex Fire, the biggest fire in California history. I personally know 4 families who lost everything. Trump didn't bother coming here. His festering #narcissism blinds him to the plight of Americans he's supposed to care about.</td>\n",
       "      <td>1</td>\n",
       "      <td>7</td>\n",
       "      <td>0</td>\n",
       "      <td>1040308565486043138</td>\n",
       "      <td>https://twitter.com/CharismaMolotov/status/1040308565486043138</td>\n",
       "      <td>21048844</td>\n",
       "      <td>2018-09-13 18:37:44+00:00</td>\n",
       "      <td>Thu Sep 13 18:37:44 +0000 2018</td>\n",
       "      <td>#MendocinoComplex #narcissism</td>\n",
       "      <td>0</td>\n",
       "      <td>None</td>\n",
       "    </tr>\n",
       "    <tr>\n",
       "      <th>121</th>\n",
       "      <td>CharismaMolotov</td>\n",
       "      <td>realDonaldTrump</td>\n",
       "      <td>I evacuated in the face of the #MendocinoComplex Fire, the biggest fire in California history. I personally know 4 families who lost everything. You didn't bother coming here. Your festering #narcissism blinds you to the plight of Americans you're supposed to care about.</td>\n",
       "      <td>9</td>\n",
       "      <td>46</td>\n",
       "      <td>3</td>\n",
       "      <td>1040270285625348096</td>\n",
       "      <td>https://twitter.com/CharismaMolotov/status/1040270285625348096</td>\n",
       "      <td>21048844</td>\n",
       "      <td>2018-09-13 16:05:38+00:00</td>\n",
       "      <td>Thu Sep 13 16:05:38 +0000 2018</td>\n",
       "      <td>#MendocinoComplex #narcissism</td>\n",
       "      <td>0</td>\n",
       "      <td>None</td>\n",
       "    </tr>\n",
       "    <tr>\n",
       "      <th>279</th>\n",
       "      <td>mortalia</td>\n",
       "      <td>SenFeinstein</td>\n",
       "      <td>And yet the USFS C-130 crews who were instrumental in taming the #carrfire, #holyFire #fergusonfire #MendocinoComplex and more are being cut. California relies on these #airtankers and the season has just begun. @SenKamalaHarris</td>\n",
       "      <td>0</td>\n",
       "      <td>1</td>\n",
       "      <td>0</td>\n",
       "      <td>1035703242422870016</td>\n",
       "      <td>https://twitter.com/mortalia/status/1035703242422870016</td>\n",
       "      <td>17095733</td>\n",
       "      <td>2018-09-01 01:37:50+00:00</td>\n",
       "      <td>Sat Sep 01 01:37:50 +0000 2018</td>\n",
       "      <td>#carrfire #holyFire #fergusonfire #MendocinoComplex #airtankers</td>\n",
       "      <td>@SenKamalaHarris</td>\n",
       "      <td>https://twitter.com/prkrbro/status/1035661730867638274</td>\n",
       "    </tr>\n",
       "    <tr>\n",
       "      <th>799</th>\n",
       "      <td>EdJoyce</td>\n",
       "      <td>self</td>\n",
       "      <td>22-Aug-2018 #MendocinoComplex The largest wildfire in California history is 410,482 acres &amp;amp; 74% contained https://bit.ly/2nigcic #CarrFire The 6th most destructive, 7th largest and 13th deadliest wildfire in state history is 229,651 acres, 93% contained https://bit.ly/2v9ZWmN</td>\n",
       "      <td>4</td>\n",
       "      <td>4</td>\n",
       "      <td>1</td>\n",
       "      <td>1032408322605891584</td>\n",
       "      <td>https://twitter.com/EdJoyce/status/1032408322605891584</td>\n",
       "      <td>73452506</td>\n",
       "      <td>2018-08-22 23:24:59+00:00</td>\n",
       "      <td>Wed Aug 22 23:24:59 +0000 2018</td>\n",
       "      <td>#MendocinoComplex #CarrFire</td>\n",
       "      <td>0</td>\n",
       "      <td>https://bit.ly/2nigcic,https://bit.ly/2v9ZWmN</td>\n",
       "    </tr>\n",
       "    <tr>\n",
       "      <th>925</th>\n",
       "      <td>LakeCoNews</td>\n",
       "      <td>self</td>\n",
       "      <td>Are you a Mendocino Complex fire survivor in need of supplies? #MendocinoComplex http://bit.ly/2OSUUDv</td>\n",
       "      <td>2</td>\n",
       "      <td>2</td>\n",
       "      <td>0</td>\n",
       "      <td>1032001915889045504</td>\n",
       "      <td>https://twitter.com/LakeCoNews/status/1032001915889045504</td>\n",
       "      <td>20944400</td>\n",
       "      <td>2018-08-21 20:30:05+00:00</td>\n",
       "      <td>Tue Aug 21 20:30:05 +0000 2018</td>\n",
       "      <td>#MendocinoComplex</td>\n",
       "      <td>0</td>\n",
       "      <td>http://bit.ly/2OSUUDv</td>\n",
       "    </tr>\n",
       "    <tr>\n",
       "      <th>...</th>\n",
       "      <td>...</td>\n",
       "      <td>...</td>\n",
       "      <td>...</td>\n",
       "      <td>...</td>\n",
       "      <td>...</td>\n",
       "      <td>...</td>\n",
       "      <td>...</td>\n",
       "      <td>...</td>\n",
       "      <td>...</td>\n",
       "      <td>...</td>\n",
       "      <td>...</td>\n",
       "      <td>...</td>\n",
       "      <td>...</td>\n",
       "      <td>...</td>\n",
       "    </tr>\n",
       "    <tr>\n",
       "      <th>49411</th>\n",
       "      <td>RedCrossNorCal</td>\n",
       "      <td>self</td>\n",
       "      <td>Q: What do Red Crossers do on a Sunday night? A: Pack the shelter supplies, of course! Truck is ready to go first thing in the morning to support our shelter operations in Mendocino/Lake/Napa. Thank you, team! #RedCross #mendocinocomplex #riverfire #ranchFire</td>\n",
       "      <td>9</td>\n",
       "      <td>29</td>\n",
       "      <td>1</td>\n",
       "      <td>1023805768510959617</td>\n",
       "      <td>https://twitter.com/RedCrossNorCal/status/1023805768510959617</td>\n",
       "      <td>23646194</td>\n",
       "      <td>2018-07-30 05:41:31+00:00</td>\n",
       "      <td>Mon Jul 30 05:41:31 +0000 2018</td>\n",
       "      <td>#RedCross #mendocinocomplex #riverfire #ranchFire</td>\n",
       "      <td>0</td>\n",
       "      <td>None</td>\n",
       "    </tr>\n",
       "    <tr>\n",
       "      <th>49412</th>\n",
       "      <td>RedCrossNorCal</td>\n",
       "      <td>self</td>\n",
       "      <td>Q: What do Red Crossers do on a Sunday night? A: Pack the shelter supplies, of course! Truck is ready to go first thing in the morning to support our shelter operations in Mendocino/Lake/Napa. Thank you, team! #RedCross #mendocinocomplex #riverfire #ranchFire</td>\n",
       "      <td>9</td>\n",
       "      <td>29</td>\n",
       "      <td>1</td>\n",
       "      <td>1023805768510959617</td>\n",
       "      <td>https://twitter.com/RedCrossNorCal/status/1023805768510959617</td>\n",
       "      <td>23646194</td>\n",
       "      <td>2018-07-30 05:41:31+00:00</td>\n",
       "      <td>Mon Jul 30 05:41:31 +0000 2018</td>\n",
       "      <td>#RedCross #mendocinocomplex #riverfire #ranchFire</td>\n",
       "      <td>0</td>\n",
       "      <td>None</td>\n",
       "    </tr>\n",
       "    <tr>\n",
       "      <th>49413</th>\n",
       "      <td>RedCrossNorCal</td>\n",
       "      <td>self</td>\n",
       "      <td>Q: What do Red Crossers do on a Sunday night? A: Pack the shelter supplies, of course! Truck is ready to go first thing in the morning to support our shelter operations in Mendocino/Lake/Napa. Thank you, team! #RedCross #mendocinocomplex #riverfire #ranchFire</td>\n",
       "      <td>9</td>\n",
       "      <td>29</td>\n",
       "      <td>1</td>\n",
       "      <td>1023805768510959617</td>\n",
       "      <td>https://twitter.com/RedCrossNorCal/status/1023805768510959617</td>\n",
       "      <td>23646194</td>\n",
       "      <td>2018-07-30 05:41:31+00:00</td>\n",
       "      <td>Mon Jul 30 05:41:31 +0000 2018</td>\n",
       "      <td>#RedCross #mendocinocomplex #riverfire #ranchFire</td>\n",
       "      <td>0</td>\n",
       "      <td>None</td>\n",
       "    </tr>\n",
       "    <tr>\n",
       "      <th>49414</th>\n",
       "      <td>RedCrossNorCal</td>\n",
       "      <td>self</td>\n",
       "      <td>Q: What do Red Crossers do on a Sunday night? A: Pack the shelter supplies, of course! Truck is ready to go first thing in the morning to support our shelter operations in Mendocino/Lake/Napa. Thank you, team! #RedCross #mendocinocomplex #riverfire #ranchFire</td>\n",
       "      <td>9</td>\n",
       "      <td>29</td>\n",
       "      <td>1</td>\n",
       "      <td>1023805768510959617</td>\n",
       "      <td>https://twitter.com/RedCrossNorCal/status/1023805768510959617</td>\n",
       "      <td>23646194</td>\n",
       "      <td>2018-07-30 05:41:31+00:00</td>\n",
       "      <td>Mon Jul 30 05:41:31 +0000 2018</td>\n",
       "      <td>#RedCross #mendocinocomplex #riverfire #ranchFire</td>\n",
       "      <td>0</td>\n",
       "      <td>None</td>\n",
       "    </tr>\n",
       "    <tr>\n",
       "      <th>50393</th>\n",
       "      <td>abidingblog</td>\n",
       "      <td>RepSwalwell</td>\n",
       "      <td>The volatile #MendocinoComplex fires, #River &amp;amp; #Ranch (our area), the #CarrFire (Redding), and the #FergusonFire (Yosemite) are straining available resources. Fatigue increases the risk to firefighters. Grateful for them. Thinking of those lost and their families.</td>\n",
       "      <td>1</td>\n",
       "      <td>20</td>\n",
       "      <td>0</td>\n",
       "      <td>1023742136007712769</td>\n",
       "      <td>https://twitter.com/abidingblog/status/1023742136007712769</td>\n",
       "      <td>392850939</td>\n",
       "      <td>2018-07-30 01:28:40+00:00</td>\n",
       "      <td>Mon Jul 30 01:28:40 +0000 2018</td>\n",
       "      <td>#MendocinoComplex #River #Ranch #CarrFire #FergusonFire</td>\n",
       "      <td>0</td>\n",
       "      <td>None</td>\n",
       "    </tr>\n",
       "  </tbody>\n",
       "</table>\n",
       "<p>553 rows × 14 columns</p>\n",
       "</div>"
      ],
      "text/plain": [
       "              username               to  \\\n",
       "119    CharismaMolotov             self   \n",
       "121    CharismaMolotov  realDonaldTrump   \n",
       "279           mortalia     SenFeinstein   \n",
       "799            EdJoyce             self   \n",
       "925         LakeCoNews             self   \n",
       "...                ...              ...   \n",
       "49411   RedCrossNorCal             self   \n",
       "49412   RedCrossNorCal             self   \n",
       "49413   RedCrossNorCal             self   \n",
       "49414   RedCrossNorCal             self   \n",
       "50393      abidingblog      RepSwalwell   \n",
       "\n",
       "                                                                                                                                                                                                                                                                                           text  \\\n",
       "119              I evacuated in the face of the #MendocinoComplex Fire, the biggest fire in California history. I personally know 4 families who lost everything. Trump didn't bother coming here. His festering #narcissism blinds him to the plight of Americans he's supposed to care about.   \n",
       "121             I evacuated in the face of the #MendocinoComplex Fire, the biggest fire in California history. I personally know 4 families who lost everything. You didn't bother coming here. Your festering #narcissism blinds you to the plight of Americans you're supposed to care about.   \n",
       "279                                                        And yet the USFS C-130 crews who were instrumental in taming the #carrfire, #holyFire #fergusonfire #MendocinoComplex and more are being cut. California relies on these #airtankers and the season has just begun. @SenKamalaHarris   \n",
       "799    22-Aug-2018 #MendocinoComplex The largest wildfire in California history is 410,482 acres &amp; 74% contained https://bit.ly/2nigcic #CarrFire The 6th most destructive, 7th largest and 13th deadliest wildfire in state history is 229,651 acres, 93% contained https://bit.ly/2v9ZWmN   \n",
       "925                                                                                                                                                                                      Are you a Mendocino Complex fire survivor in need of supplies? #MendocinoComplex http://bit.ly/2OSUUDv   \n",
       "...                                                                                                                                                                                                                                                                                         ...   \n",
       "49411                       Q: What do Red Crossers do on a Sunday night? A: Pack the shelter supplies, of course! Truck is ready to go first thing in the morning to support our shelter operations in Mendocino/Lake/Napa. Thank you, team! #RedCross #mendocinocomplex #riverfire #ranchFire   \n",
       "49412                       Q: What do Red Crossers do on a Sunday night? A: Pack the shelter supplies, of course! Truck is ready to go first thing in the morning to support our shelter operations in Mendocino/Lake/Napa. Thank you, team! #RedCross #mendocinocomplex #riverfire #ranchFire   \n",
       "49413                       Q: What do Red Crossers do on a Sunday night? A: Pack the shelter supplies, of course! Truck is ready to go first thing in the morning to support our shelter operations in Mendocino/Lake/Napa. Thank you, team! #RedCross #mendocinocomplex #riverfire #ranchFire   \n",
       "49414                       Q: What do Red Crossers do on a Sunday night? A: Pack the shelter supplies, of course! Truck is ready to go first thing in the morning to support our shelter operations in Mendocino/Lake/Napa. Thank you, team! #RedCross #mendocinocomplex #riverfire #ranchFire   \n",
       "50393              The volatile #MendocinoComplex fires, #River &amp; #Ranch (our area), the #CarrFire (Redding), and the #FergusonFire (Yosemite) are straining available resources. Fatigue increases the risk to firefighters. Grateful for them. Thinking of those lost and their families.   \n",
       "\n",
       "       retweets  favorites  replies                   id  \\\n",
       "119           1          7        0  1040308565486043138   \n",
       "121           9         46        3  1040270285625348096   \n",
       "279           0          1        0  1035703242422870016   \n",
       "799           4          4        1  1032408322605891584   \n",
       "925           2          2        0  1032001915889045504   \n",
       "...         ...        ...      ...                  ...   \n",
       "49411         9         29        1  1023805768510959617   \n",
       "49412         9         29        1  1023805768510959617   \n",
       "49413         9         29        1  1023805768510959617   \n",
       "49414         9         29        1  1023805768510959617   \n",
       "50393         1         20        0  1023742136007712769   \n",
       "\n",
       "                                                            permalink  \\\n",
       "119    https://twitter.com/CharismaMolotov/status/1040308565486043138   \n",
       "121    https://twitter.com/CharismaMolotov/status/1040270285625348096   \n",
       "279           https://twitter.com/mortalia/status/1035703242422870016   \n",
       "799            https://twitter.com/EdJoyce/status/1032408322605891584   \n",
       "925         https://twitter.com/LakeCoNews/status/1032001915889045504   \n",
       "...                                                               ...   \n",
       "49411   https://twitter.com/RedCrossNorCal/status/1023805768510959617   \n",
       "49412   https://twitter.com/RedCrossNorCal/status/1023805768510959617   \n",
       "49413   https://twitter.com/RedCrossNorCal/status/1023805768510959617   \n",
       "49414   https://twitter.com/RedCrossNorCal/status/1023805768510959617   \n",
       "50393      https://twitter.com/abidingblog/status/1023742136007712769   \n",
       "\n",
       "       author_id                       date                  formatted_date  \\\n",
       "119     21048844  2018-09-13 18:37:44+00:00  Thu Sep 13 18:37:44 +0000 2018   \n",
       "121     21048844  2018-09-13 16:05:38+00:00  Thu Sep 13 16:05:38 +0000 2018   \n",
       "279     17095733  2018-09-01 01:37:50+00:00  Sat Sep 01 01:37:50 +0000 2018   \n",
       "799     73452506  2018-08-22 23:24:59+00:00  Wed Aug 22 23:24:59 +0000 2018   \n",
       "925     20944400  2018-08-21 20:30:05+00:00  Tue Aug 21 20:30:05 +0000 2018   \n",
       "...          ...                        ...                             ...   \n",
       "49411   23646194  2018-07-30 05:41:31+00:00  Mon Jul 30 05:41:31 +0000 2018   \n",
       "49412   23646194  2018-07-30 05:41:31+00:00  Mon Jul 30 05:41:31 +0000 2018   \n",
       "49413   23646194  2018-07-30 05:41:31+00:00  Mon Jul 30 05:41:31 +0000 2018   \n",
       "49414   23646194  2018-07-30 05:41:31+00:00  Mon Jul 30 05:41:31 +0000 2018   \n",
       "50393  392850939  2018-07-30 01:28:40+00:00  Mon Jul 30 01:28:40 +0000 2018   \n",
       "\n",
       "                                                              hashtags  \\\n",
       "119                                      #MendocinoComplex #narcissism   \n",
       "121                                      #MendocinoComplex #narcissism   \n",
       "279    #carrfire #holyFire #fergusonfire #MendocinoComplex #airtankers   \n",
       "799                                        #MendocinoComplex #CarrFire   \n",
       "925                                                  #MendocinoComplex   \n",
       "...                                                                ...   \n",
       "49411                #RedCross #mendocinocomplex #riverfire #ranchFire   \n",
       "49412                #RedCross #mendocinocomplex #riverfire #ranchFire   \n",
       "49413                #RedCross #mendocinocomplex #riverfire #ranchFire   \n",
       "49414                #RedCross #mendocinocomplex #riverfire #ranchFire   \n",
       "50393          #MendocinoComplex #River #Ranch #CarrFire #FergusonFire   \n",
       "\n",
       "               mentions  \\\n",
       "119                   0   \n",
       "121                   0   \n",
       "279    @SenKamalaHarris   \n",
       "799                   0   \n",
       "925                   0   \n",
       "...                 ...   \n",
       "49411                 0   \n",
       "49412                 0   \n",
       "49413                 0   \n",
       "49414                 0   \n",
       "50393                 0   \n",
       "\n",
       "                                                         urls  \n",
       "119                                                      None  \n",
       "121                                                      None  \n",
       "279    https://twitter.com/prkrbro/status/1035661730867638274  \n",
       "799             https://bit.ly/2nigcic,https://bit.ly/2v9ZWmN  \n",
       "925                                     http://bit.ly/2OSUUDv  \n",
       "...                                                       ...  \n",
       "49411                                                    None  \n",
       "49412                                                    None  \n",
       "49413                                                    None  \n",
       "49414                                                    None  \n",
       "50393                                                    None  \n",
       "\n",
       "[553 rows x 14 columns]"
      ]
     },
     "execution_count": 213,
     "metadata": {},
     "output_type": "execute_result"
    }
   ],
   "source": [
    "pd.options.display.max_colwidth = 400\n",
    "df[df['text'].str.contains(\"lies\")]\n"
   ]
  }
 ],
 "metadata": {
  "kernelspec": {
   "display_name": "Python 3",
   "language": "python",
   "name": "python3"
  },
  "language_info": {
   "codemirror_mode": {
    "name": "ipython",
    "version": 3
   },
   "file_extension": ".py",
   "mimetype": "text/x-python",
   "name": "python",
   "nbconvert_exporter": "python",
   "pygments_lexer": "ipython3",
   "version": "3.7.7"
  }
 },
 "nbformat": 4,
 "nbformat_minor": 4
}
