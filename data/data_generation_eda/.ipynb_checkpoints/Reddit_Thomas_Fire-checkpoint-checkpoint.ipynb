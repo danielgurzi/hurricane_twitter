{
 "cells": [
  {
   "cell_type": "code",
   "execution_count": 1,
   "metadata": {},
   "outputs": [],
   "source": [
    "import numpy as np\n",
    "import pandas as pd\n",
    "import requests"
   ]
  },
  {
   "cell_type": "code",
   "execution_count": 2,
   "metadata": {},
   "outputs": [],
   "source": [
    "# Define the base url\n",
    "baseurl = 'https://api.pushshift.io/reddit/search/submission'"
   ]
  },
  {
   "cell_type": "code",
   "execution_count": 3,
   "metadata": {},
   "outputs": [],
   "source": [
    "\n",
    "parameters = {\n",
    "    'subreddit': 'california', \n",
    "    'size': 1000, \n",
    "    'before' : '1514592000',\n",
    "    'after' : '1513296000'\n",
    "}\n"
   ]
  },
  {
   "cell_type": "code",
   "execution_count": 4,
   "metadata": {},
   "outputs": [],
   "source": [
    "# list of dictionaries \n",
    "def get_posts(params, baseurl='https://api.pushshift.io/reddit/search/submission'):\n",
    "    res = requests.get(baseurl, parameters)\n",
    "    if res.status_code != 200:\n",
    "        return f'Error! Status code: {res.status_code}'\n",
    "    else:\n",
    "        data = res.json()\n",
    "        posts = data['data']\n",
    "    return posts"
   ]
  },
  {
   "cell_type": "code",
   "execution_count": 5,
   "metadata": {},
   "outputs": [],
   "source": [
    "posts = get_posts(parameters)"
   ]
  },
  {
   "cell_type": "code",
   "execution_count": 6,
   "metadata": {},
   "outputs": [],
   "source": [
    "df = pd.DataFrame(posts)"
   ]
  },
  {
   "cell_type": "code",
   "execution_count": 8,
   "metadata": {},
   "outputs": [
    {
     "name": "stdout",
     "output_type": "stream",
     "text": [
      "Strengthening Santa Ana Winds Return to Thomas Fire\n",
      "Hey all, we're fundraising to take Christmas presents to the kids still in the Ventura County evacuation center for the Thomas Fire. We're coordinating with the Red Cross to find out how many kids need presents. Please consider chipping in!\n",
      "California Thomas wildfire still threatens thousands of homes\n",
      "Thomas Fire: Powerful winds threaten to fuel blaze in Southern California\n",
      "The wind howling above Santa Barbara, CA fueling the Thomas Fire\n",
      "Hundreds of homes in Montecito threatened as winds push Thomas fire toward coast; new evacuations\n",
      "California's Thomas Fire 45 Percent Contained\n",
      "It’s has been bad year for California fires. With the Tubbs fire claiming 22 lives and destroying 5,600+ buildings and over 36,000 acres in October and now the Thomas fire burning over 270,000 acres destroying 1,300+ buildings and claiming 1 life.\n",
      "The Thomas fire is now the second largest in modern California history\n",
      "Another day of reckoning: Return of powerful winds make Thomas fire dangerous again\n",
      "Thomas fire in California now the 2nd largest in state's history\n",
      "Evacuation orders lifted in Santa Barbara County as crews tame massive Thomas fire\n",
      "Thomas Fire in Southern California joins list of destructive blazes in the state\n",
      "Fire in California: Map Shows Thomas Fire on Track to Break Record as Largest Wildfire\n",
      "Thomas fire becomes largest wildfire on record in California\n",
      "California's monster Thomas fire becomes largest-ever wildfire in state history\n",
      "I'm throwing a benefit club night in Hollywood. All proceeds will be donated to families impacted by the St Thomas Fires, which is still not contained\n",
      "Help Thomas Fire Relief and get a cool shirt or sticker! I work at a local screen printing shop and we've started a campaign to help the SB and Ventura communities by selling shirts and stickers with original designs. All profits go to United Way!\n",
      "So did the Thomas Fire get as much attention as the Eerie snowfall?\n"
     ]
    }
   ],
   "source": [
    "# Search the title for the presence of a string of our choice\n",
    "def searcher(string):\n",
    "    for item in df['title']:\n",
    "        \n",
    "        if string in item:\n",
    "            print(item)\n",
    "            \n",
    "searcher('Thomas')    \n",
    "\n"
   ]
  },
  {
   "cell_type": "code",
   "execution_count": 11,
   "metadata": {},
   "outputs": [
    {
     "data": {
      "text/plain": [
       "0      1513303747\n",
       "1      1513305892\n",
       "2      1513308302\n",
       "3      1513309709\n",
       "4      1513311525\n",
       "          ...    \n",
       "369    1514578434\n",
       "370    1514584414\n",
       "371    1514585824\n",
       "372    1514586749\n",
       "373    1514590599\n",
       "Name: created_utc, Length: 374, dtype: int64"
      ]
     },
     "execution_count": 11,
     "metadata": {},
     "output_type": "execute_result"
    }
   ],
   "source": [
    "# These are the Unix time stamps, 1513303747 = 12/15/2017 @ 2:09am (UTC), https://www.unixtimestamp.com/index.php <- Use to convert\n",
    "df['created_utc']"
   ]
  },
  {
   "cell_type": "code",
   "execution_count": 10,
   "metadata": {},
   "outputs": [
    {
     "data": {
      "text/plain": [
       "Index(['author', 'author_flair_css_class', 'author_flair_text', 'brand_safe',\n",
       "       'can_mod_post', 'contest_mode', 'created_utc', 'domain', 'full_link',\n",
       "       'id', 'is_crosspostable', 'is_reddit_media_domain', 'is_self',\n",
       "       'is_video', 'link_flair_text', 'locked', 'num_comments',\n",
       "       'num_crossposts', 'over_18', 'parent_whitelist_status', 'permalink',\n",
       "       'pinned', 'retrieved_on', 'score', 'selftext', 'spoiler', 'stickied',\n",
       "       'subreddit', 'subreddit_id', 'subreddit_type', 'thumbnail',\n",
       "       'thumbnail_height', 'thumbnail_width', 'title', 'url',\n",
       "       'whitelist_status', 'post_hint', 'preview', 'crosspost_parent',\n",
       "       'crosspost_parent_list', 'edited', 'media', 'media_embed',\n",
       "       'secure_media', 'secure_media_embed', 'banned_by'],\n",
       "      dtype='object')"
      ]
     },
     "execution_count": 10,
     "metadata": {},
     "output_type": "execute_result"
    }
   ],
   "source": [
    "df.columns\n"
   ]
  },
  {
   "cell_type": "code",
   "execution_count": null,
   "metadata": {},
   "outputs": [],
   "source": []
  }
 ],
 "metadata": {
  "kernelspec": {
   "display_name": "Python 3",
   "language": "python",
   "name": "python3"
  },
  "language_info": {
   "codemirror_mode": {
    "name": "ipython",
    "version": 3
   },
   "file_extension": ".py",
   "mimetype": "text/x-python",
   "name": "python",
   "nbconvert_exporter": "python",
   "pygments_lexer": "ipython3",
   "version": "3.7.7"
  }
 },
 "nbformat": 4,
 "nbformat_minor": 4
}
