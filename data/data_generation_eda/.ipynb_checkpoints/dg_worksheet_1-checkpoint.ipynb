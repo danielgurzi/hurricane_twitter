{
 "cells": [
  {
   "cell_type": "markdown",
   "metadata": {},
   "source": [
    "## Imports"
   ]
  },
  {
   "cell_type": "code",
   "execution_count": 171,
   "metadata": {},
   "outputs": [],
   "source": [
    "import pandas as pd\n",
    "import numpy as np\n",
    "from IPython.display import display, Markdown, Latex\n",
    "import GetOldTweets3 as got\n",
    "from sklearn.model_selection import train_test_split, GridSearchCV\n",
    "from sklearn.pipeline import Pipeline\n",
    "from sklearn.linear_model import LogisticRegression\n",
    "from sklearn.feature_extraction.text import CountVectorizer, TfidfVectorizer, ENGLISH_STOP_WORDS\n",
    "from nltk.corpus import stopwords\n",
    "import datetime\n",
    "\n",
    "\n",
    "pd.set_option(\"max_rows\", 75)\n"
   ]
  },
  {
   "cell_type": "markdown",
   "metadata": {},
   "source": [
    "## Function to Pull Tweets"
   ]
  },
  {
   "cell_type": "code",
   "execution_count": 125,
   "metadata": {},
   "outputs": [],
   "source": [
    "# This function uses Reem's GOT3 code to import tweets given query, date range and number of tweets and saves it to a csv file\n",
    "\n",
    "def get_tweets(query,start='2006-03-21',end=datetime.date.today().strftime(\"%Y-%m-%d\"),maxtweets=1000):\n",
    "    tweetCriteria = got.manager.TweetCriteria().setQuerySearch(query)\\\n",
    "                                               .setSince(start)\\\n",
    "                                               .setUntil(end)\\\n",
    "                                               .setMaxTweets(maxtweets)\n",
    "    tweet = got.manager.TweetManager.getTweets(tweetCriteria)\n",
    "\n",
    "    tweet_dict = tweetCriteria.__dict__\n",
    "    file_name = (tweet_dict['querySearch']+\\\n",
    "                 tweet_dict['since']+\\\n",
    "                 tweet_dict['until']).replace(\" \",\"_\")   \n",
    "    df = pd.DataFrame([t.__dict__ for t in tweet])\n",
    "    return df.to_csv(f'./data/{query}_{maxtweets}.csv', index=False)"
   ]
  },
  {
   "cell_type": "markdown",
   "metadata": {},
   "source": [
    "## Function to pull word frequency from tweet csv"
   ]
  },
  {
   "cell_type": "code",
   "execution_count": 172,
   "metadata": {},
   "outputs": [],
   "source": [
    "# this is the stop words list for the countvectorizer\n",
    "custom_words = list(set(\n",
    "    list(ENGLISH_STOP_WORDS) + list(stopwords.words('english')) + \n",
    "    ['and','of','for','the','com','amp','https','http']))\n",
    "\n",
    "# This function outputs a dataframe with text used by good handles and top text that isn't used by good handles\n",
    "def frequency_words(df, handles):\n",
    "    # dataframe of tweets from friendly handles given approved by client\n",
    "    info = tweets[tweets['username'].str.lower().isin([x.lower() for x in handles])]\n",
    "    #instantiate countvect for good info and transform tweets from safe_handles to dataframe\n",
    "    info_cvec = CountVectorizer(stop_words = custom_words)\n",
    "    info_cv = info_cvec.fit_transform(info.text)\n",
    "    info_words = pd.DataFrame(info_cv.toarray(), columns = info_cvec.get_feature_names())\n",
    "    info_count = info_words.sum().sort_values(ascending=False)\n",
    "    \n",
    "    #create new word list with words used by verified accounts\n",
    "    new_stops = custom_words + info_cvec.get_feature_names()\n",
    "    misinfo = tweets[~tweets['username'].str.lower().isin([x.lower() for x in handles])]\n",
    "\n",
    "    misinfo_cvec = CountVectorizer(stop_words = new_stops)\n",
    "    misinfo_cv = misinfo_cvec.fit_transform(misinfo.text)\n",
    "    misinfo_words = pd.DataFrame(misinfo_cv.toarray(), columns = misinfo_cvec.get_feature_names())\n",
    "    \n",
    "    misinfo_count = misinfo_words.sum().sort_values(ascending=False)\n",
    "    return info_count, misinfo_count\n"
   ]
  },
  {
   "cell_type": "markdown",
   "metadata": {},
   "source": [
    "## Set Disaster Info"
   ]
  },
  {
   "cell_type": "code",
   "execution_count": 170,
   "metadata": {},
   "outputs": [],
   "source": [
    "search = 'bushfire'\n",
    "start_date = '2019-12-20'\n",
    "end_date = '2020-02-29'\n",
    "tweet_count = 10000\n",
    "\n",
    "mendocino_handles = ['fema','usaid','calfire','MendoSheriff','calfire_meu', 'cagovernor','FEMARegion9','r5_fire_news', 'MendocinoNF']\n",
    "aussie_handles = ['afacnews','act_esa','abcemergency','frnsw','qldfes','cfsalerts']\n",
    "\n",
    "good_handles = aussie_handles"
   ]
  },
  {
   "cell_type": "markdown",
   "metadata": {},
   "source": [
    "### Run function to pull tweets with above parameters and save as CSV"
   ]
  },
  {
   "cell_type": "code",
   "execution_count": 145,
   "metadata": {},
   "outputs": [],
   "source": [
    "# pull tweets with keyword search, optional: start and end dates and maxtweets to pull(default is 1000)\n",
    "get_tweets(search,start=start_date, end= end_date, maxtweets=tweet_count)"
   ]
  },
  {
   "cell_type": "markdown",
   "metadata": {},
   "source": [
    "### Import CSV back into Jupyter as a DataFrame"
   ]
  },
  {
   "cell_type": "code",
   "execution_count": 146,
   "metadata": {},
   "outputs": [
    {
     "data": {
      "text/plain": [
       "(10000, 15)"
      ]
     },
     "execution_count": 146,
     "metadata": {},
     "output_type": "execute_result"
    }
   ],
   "source": [
    "# pull csv of tweets back in as a dataframe for parsing\n",
    "tweets = pd.read_csv(f'./data/{search}_{tweet_count}.csv')\n",
    "\n",
    "# drop rows with NaN in the text column\n",
    "tweets.dropna(axis=0,subset = ['text'],inplace=True)\n",
    "tweets.shape"
   ]
  },
  {
   "cell_type": "code",
   "execution_count": 177,
   "metadata": {},
   "outputs": [],
   "source": [
    "retweets = pd.read_csv('./Mendocino/#MendocinoComplex2018-07-262018-10-1.csv')"
   ]
  },
  {
   "cell_type": "code",
   "execution_count": 264,
   "metadata": {},
   "outputs": [
    {
     "data": {
      "text/plain": [
       "(8619, 16)"
      ]
     },
     "execution_count": 264,
     "metadata": {},
     "output_type": "execute_result"
    }
   ],
   "source": [
    "retweets.shape"
   ]
  },
  {
   "cell_type": "code",
   "execution_count": 266,
   "metadata": {},
   "outputs": [
    {
     "data": {
      "text/plain": [
       "(59707, 16)"
      ]
     },
     "execution_count": 266,
     "metadata": {},
     "output_type": "execute_result"
    }
   ],
   "source": [
    "# take each tweet and multiply the row by the number of retweets as a weight for that tweet\n",
    "for ind, row in retweets.iterrows():\n",
    "    for rt in range(0,retweets['retweets'].iloc[ind]):\n",
    "        retweets = retweets.append(pd.Series(row,index=test.columns))\n",
    "retweets.shape\n",
    "#     \n"
   ]
  },
  {
   "cell_type": "code",
   "execution_count": 268,
   "metadata": {},
   "outputs": [],
   "source": [
    "retweets.to_csv('./data/mendocino_retweets.csv')"
   ]
  },
  {
   "cell_type": "code",
   "execution_count": 211,
   "metadata": {},
   "outputs": [
    {
     "data": {
      "text/plain": [
       "Unnamed: 0                                                     8618\n",
       "username                                                CALFIRE_MEU\n",
       "to                                                              NaN\n",
       "text              Incident Update #RanchFire #RiverFire is now t...\n",
       "retweets                                                         48\n",
       "favorites                                                        44\n",
       "replies                                                           1\n",
       "id                                              1023112231397949440\n",
       "permalink         https://twitter.com/CALFIRE_MEU/status/1023112...\n",
       "author_id                                                3962153832\n",
       "date                                      2018-07-28 07:45:39+00:00\n",
       "formatted_date                       Sat Jul 28 07:45:39 +0000 2018\n",
       "hashtags                    #RanchFire #RiverFire #MendocinoComplex\n",
       "mentions                                                          0\n",
       "geo                                                             NaN\n",
       "urls                                                            NaN\n",
       "Name: 8618, dtype: object"
      ]
     },
     "execution_count": 211,
     "metadata": {},
     "output_type": "execute_result"
    }
   ],
   "source": [
    "retweets.loc[8618]"
   ]
  },
  {
   "cell_type": "code",
   "execution_count": 203,
   "metadata": {
    "collapsed": true,
    "jupyter": {
     "outputs_hidden": true
    }
   },
   "outputs": [
    {
     "data": {
      "text/html": [
       "<div>\n",
       "<style scoped>\n",
       "    .dataframe tbody tr th:only-of-type {\n",
       "        vertical-align: middle;\n",
       "    }\n",
       "\n",
       "    .dataframe tbody tr th {\n",
       "        vertical-align: top;\n",
       "    }\n",
       "\n",
       "    .dataframe thead th {\n",
       "        text-align: right;\n",
       "    }\n",
       "</style>\n",
       "<table border=\"1\" class=\"dataframe\">\n",
       "  <thead>\n",
       "    <tr style=\"text-align: right;\">\n",
       "      <th></th>\n",
       "      <th>Unnamed: 0</th>\n",
       "      <th>username</th>\n",
       "      <th>to</th>\n",
       "      <th>text</th>\n",
       "      <th>retweets</th>\n",
       "      <th>favorites</th>\n",
       "      <th>replies</th>\n",
       "      <th>id</th>\n",
       "      <th>permalink</th>\n",
       "      <th>author_id</th>\n",
       "      <th>date</th>\n",
       "      <th>formatted_date</th>\n",
       "      <th>hashtags</th>\n",
       "      <th>mentions</th>\n",
       "      <th>geo</th>\n",
       "      <th>urls</th>\n",
       "    </tr>\n",
       "  </thead>\n",
       "  <tbody>\n",
       "    <tr>\n",
       "      <th>8616</th>\n",
       "      <td>8616</td>\n",
       "      <td>Jasamsdestiny</td>\n",
       "      <td>NaN</td>\n",
       "      <td>Just a quick FYI peeps. Ranch and River have m...</td>\n",
       "      <td>5</td>\n",
       "      <td>3</td>\n",
       "      <td>4</td>\n",
       "      <td>1023117759104860160</td>\n",
       "      <td>https://twitter.com/Jasamsdestiny/status/10231...</td>\n",
       "      <td>129877411</td>\n",
       "      <td>2018-07-28 08:07:37+00:00</td>\n",
       "      <td>Sat Jul 28 08:07:37 +0000 2018</td>\n",
       "      <td>#MendocinoComplex #RiverFire #Ranchfire #Mendo...</td>\n",
       "      <td>0</td>\n",
       "      <td>NaN</td>\n",
       "      <td>NaN</td>\n",
       "    </tr>\n",
       "  </tbody>\n",
       "</table>\n",
       "</div>"
      ],
      "text/plain": [
       "      Unnamed: 0       username   to  \\\n",
       "8616        8616  Jasamsdestiny  NaN   \n",
       "\n",
       "                                                   text  retweets  favorites  \\\n",
       "8616  Just a quick FYI peeps. Ranch and River have m...         5          3   \n",
       "\n",
       "      replies                   id  \\\n",
       "8616        4  1023117759104860160   \n",
       "\n",
       "                                              permalink  author_id  \\\n",
       "8616  https://twitter.com/Jasamsdestiny/status/10231...  129877411   \n",
       "\n",
       "                           date                  formatted_date  \\\n",
       "8616  2018-07-28 08:07:37+00:00  Sat Jul 28 08:07:37 +0000 2018   \n",
       "\n",
       "                                               hashtags mentions  geo urls  \n",
       "8616  #MendocinoComplex #RiverFire #Ranchfire #Mendo...        0  NaN  NaN  "
      ]
     },
     "execution_count": 203,
     "metadata": {},
     "output_type": "execute_result"
    }
   ],
   "source": [
    "# retweets['mentions'].fillna(0, inplace=True)\n",
    "texts = retweets[retweets['text'].str.contains(\"Just a quick FYI peeps.\")]\n",
    "texts.head()"
   ]
  },
  {
   "cell_type": "markdown",
   "metadata": {},
   "source": [
    "### Run Dataframe through Vectorizer function to output word counts"
   ]
  },
  {
   "cell_type": "code",
   "execution_count": 173,
   "metadata": {},
   "outputs": [
    {
     "data": {
      "text/html": [
       "<div>\n",
       "<style scoped>\n",
       "    .dataframe tbody tr th:only-of-type {\n",
       "        vertical-align: middle;\n",
       "    }\n",
       "\n",
       "    .dataframe tbody tr th {\n",
       "        vertical-align: top;\n",
       "    }\n",
       "\n",
       "    .dataframe thead th {\n",
       "        text-align: right;\n",
       "    }\n",
       "</style>\n",
       "<table border=\"1\" class=\"dataframe\">\n",
       "  <thead>\n",
       "    <tr style=\"text-align: right;\">\n",
       "      <th></th>\n",
       "      <th>count</th>\n",
       "    </tr>\n",
       "  </thead>\n",
       "  <tbody>\n",
       "    <tr>\n",
       "      <th>australia</th>\n",
       "      <td>2190</td>\n",
       "    </tr>\n",
       "    <tr>\n",
       "      <th>relief</th>\n",
       "      <td>2027</td>\n",
       "    </tr>\n",
       "    <tr>\n",
       "      <th>crisis</th>\n",
       "      <td>1358</td>\n",
       "    </tr>\n",
       "    <tr>\n",
       "      <th>au</th>\n",
       "      <td>1262</td>\n",
       "    </tr>\n",
       "    <tr>\n",
       "      <th>australian</th>\n",
       "      <td>1116</td>\n",
       "    </tr>\n",
       "    <tr>\n",
       "      <th>...</th>\n",
       "      <td>...</td>\n",
       "    </tr>\n",
       "    <tr>\n",
       "      <th>macfarlane</th>\n",
       "      <td>1</td>\n",
       "    </tr>\n",
       "    <tr>\n",
       "      <th>macens</th>\n",
       "      <td>1</td>\n",
       "    </tr>\n",
       "    <tr>\n",
       "      <th>maccaheraldsun</th>\n",
       "      <td>1</td>\n",
       "    </tr>\n",
       "    <tr>\n",
       "      <th>macarthur</th>\n",
       "      <td>1</td>\n",
       "    </tr>\n",
       "    <tr>\n",
       "      <th>interesse</th>\n",
       "      <td>1</td>\n",
       "    </tr>\n",
       "  </tbody>\n",
       "</table>\n",
       "<p>22776 rows × 1 columns</p>\n",
       "</div>"
      ],
      "text/plain": [
       "                count\n",
       "australia        2190\n",
       "relief           2027\n",
       "crisis           1358\n",
       "au               1262\n",
       "australian       1116\n",
       "...               ...\n",
       "macfarlane          1\n",
       "macens              1\n",
       "maccaheraldsun      1\n",
       "macarthur           1\n",
       "interesse           1\n",
       "\n",
       "[22776 rows x 1 columns]"
      ]
     },
     "execution_count": 173,
     "metadata": {},
     "output_type": "execute_result"
    }
   ],
   "source": [
    "\n",
    "good_info, bad_info = frequency_words(tweets, good_handles)\n",
    "word_count = pd.DataFrame(bad_info, columns = ['count'])\n",
    "\n",
    "# word_count.loc['arson']\n",
    "\n",
    "\n",
    "word_count"
   ]
  },
  {
   "cell_type": "code",
   "execution_count": null,
   "metadata": {},
   "outputs": [],
   "source": []
  },
  {
   "cell_type": "code",
   "execution_count": null,
   "metadata": {},
   "outputs": [],
   "source": []
  },
  {
   "cell_type": "code",
   "execution_count": null,
   "metadata": {},
   "outputs": [],
   "source": []
  }
 ],
 "metadata": {
  "kernelspec": {
   "display_name": "Python 3",
   "language": "python",
   "name": "python3"
  },
  "language_info": {
   "codemirror_mode": {
    "name": "ipython",
    "version": 3
   },
   "file_extension": ".py",
   "mimetype": "text/x-python",
   "name": "python",
   "nbconvert_exporter": "python",
   "pygments_lexer": "ipython3",
   "version": "3.8.3"
  }
 },
 "nbformat": 4,
 "nbformat_minor": 4
}
